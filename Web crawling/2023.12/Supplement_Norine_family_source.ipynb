{
 "cells": [
  {
   "cell_type": "markdown",
   "id": "a85c6589-587e-4e0a-91ef-2a271f17d5d5",
   "metadata": {},
   "source": [
    "### Download organisms/Family data from Norine"
   ]
  },
  {
   "cell_type": "code",
   "execution_count": 1,
   "id": "593d7feb-b6ef-46fd-b8b0-416a30d1d04f",
   "metadata": {},
   "outputs": [],
   "source": [
    "##import libraries\n",
    "from bs4 import BeautifulSoup\n",
    "import requests\n",
    "import pandas as pd\n",
    "import numpy as np\n",
    "import os"
   ]
  },
  {
   "cell_type": "code",
   "execution_count": 2,
   "id": "fce653ac-fbd4-4d32-9dc4-75f0468a6951",
   "metadata": {},
   "outputs": [
    {
     "data": {
      "text/html": [
       "<div>\n",
       "<style scoped>\n",
       "    .dataframe tbody tr th:only-of-type {\n",
       "        vertical-align: middle;\n",
       "    }\n",
       "\n",
       "    .dataframe tbody tr th {\n",
       "        vertical-align: top;\n",
       "    }\n",
       "\n",
       "    .dataframe thead th {\n",
       "        text-align: right;\n",
       "    }\n",
       "</style>\n",
       "<table border=\"1\" class=\"dataframe\">\n",
       "  <thead>\n",
       "    <tr style=\"text-align: right;\">\n",
       "      <th></th>\n",
       "      <th>CPid</th>\n",
       "      <th>NORINE</th>\n",
       "    </tr>\n",
       "  </thead>\n",
       "  <tbody>\n",
       "    <tr>\n",
       "      <th>0</th>\n",
       "      <td>CP00674</td>\n",
       "      <td>NOR00533</td>\n",
       "    </tr>\n",
       "    <tr>\n",
       "      <th>1</th>\n",
       "      <td>CP00675</td>\n",
       "      <td>NOR00656</td>\n",
       "    </tr>\n",
       "    <tr>\n",
       "      <th>2</th>\n",
       "      <td>CP00680</td>\n",
       "      <td>NOR00519</td>\n",
       "    </tr>\n",
       "    <tr>\n",
       "      <th>3</th>\n",
       "      <td>CP00687</td>\n",
       "      <td>NOR00547</td>\n",
       "    </tr>\n",
       "    <tr>\n",
       "      <th>4</th>\n",
       "      <td>CP00689</td>\n",
       "      <td>NOR00530</td>\n",
       "    </tr>\n",
       "  </tbody>\n",
       "</table>\n",
       "</div>"
      ],
      "text/plain": [
       "      CPid    NORINE\n",
       "0  CP00674  NOR00533\n",
       "1  CP00675  NOR00656\n",
       "2  CP00680  NOR00519\n",
       "3  CP00687  NOR00547\n",
       "4  CP00689  NOR00530"
      ]
     },
     "execution_count": 2,
     "metadata": {},
     "output_type": "execute_result"
    }
   ],
   "source": [
    "##get norine id\n",
    "data = pd.read_excel('ids.xlsx', header=0)\n",
    "data.head()"
   ]
  },
  {
   "cell_type": "code",
   "execution_count": 3,
   "id": "d0ece401-01a0-4fd1-9cc8-3e66626e3922",
   "metadata": {},
   "outputs": [],
   "source": [
    "url = 'https://norine.univ-lille.fr/norine/rest/id/xml/'\n",
    "for nor in data['NORINE']:\n",
    "    if not os.path.exists(\"xmls/\"+nor+\".xml\"):\n",
    "        #print(nor)\n",
    "        response = requests.get(url+nor)\n",
    "\n",
    "        if response.status_code == 200:\n",
    "            with open(\"xmls/\"+nor+\".xml\", \"wb\") as file:\n",
    "                file.write(response.content)\n",
    "        else:\n",
    "            print(\"请求失败！状态码：%d\" % response.status_code)"
   ]
  },
  {
   "cell_type": "code",
   "execution_count": 4,
   "id": "6c2d6168-84c4-472d-a415-b5bfd378b60b",
   "metadata": {},
   "outputs": [],
   "source": [
    "ORGANISMS = pd.DataFrame(data=None, columns=['NORINE', 'ORGANISMS', 'TAXON ID'])\n",
    "norids = []\n",
    "organisms = []\n",
    "taxids = []\n",
    "\n",
    "for nor in data['NORINE']:\n",
    "    peptide_xml = BeautifulSoup(open(\"xmls/\"+nor+\".xml\"), 'xml')\n",
    "    organism_list = peptide_xml.find_all('organism')\n",
    "    \n",
    "    #organisms = []\n",
    "    #taxids = []\n",
    "    if len(organism_list) > 0:\n",
    "        for child in organism_list:\n",
    "            organism = np.NAN\n",
    "            taxid = np.NAN\n",
    "            if child.find('name') is not None: organism = child.find('name').text\n",
    "            if child.taxid is not None: taxid = child.taxid.text\n",
    "            #organisms.append(organism)\n",
    "            #taxids.append(taxid)\n",
    "            #norids.append(nor)\n",
    "            ORGANISMS = pd.concat([ORGANISMS, \n",
    "                                  pd.DataFrame([[nor, organism, taxid]], \n",
    "                                               columns=['NORINE', 'ORGANISMS', 'TAXON ID'])],\n",
    "                                  axis=0, ignore_index=True\n",
    "                                 )\n",
    "    else:\n",
    "        ORGANISMS = pd.concat([ORGANISMS, \n",
    "                               pd.DataFrame([[nor, np.NAN, np.NAN]], \n",
    "                                            columns=['NORINE', 'ORGANISMS', 'TAXON ID'])],\n",
    "                              axis=0, ignore_index=True\n",
    "                             )"
   ]
  },
  {
   "cell_type": "code",
   "execution_count": 5,
   "id": "fcc1308a-abd1-463b-b932-40245724ddd6",
   "metadata": {},
   "outputs": [
    {
     "data": {
      "text/html": [
       "<div>\n",
       "<style scoped>\n",
       "    .dataframe tbody tr th:only-of-type {\n",
       "        vertical-align: middle;\n",
       "    }\n",
       "\n",
       "    .dataframe tbody tr th {\n",
       "        vertical-align: top;\n",
       "    }\n",
       "\n",
       "    .dataframe thead th {\n",
       "        text-align: right;\n",
       "    }\n",
       "</style>\n",
       "<table border=\"1\" class=\"dataframe\">\n",
       "  <thead>\n",
       "    <tr style=\"text-align: right;\">\n",
       "      <th></th>\n",
       "      <th>NORINE</th>\n",
       "      <th>ORGANISMS</th>\n",
       "      <th>TAXON ID</th>\n",
       "    </tr>\n",
       "  </thead>\n",
       "  <tbody>\n",
       "    <tr>\n",
       "      <th>0</th>\n",
       "      <td>NOR00533</td>\n",
       "      <td>Phakellia sp.</td>\n",
       "      <td>NaN</td>\n",
       "    </tr>\n",
       "    <tr>\n",
       "      <th>1</th>\n",
       "      <td>NOR00656</td>\n",
       "      <td>Bacillus cereus</td>\n",
       "      <td>1396</td>\n",
       "    </tr>\n",
       "    <tr>\n",
       "      <th>2</th>\n",
       "      <td>NOR00656</td>\n",
       "      <td>Bacillus weihenstephanensis</td>\n",
       "      <td>86662</td>\n",
       "    </tr>\n",
       "    <tr>\n",
       "      <th>3</th>\n",
       "      <td>NOR00519</td>\n",
       "      <td>Axinella</td>\n",
       "      <td>12958</td>\n",
       "    </tr>\n",
       "    <tr>\n",
       "      <th>4</th>\n",
       "      <td>NOR00547</td>\n",
       "      <td>Hymeniacidon sp.</td>\n",
       "      <td>NaN</td>\n",
       "    </tr>\n",
       "  </tbody>\n",
       "</table>\n",
       "</div>"
      ],
      "text/plain": [
       "     NORINE                    ORGANISMS TAXON ID\n",
       "0  NOR00533                Phakellia sp.      NaN\n",
       "1  NOR00656              Bacillus cereus     1396\n",
       "2  NOR00656  Bacillus weihenstephanensis    86662\n",
       "3  NOR00519                     Axinella    12958\n",
       "4  NOR00547             Hymeniacidon sp.      NaN"
      ]
     },
     "execution_count": 5,
     "metadata": {},
     "output_type": "execute_result"
    }
   ],
   "source": [
    "#ORGANISMS = pd.DataFrame({'NORINE':norids, 'ORGANISMS':organisms, 'TAXON ID':taxids})\n",
    "ORGANISMS.head()"
   ]
  },
  {
   "cell_type": "code",
   "execution_count": 6,
   "id": "1c1281af-7db6-4d67-bce6-79610575ffc6",
   "metadata": {},
   "outputs": [],
   "source": [
    "ORGANISMS.to_excel('ORGANISMS.xlsx', index=False, header=True)"
   ]
  },
  {
   "cell_type": "code",
   "execution_count": 10,
   "id": "bbcb19cb-ae44-4910-9abe-9e1fe0b9b112",
   "metadata": {},
   "outputs": [
    {
     "data": {
      "text/html": [
       "<div>\n",
       "<style scoped>\n",
       "    .dataframe tbody tr th:only-of-type {\n",
       "        vertical-align: middle;\n",
       "    }\n",
       "\n",
       "    .dataframe tbody tr th {\n",
       "        vertical-align: top;\n",
       "    }\n",
       "\n",
       "    .dataframe thead th {\n",
       "        text-align: right;\n",
       "    }\n",
       "</style>\n",
       "<table border=\"1\" class=\"dataframe\">\n",
       "  <thead>\n",
       "    <tr style=\"text-align: right;\">\n",
       "      <th></th>\n",
       "      <th>CPid</th>\n",
       "      <th>NORINE</th>\n",
       "      <th>ORGANISMS</th>\n",
       "      <th>TAXON ID</th>\n",
       "    </tr>\n",
       "  </thead>\n",
       "  <tbody>\n",
       "    <tr>\n",
       "      <th>0</th>\n",
       "      <td>CP00674</td>\n",
       "      <td>NOR00533</td>\n",
       "      <td>Phakellia sp.</td>\n",
       "      <td>NaN</td>\n",
       "    </tr>\n",
       "    <tr>\n",
       "      <th>1</th>\n",
       "      <td>CP00675</td>\n",
       "      <td>NOR00656</td>\n",
       "      <td>Bacillus cereus</td>\n",
       "      <td>1396</td>\n",
       "    </tr>\n",
       "    <tr>\n",
       "      <th>2</th>\n",
       "      <td>CP00675</td>\n",
       "      <td>NOR00656</td>\n",
       "      <td>Bacillus weihenstephanensis</td>\n",
       "      <td>86662</td>\n",
       "    </tr>\n",
       "    <tr>\n",
       "      <th>3</th>\n",
       "      <td>CP00680</td>\n",
       "      <td>NOR00519</td>\n",
       "      <td>Axinella</td>\n",
       "      <td>12958</td>\n",
       "    </tr>\n",
       "    <tr>\n",
       "      <th>4</th>\n",
       "      <td>CP00687</td>\n",
       "      <td>NOR00547</td>\n",
       "      <td>Hymeniacidon sp.</td>\n",
       "      <td>NaN</td>\n",
       "    </tr>\n",
       "  </tbody>\n",
       "</table>\n",
       "</div>"
      ],
      "text/plain": [
       "      CPid    NORINE                    ORGANISMS TAXON ID\n",
       "0  CP00674  NOR00533                Phakellia sp.      NaN\n",
       "1  CP00675  NOR00656              Bacillus cereus     1396\n",
       "2  CP00675  NOR00656  Bacillus weihenstephanensis    86662\n",
       "3  CP00680  NOR00519                     Axinella    12958\n",
       "4  CP00687  NOR00547             Hymeniacidon sp.      NaN"
      ]
     },
     "execution_count": 10,
     "metadata": {},
     "output_type": "execute_result"
    }
   ],
   "source": [
    "NORINE_ORGANISMS = pd.merge(data, ORGANISMS, how='left')\n",
    "NORINE_ORGANISMS.head()"
   ]
  },
  {
   "cell_type": "code",
   "execution_count": 11,
   "id": "e5e9d24f-e44b-4866-a67f-1fa2ecd82fad",
   "metadata": {},
   "outputs": [
    {
     "data": {
      "text/plain": [
       "765"
      ]
     },
     "execution_count": 11,
     "metadata": {},
     "output_type": "execute_result"
    }
   ],
   "source": [
    "len(NORINE_ORGANISMS)"
   ]
  },
  {
   "cell_type": "code",
   "execution_count": 12,
   "id": "9351d07f-7395-478f-a79d-2c4e7f7c773c",
   "metadata": {},
   "outputs": [],
   "source": [
    "NORINE_ORGANISMS.to_excel('NORINE_ORGANISMS.xlsx', index=False, header=True)"
   ]
  },
  {
   "cell_type": "code",
   "execution_count": 14,
   "id": "604d989f-9073-4205-88a9-fcb48c0550e8",
   "metadata": {},
   "outputs": [
    {
     "data": {
      "text/html": [
       "<div>\n",
       "<style scoped>\n",
       "    .dataframe tbody tr th:only-of-type {\n",
       "        vertical-align: middle;\n",
       "    }\n",
       "\n",
       "    .dataframe tbody tr th {\n",
       "        vertical-align: top;\n",
       "    }\n",
       "\n",
       "    .dataframe thead th {\n",
       "        text-align: right;\n",
       "    }\n",
       "</style>\n",
       "<table border=\"1\" class=\"dataframe\">\n",
       "  <thead>\n",
       "    <tr style=\"text-align: right;\">\n",
       "      <th></th>\n",
       "      <th>NORINE</th>\n",
       "      <th>Family</th>\n",
       "    </tr>\n",
       "  </thead>\n",
       "  <tbody>\n",
       "    <tr>\n",
       "      <th>0</th>\n",
       "      <td>NOR00533</td>\n",
       "      <td>phakellistatin</td>\n",
       "    </tr>\n",
       "    <tr>\n",
       "      <th>1</th>\n",
       "      <td>NOR00656</td>\n",
       "      <td>cereulide</td>\n",
       "    </tr>\n",
       "    <tr>\n",
       "      <th>2</th>\n",
       "      <td>NOR00519</td>\n",
       "      <td>axinastatin</td>\n",
       "    </tr>\n",
       "    <tr>\n",
       "      <th>3</th>\n",
       "      <td>NOR00547</td>\n",
       "      <td>hymenistatin</td>\n",
       "    </tr>\n",
       "    <tr>\n",
       "      <th>4</th>\n",
       "      <td>NOR00530</td>\n",
       "      <td>phakellistatin</td>\n",
       "    </tr>\n",
       "  </tbody>\n",
       "</table>\n",
       "</div>"
      ],
      "text/plain": [
       "     NORINE          Family\n",
       "0  NOR00533  phakellistatin\n",
       "1  NOR00656       cereulide\n",
       "2  NOR00519     axinastatin\n",
       "3  NOR00547    hymenistatin\n",
       "4  NOR00530  phakellistatin"
      ]
     },
     "execution_count": 14,
     "metadata": {},
     "output_type": "execute_result"
    }
   ],
   "source": [
    "## Family\n",
    "FAMILY = pd.DataFrame(data=None, columns=['NORINE', 'Family'])\n",
    "\n",
    "for nor in data['NORINE']:\n",
    "    peptide_xml = BeautifulSoup(open(\"xmls/\"+nor+\".xml\"), 'xml')\n",
    "    family_list = peptide_xml.find_all('family')\n",
    " \n",
    "    if len(family_list) > 0:\n",
    "        for child in family_list:\n",
    "            family = child.text\n",
    "            FAMILY = pd.concat([FAMILY, \n",
    "                                  pd.DataFrame([[nor, family]], \n",
    "                                               columns=['NORINE', 'Family'])],\n",
    "                                  axis=0, ignore_index=True\n",
    "                                 )\n",
    "    else:\n",
    "        FAMILY = pd.concat([FAMILY, \n",
    "                               pd.DataFrame([[nor, np.NAN]], \n",
    "                                            columns=['NORINE', 'Family'])],\n",
    "                              axis=0, ignore_index=True\n",
    "                             )\n",
    "FAMILY.head()"
   ]
  },
  {
   "cell_type": "code",
   "execution_count": 15,
   "id": "3e47fac6-f052-4d14-a864-336806453642",
   "metadata": {},
   "outputs": [],
   "source": [
    "FAMILY.to_excel('FAMILY.xlsx', index=False, header=True)"
   ]
  },
  {
   "cell_type": "code",
   "execution_count": null,
   "id": "a8fbd600-0074-459e-a3c5-6d1e2f06a8d5",
   "metadata": {},
   "outputs": [],
   "source": []
  }
 ],
 "metadata": {
  "kernelspec": {
   "display_name": "Python 3 (ipykernel)",
   "language": "python",
   "name": "python3"
  },
  "language_info": {
   "codemirror_mode": {
    "name": "ipython",
    "version": 3
   },
   "file_extension": ".py",
   "mimetype": "text/x-python",
   "name": "python",
   "nbconvert_exporter": "python",
   "pygments_lexer": "ipython3",
   "version": "3.9.7"
  }
 },
 "nbformat": 4,
 "nbformat_minor": 5
}
