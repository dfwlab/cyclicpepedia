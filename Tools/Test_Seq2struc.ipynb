{
 "cells": [
  {
   "cell_type": "code",
   "execution_count": 1,
   "id": "cultural-figure",
   "metadata": {},
   "outputs": [
    {
     "name": "stdout",
     "output_type": "stream",
     "text": [
      "\n",
      "File Name: sequence2structure.py\n",
      "Author: Dingfeng Wu\n",
      "Creator: Dingfeng Wu\n",
      "Date Created: 2024-01-03\n",
      "Last Modified: 2023-01-05\n",
      "Version: 1.0.0\n",
      "License: MIT License\n",
      "Description: Sequence-to-Structure (Seq2struc) is a computing process based on RDkit and the characteristics of cyclic peptide sequences, which can create cyclic peptide sequecne and convert sequence to cyclic peptide SMILES.\n",
      "\n",
      "Copyright Information: Copyright (c) 2023 dfwlab (https://dfwlab.github.io/)\n",
      "\n",
      "The code in this script can be used under the MIT License.\n",
      "\n"
     ]
    }
   ],
   "source": [
    "import sequence2structure as seq2stru\n",
    "\n",
    "print(seq2stru.__doc__)"
   ]
  },
  {
   "cell_type": "markdown",
   "id": "modern-nebraska",
   "metadata": {},
   "source": [
    "# 1. Peptide sequence with essential amino acids"
   ]
  },
  {
   "cell_type": "code",
   "execution_count": 2,
   "id": "coordinated-monster",
   "metadata": {},
   "outputs": [
    {
     "name": "stdout",
     "output_type": "stream",
     "text": [
      "C[C@H](N)C(=O)N1CCC[C@H]1C(=O)NCC(=O)O\n"
     ]
    },
    {
     "data": {
      "image/svg+xml": [
       "<svg xmlns=\"http://www.w3.org/2000/svg\" xmlns:rdkit=\"http://www.rdkit.org/xml\" xmlns:xlink=\"http://www.w3.org/1999/xlink\" version=\"1.1\" baseProfile=\"full\" xml:space=\"preserve\" width=\"300px\" height=\"300px\" viewBox=\"0 0 300 300\">\n",
       "<!-- END OF HEADER -->\n",
       "<rect style=\"opacity:1.0;fill:#FFFFFF;stroke:none\" width=\"300.0\" height=\"300.0\" x=\"0.0\" y=\"0.0\"> </rect>\n",
       "<path class=\"bond-0 atom-0 atom-1\" d=\"M 41.4,204.9 L 58.7,206.4\" style=\"fill:none;fill-rule:evenodd;stroke:#0000FF;stroke-width:2.0px;stroke-linecap:butt;stroke-linejoin:miter;stroke-opacity:1\"/>\n",
       "<path class=\"bond-0 atom-0 atom-1\" d=\"M 58.7,206.4 L 76.0,207.8\" style=\"fill:none;fill-rule:evenodd;stroke:#000000;stroke-width:2.0px;stroke-linecap:butt;stroke-linejoin:miter;stroke-opacity:1\"/>\n",
       "<path class=\"bond-1 atom-1 atom-2\" d=\"M 76.0,207.8 L 99.0,174.6\" style=\"fill:none;fill-rule:evenodd;stroke:#000000;stroke-width:2.0px;stroke-linecap:butt;stroke-linejoin:miter;stroke-opacity:1\"/>\n",
       "<path class=\"bond-2 atom-2 atom-3\" d=\"M 97.0,177.4 L 114.7,178.9\" style=\"fill:none;fill-rule:evenodd;stroke:#000000;stroke-width:2.0px;stroke-linecap:butt;stroke-linejoin:miter;stroke-opacity:1\"/>\n",
       "<path class=\"bond-2 atom-2 atom-3\" d=\"M 114.7,178.9 L 132.4,180.4\" style=\"fill:none;fill-rule:evenodd;stroke:#FF0000;stroke-width:2.0px;stroke-linecap:butt;stroke-linejoin:miter;stroke-opacity:1\"/>\n",
       "<path class=\"bond-2 atom-2 atom-3\" d=\"M 97.5,171.4 L 115.2,172.9\" style=\"fill:none;fill-rule:evenodd;stroke:#000000;stroke-width:2.0px;stroke-linecap:butt;stroke-linejoin:miter;stroke-opacity:1\"/>\n",
       "<path class=\"bond-2 atom-2 atom-3\" d=\"M 115.2,172.9 L 132.9,174.3\" style=\"fill:none;fill-rule:evenodd;stroke:#FF0000;stroke-width:2.0px;stroke-linecap:butt;stroke-linejoin:miter;stroke-opacity:1\"/>\n",
       "<path class=\"bond-3 atom-1 atom-4\" d=\"M 77.7,210.7 L 77.2,210.9\" style=\"fill:none;fill-rule:evenodd;stroke:#000000;stroke-width:1.0px;stroke-linecap:butt;stroke-linejoin:miter;stroke-opacity:1\"/>\n",
       "<path class=\"bond-3 atom-1 atom-4\" d=\"M 79.3,213.7 L 78.4,214.1\" style=\"fill:none;fill-rule:evenodd;stroke:#000000;stroke-width:1.0px;stroke-linecap:butt;stroke-linejoin:miter;stroke-opacity:1\"/>\n",
       "<path class=\"bond-3 atom-1 atom-4\" d=\"M 81.0,216.6 L 79.6,217.2\" style=\"fill:none;fill-rule:evenodd;stroke:#000000;stroke-width:1.0px;stroke-linecap:butt;stroke-linejoin:miter;stroke-opacity:1\"/>\n",
       "<path class=\"bond-3 atom-1 atom-4\" d=\"M 82.7,219.5 L 80.8,220.4\" style=\"fill:none;fill-rule:evenodd;stroke:#000000;stroke-width:1.0px;stroke-linecap:butt;stroke-linejoin:miter;stroke-opacity:1\"/>\n",
       "<path class=\"bond-3 atom-1 atom-4\" d=\"M 84.3,222.5 L 82.1,223.5\" style=\"fill:none;fill-rule:evenodd;stroke:#000000;stroke-width:1.0px;stroke-linecap:butt;stroke-linejoin:miter;stroke-opacity:1\"/>\n",
       "<path class=\"bond-3 atom-1 atom-4\" d=\"M 86.0,225.4 L 83.3,226.7\" style=\"fill:none;fill-rule:evenodd;stroke:#000000;stroke-width:1.0px;stroke-linecap:butt;stroke-linejoin:miter;stroke-opacity:1\"/>\n",
       "<path class=\"bond-3 atom-1 atom-4\" d=\"M 87.7,228.3 L 84.5,229.9\" style=\"fill:none;fill-rule:evenodd;stroke:#000000;stroke-width:1.0px;stroke-linecap:butt;stroke-linejoin:miter;stroke-opacity:1\"/>\n",
       "<path class=\"bond-3 atom-1 atom-4\" d=\"M 89.3,231.3 L 85.7,233.0\" style=\"fill:none;fill-rule:evenodd;stroke:#000000;stroke-width:1.0px;stroke-linecap:butt;stroke-linejoin:miter;stroke-opacity:1\"/>\n",
       "<path class=\"bond-3 atom-1 atom-4\" d=\"M 91.0,234.2 L 86.9,236.2\" style=\"fill:none;fill-rule:evenodd;stroke:#000000;stroke-width:1.0px;stroke-linecap:butt;stroke-linejoin:miter;stroke-opacity:1\"/>\n",
       "<path class=\"bond-3 atom-1 atom-4\" d=\"M 92.7,237.2 L 88.1,239.3\" style=\"fill:none;fill-rule:evenodd;stroke:#000000;stroke-width:1.0px;stroke-linecap:butt;stroke-linejoin:miter;stroke-opacity:1\"/>\n",
       "<path class=\"bond-3 atom-1 atom-4\" d=\"M 94.3,240.1 L 89.3,242.5\" style=\"fill:none;fill-rule:evenodd;stroke:#000000;stroke-width:1.0px;stroke-linecap:butt;stroke-linejoin:miter;stroke-opacity:1\"/>\n",
       "<path class=\"bond-3 atom-1 atom-4\" d=\"M 96.0,243.0 L 90.5,245.6\" style=\"fill:none;fill-rule:evenodd;stroke:#000000;stroke-width:1.0px;stroke-linecap:butt;stroke-linejoin:miter;stroke-opacity:1\"/>\n",
       "<path class=\"bond-4 atom-5 atom-6\" d=\"M 85.6,131.0 L 93.4,116.8\" style=\"fill:none;fill-rule:evenodd;stroke:#0000FF;stroke-width:2.0px;stroke-linecap:butt;stroke-linejoin:miter;stroke-opacity:1\"/>\n",
       "<path class=\"bond-4 atom-5 atom-6\" d=\"M 93.4,116.8 L 101.2,102.6\" style=\"fill:none;fill-rule:evenodd;stroke:#000000;stroke-width:2.0px;stroke-linecap:butt;stroke-linejoin:miter;stroke-opacity:1\"/>\n",
       "<path class=\"bond-5 atom-6 atom-7\" d=\"M 101.2,102.6 L 142.6,94.1 L 141.2,97.5 Z\" style=\"fill:#000000;fill-rule:evenodd;fill-opacity:1;stroke:#000000;stroke-width:0.5px;stroke-linecap:butt;stroke-linejoin:miter;stroke-opacity:1;\"/>\n",
       "<path class=\"bond-5 atom-6 atom-7\" d=\"M 101.2,102.6 L 141.2,97.5 L 143.5,100.4 Z\" style=\"fill:#000000;fill-rule:evenodd;fill-opacity:1;stroke:#000000;stroke-width:0.5px;stroke-linecap:butt;stroke-linejoin:miter;stroke-opacity:1;\"/>\n",
       "<path class=\"bond-6 atom-7 atom-8\" d=\"M 143.4,100.2 L 150.0,84.4\" style=\"fill:none;fill-rule:evenodd;stroke:#000000;stroke-width:2.0px;stroke-linecap:butt;stroke-linejoin:miter;stroke-opacity:1\"/>\n",
       "<path class=\"bond-6 atom-7 atom-8\" d=\"M 150.0,84.4 L 156.6,68.6\" style=\"fill:none;fill-rule:evenodd;stroke:#FF0000;stroke-width:2.0px;stroke-linecap:butt;stroke-linejoin:miter;stroke-opacity:1\"/>\n",
       "<path class=\"bond-6 atom-7 atom-8\" d=\"M 137.8,97.9 L 144.4,82.1\" style=\"fill:none;fill-rule:evenodd;stroke:#000000;stroke-width:2.0px;stroke-linecap:butt;stroke-linejoin:miter;stroke-opacity:1\"/>\n",
       "<path class=\"bond-6 atom-7 atom-8\" d=\"M 144.4,82.1 L 151.0,66.3\" style=\"fill:none;fill-rule:evenodd;stroke:#FF0000;stroke-width:2.0px;stroke-linecap:butt;stroke-linejoin:miter;stroke-opacity:1\"/>\n",
       "<path class=\"bond-7 atom-6 atom-9\" d=\"M 101.2,102.6 L 73.4,73.2\" style=\"fill:none;fill-rule:evenodd;stroke:#000000;stroke-width:2.0px;stroke-linecap:butt;stroke-linejoin:miter;stroke-opacity:1\"/>\n",
       "<path class=\"bond-8 atom-9 atom-10\" d=\"M 73.4,73.2 L 36.9,90.4\" style=\"fill:none;fill-rule:evenodd;stroke:#000000;stroke-width:2.0px;stroke-linecap:butt;stroke-linejoin:miter;stroke-opacity:1\"/>\n",
       "<path class=\"bond-9 atom-10 atom-11\" d=\"M 36.9,90.4 L 42.0,130.5\" style=\"fill:none;fill-rule:evenodd;stroke:#000000;stroke-width:2.0px;stroke-linecap:butt;stroke-linejoin:miter;stroke-opacity:1\"/>\n",
       "<path class=\"bond-10 atom-11 atom-5\" d=\"M 42.0,130.5 L 59.1,133.7\" style=\"fill:none;fill-rule:evenodd;stroke:#000000;stroke-width:2.0px;stroke-linecap:butt;stroke-linejoin:miter;stroke-opacity:1\"/>\n",
       "<path class=\"bond-10 atom-11 atom-5\" d=\"M 59.1,133.7 L 76.1,137.0\" style=\"fill:none;fill-rule:evenodd;stroke:#0000FF;stroke-width:2.0px;stroke-linecap:butt;stroke-linejoin:miter;stroke-opacity:1\"/>\n",
       "<path class=\"bond-11 atom-2 atom-5\" d=\"M 99.0,174.6 L 92.0,159.8\" style=\"fill:none;fill-rule:evenodd;stroke:#000000;stroke-width:2.0px;stroke-linecap:butt;stroke-linejoin:miter;stroke-opacity:1\"/>\n",
       "<path class=\"bond-11 atom-2 atom-5\" d=\"M 92.0,159.8 L 85.1,145.1\" style=\"fill:none;fill-rule:evenodd;stroke:#0000FF;stroke-width:2.0px;stroke-linecap:butt;stroke-linejoin:miter;stroke-opacity:1\"/>\n",
       "<path class=\"bond-12 atom-12 atom-13\" d=\"M 171.4,128.9 L 188.6,126.7\" style=\"fill:none;fill-rule:evenodd;stroke:#0000FF;stroke-width:2.0px;stroke-linecap:butt;stroke-linejoin:miter;stroke-opacity:1\"/>\n",
       "<path class=\"bond-12 atom-12 atom-13\" d=\"M 188.6,126.7 L 205.8,124.5\" style=\"fill:none;fill-rule:evenodd;stroke:#000000;stroke-width:2.0px;stroke-linecap:butt;stroke-linejoin:miter;stroke-opacity:1\"/>\n",
       "<path class=\"bond-13 atom-13 atom-14\" d=\"M 205.8,124.5 L 230.3,156.6\" style=\"fill:none;fill-rule:evenodd;stroke:#000000;stroke-width:2.0px;stroke-linecap:butt;stroke-linejoin:miter;stroke-opacity:1\"/>\n",
       "<path class=\"bond-14 atom-14 atom-15\" d=\"M 228.2,153.8 L 221.5,169.7\" style=\"fill:none;fill-rule:evenodd;stroke:#000000;stroke-width:2.0px;stroke-linecap:butt;stroke-linejoin:miter;stroke-opacity:1\"/>\n",
       "<path class=\"bond-14 atom-14 atom-15\" d=\"M 221.5,169.7 L 214.9,185.6\" style=\"fill:none;fill-rule:evenodd;stroke:#FF0000;stroke-width:2.0px;stroke-linecap:butt;stroke-linejoin:miter;stroke-opacity:1\"/>\n",
       "<path class=\"bond-14 atom-14 atom-15\" d=\"M 233.8,156.2 L 227.1,172.1\" style=\"fill:none;fill-rule:evenodd;stroke:#000000;stroke-width:2.0px;stroke-linecap:butt;stroke-linejoin:miter;stroke-opacity:1\"/>\n",
       "<path class=\"bond-14 atom-14 atom-15\" d=\"M 227.1,172.1 L 220.5,187.9\" style=\"fill:none;fill-rule:evenodd;stroke:#FF0000;stroke-width:2.0px;stroke-linecap:butt;stroke-linejoin:miter;stroke-opacity:1\"/>\n",
       "<path class=\"bond-15 atom-7 atom-12\" d=\"M 141.2,97.5 L 150.8,110.0\" style=\"fill:none;fill-rule:evenodd;stroke:#000000;stroke-width:2.0px;stroke-linecap:butt;stroke-linejoin:miter;stroke-opacity:1\"/>\n",
       "<path class=\"bond-15 atom-7 atom-12\" d=\"M 150.8,110.0 L 160.3,122.5\" style=\"fill:none;fill-rule:evenodd;stroke:#0000FF;stroke-width:2.0px;stroke-linecap:butt;stroke-linejoin:miter;stroke-opacity:1\"/>\n",
       "<path class=\"bond-16 atom-14 atom-16\" d=\"M 230.3,156.6 L 247.0,154.5\" style=\"fill:none;fill-rule:evenodd;stroke:#000000;stroke-width:2.0px;stroke-linecap:butt;stroke-linejoin:miter;stroke-opacity:1\"/>\n",
       "<path class=\"bond-16 atom-14 atom-16\" d=\"M 247.0,154.5 L 263.8,152.3\" style=\"fill:none;fill-rule:evenodd;stroke:#FF0000;stroke-width:2.0px;stroke-linecap:butt;stroke-linejoin:miter;stroke-opacity:1\"/>\n",
       "<path d=\"M 75.1,207.7 L 76.0,207.8 L 77.1,206.1\" style=\"fill:none;stroke:#000000;stroke-width:2.0px;stroke-linecap:butt;stroke-linejoin:miter;stroke-opacity:1;\"/>\n",
       "<path d=\"M 97.9,176.2 L 99.0,174.6 L 98.7,173.8\" style=\"fill:none;stroke:#000000;stroke-width:2.0px;stroke-linecap:butt;stroke-linejoin:miter;stroke-opacity:1;\"/>\n",
       "<path d=\"M 100.8,103.3 L 101.2,102.6 L 99.8,101.1\" style=\"fill:none;stroke:#000000;stroke-width:2.0px;stroke-linecap:butt;stroke-linejoin:miter;stroke-opacity:1;\"/>\n",
       "<path d=\"M 74.8,74.6 L 73.4,73.2 L 71.6,74.0\" style=\"fill:none;stroke:#000000;stroke-width:2.0px;stroke-linecap:butt;stroke-linejoin:miter;stroke-opacity:1;\"/>\n",
       "<path d=\"M 38.7,89.6 L 36.9,90.4 L 37.2,92.4\" style=\"fill:none;stroke:#000000;stroke-width:2.0px;stroke-linecap:butt;stroke-linejoin:miter;stroke-opacity:1;\"/>\n",
       "<path d=\"M 41.8,128.5 L 42.0,130.5 L 42.9,130.7\" style=\"fill:none;stroke:#000000;stroke-width:2.0px;stroke-linecap:butt;stroke-linejoin:miter;stroke-opacity:1;\"/>\n",
       "<path d=\"M 204.9,124.6 L 205.8,124.5 L 207.0,126.1\" style=\"fill:none;stroke:#000000;stroke-width:2.0px;stroke-linecap:butt;stroke-linejoin:miter;stroke-opacity:1;\"/>\n",
       "<path d=\"M 229.1,155.0 L 230.3,156.6 L 231.1,156.5\" style=\"fill:none;stroke:#000000;stroke-width:2.0px;stroke-linecap:butt;stroke-linejoin:miter;stroke-opacity:1;\"/>\n",
       "<path class=\"atom-0\" d=\"M 13.6 198.7 L 15.2 198.7 L 15.2 203.6 L 21.0 203.6 L 21.0 198.7 L 22.6 198.7 L 22.6 210.2 L 21.0 210.2 L 21.0 204.9 L 15.2 204.9 L 15.2 210.2 L 13.6 210.2 L 13.6 198.7 \" fill=\"#0000FF\"/>\n",
       "<path class=\"atom-0\" d=\"M 24.8 209.8 Q 25.1 209.1, 25.8 208.7 Q 26.4 208.3, 27.3 208.3 Q 28.5 208.3, 29.1 208.9 Q 29.8 209.5, 29.8 210.6 Q 29.8 211.7, 28.9 212.8 Q 28.1 213.8, 26.4 215.1 L 29.9 215.1 L 29.9 215.9 L 24.8 215.9 L 24.8 215.2 Q 26.2 214.2, 27.1 213.4 Q 27.9 212.7, 28.3 212.0 Q 28.7 211.4, 28.7 210.7 Q 28.7 209.9, 28.3 209.5 Q 28.0 209.1, 27.3 209.1 Q 26.7 209.1, 26.3 209.4 Q 25.9 209.6, 25.6 210.2 L 24.8 209.8 \" fill=\"#0000FF\"/>\n",
       "<path class=\"atom-0\" d=\"M 33.2 198.7 L 36.9 204.8 Q 37.3 205.4, 37.9 206.5 Q 38.5 207.6, 38.5 207.6 L 38.5 198.7 L 40.1 198.7 L 40.1 210.2 L 38.5 210.2 L 34.5 203.6 Q 34.0 202.8, 33.5 201.9 Q 33.0 201.0, 32.9 200.7 L 32.9 210.2 L 31.4 210.2 L 31.4 198.7 L 33.2 198.7 \" fill=\"#0000FF\"/>\n",
       "<path class=\"atom-3\" d=\"M 134.0 177.9 Q 134.0 175.2, 135.4 173.6 Q 136.7 172.1, 139.3 172.1 Q 141.8 172.1, 143.2 173.6 Q 144.5 175.2, 144.5 177.9 Q 144.5 180.7, 143.2 182.3 Q 141.8 183.8, 139.3 183.8 Q 136.8 183.8, 135.4 182.3 Q 134.0 180.7, 134.0 177.9 M 139.3 182.5 Q 141.0 182.5, 142.0 181.4 Q 142.9 180.2, 142.9 177.9 Q 142.9 175.7, 142.0 174.5 Q 141.0 173.4, 139.3 173.4 Q 137.5 173.4, 136.6 174.5 Q 135.6 175.6, 135.6 177.9 Q 135.6 180.2, 136.6 181.4 Q 137.5 182.5, 139.3 182.5 \" fill=\"#FF0000\"/>\n",
       "<path class=\"atom-5\" d=\"M 79.2 132.3 L 83.0 138.4 Q 83.3 139.0, 83.9 140.0 Q 84.5 141.1, 84.6 141.2 L 84.6 132.3 L 86.1 132.3 L 86.1 143.7 L 84.5 143.7 L 80.5 137.1 Q 80.0 136.3, 79.5 135.5 Q 79.0 134.6, 78.9 134.3 L 78.9 143.7 L 77.4 143.7 L 77.4 132.3 L 79.2 132.3 \" fill=\"#0000FF\"/>\n",
       "<path class=\"atom-8\" d=\"M 151.6 60.2 Q 151.6 57.5, 152.9 55.9 Q 154.3 54.4, 156.8 54.4 Q 159.4 54.4, 160.7 55.9 Q 162.1 57.5, 162.1 60.2 Q 162.1 63.0, 160.7 64.6 Q 159.3 66.1, 156.8 66.1 Q 154.3 66.1, 152.9 64.6 Q 151.6 63.0, 151.6 60.2 M 156.8 64.8 Q 158.6 64.8, 159.5 63.7 Q 160.5 62.5, 160.5 60.2 Q 160.5 58.0, 159.5 56.8 Q 158.6 55.7, 156.8 55.7 Q 155.1 55.7, 154.1 56.8 Q 153.2 57.9, 153.2 60.2 Q 153.2 62.5, 154.1 63.7 Q 155.1 64.8, 156.8 64.8 \" fill=\"#FF0000\"/>\n",
       "<path class=\"atom-12\" d=\"M 150.2 123.9 L 151.7 123.9 L 151.7 128.7 L 157.6 128.7 L 157.6 123.9 L 159.1 123.9 L 159.1 135.3 L 157.6 135.3 L 157.6 130.0 L 151.7 130.0 L 151.7 135.3 L 150.2 135.3 L 150.2 123.9 \" fill=\"#0000FF\"/>\n",
       "<path class=\"atom-12\" d=\"M 163.2 123.9 L 166.9 129.9 Q 167.3 130.5, 167.9 131.6 Q 168.5 132.7, 168.5 132.8 L 168.5 123.9 L 170.1 123.9 L 170.1 135.3 L 168.5 135.3 L 164.5 128.7 Q 164.0 127.9, 163.5 127.0 Q 163.0 126.1, 162.9 125.9 L 162.9 135.3 L 161.4 135.3 L 161.4 123.9 L 163.2 123.9 \" fill=\"#0000FF\"/>\n",
       "<path class=\"atom-15\" d=\"M 209.4 193.9 Q 209.4 191.2, 210.8 189.6 Q 212.2 188.1, 214.7 188.1 Q 217.2 188.1, 218.6 189.6 Q 219.9 191.2, 219.9 193.9 Q 219.9 196.7, 218.6 198.3 Q 217.2 199.9, 214.7 199.9 Q 212.2 199.9, 210.8 198.3 Q 209.4 196.7, 209.4 193.9 M 214.7 198.6 Q 216.4 198.6, 217.4 197.4 Q 218.3 196.2, 218.3 193.9 Q 218.3 191.7, 217.4 190.6 Q 216.4 189.4, 214.7 189.4 Q 212.9 189.4, 212.0 190.5 Q 211.1 191.7, 211.1 193.9 Q 211.1 196.2, 212.0 197.4 Q 212.9 198.6, 214.7 198.6 \" fill=\"#FF0000\"/>\n",
       "<path class=\"atom-16\" d=\"M 265.1 151.5 Q 265.1 148.8, 266.5 147.2 Q 267.8 145.7, 270.4 145.7 Q 272.9 145.7, 274.3 147.2 Q 275.6 148.8, 275.6 151.5 Q 275.6 154.3, 274.3 155.9 Q 272.9 157.5, 270.4 157.5 Q 267.9 157.5, 266.5 155.9 Q 265.1 154.3, 265.1 151.5 M 270.4 156.2 Q 272.1 156.2, 273.1 155.0 Q 274.0 153.8, 274.0 151.5 Q 274.0 149.3, 273.1 148.1 Q 272.1 147.0, 270.4 147.0 Q 268.6 147.0, 267.7 148.1 Q 266.7 149.3, 266.7 151.5 Q 266.7 153.8, 267.7 155.0 Q 268.6 156.2, 270.4 156.2 \" fill=\"#FF0000\"/>\n",
       "<path class=\"atom-16\" d=\"M 277.4 145.8 L 279.0 145.8 L 279.0 150.7 L 284.8 150.7 L 284.8 145.8 L 286.4 145.8 L 286.4 157.3 L 284.8 157.3 L 284.8 152.0 L 279.0 152.0 L 279.0 157.3 L 277.4 157.3 L 277.4 145.8 \" fill=\"#FF0000\"/>\n",
       "</svg>"
      ],
      "text/plain": [
       "<IPython.core.display.SVG object>"
      ]
     },
     "metadata": {},
     "output_type": "display_data"
    }
   ],
   "source": [
    "smiles, peptide = seq2stru.seq2stru_essentialAA(sequence='APG', cyclic=False)\n",
    "print(smiles)\n",
    "seq2stru.plot_molecule(peptide, w=300, h=300, isdisplay=True)"
   ]
  },
  {
   "cell_type": "code",
   "execution_count": 3,
   "id": "early-hawaiian",
   "metadata": {},
   "outputs": [
    {
     "name": "stdout",
     "output_type": "stream",
     "text": [
      "C[C@@H]1NC(=O)CNC(=O)[C@@H]2CCCN2C1=O\n"
     ]
    },
    {
     "data": {
      "image/svg+xml": [
       "<svg xmlns=\"http://www.w3.org/2000/svg\" xmlns:rdkit=\"http://www.rdkit.org/xml\" xmlns:xlink=\"http://www.w3.org/1999/xlink\" version=\"1.1\" baseProfile=\"full\" xml:space=\"preserve\" width=\"300px\" height=\"300px\" viewBox=\"0 0 300 300\">\n",
       "<!-- END OF HEADER -->\n",
       "<rect style=\"opacity:1.0;fill:#FFFFFF;stroke:none\" width=\"300.0\" height=\"300.0\" x=\"0.0\" y=\"0.0\"> </rect>\n",
       "<path class=\"bond-0 atom-0 atom-1\" d=\"M 224.1,134.6 L 211.3,118.4\" style=\"fill:none;fill-rule:evenodd;stroke:#0000FF;stroke-width:2.0px;stroke-linecap:butt;stroke-linejoin:miter;stroke-opacity:1\"/>\n",
       "<path class=\"bond-0 atom-0 atom-1\" d=\"M 211.3,118.4 L 198.5,102.2\" style=\"fill:none;fill-rule:evenodd;stroke:#000000;stroke-width:2.0px;stroke-linecap:butt;stroke-linejoin:miter;stroke-opacity:1\"/>\n",
       "<path class=\"bond-1 atom-1 atom-2\" d=\"M 198.5,102.2 L 146.4,91.5\" style=\"fill:none;fill-rule:evenodd;stroke:#000000;stroke-width:2.0px;stroke-linecap:butt;stroke-linejoin:miter;stroke-opacity:1\"/>\n",
       "<path class=\"bond-2 atom-2 atom-3\" d=\"M 150.5,92.4 L 147.2,70.1\" style=\"fill:none;fill-rule:evenodd;stroke:#000000;stroke-width:2.0px;stroke-linecap:butt;stroke-linejoin:miter;stroke-opacity:1\"/>\n",
       "<path class=\"bond-2 atom-2 atom-3\" d=\"M 147.2,70.1 L 144.0,47.9\" style=\"fill:none;fill-rule:evenodd;stroke:#FF0000;stroke-width:2.0px;stroke-linecap:butt;stroke-linejoin:miter;stroke-opacity:1\"/>\n",
       "<path class=\"bond-2 atom-2 atom-3\" d=\"M 142.6,93.5 L 139.3,71.3\" style=\"fill:none;fill-rule:evenodd;stroke:#000000;stroke-width:2.0px;stroke-linecap:butt;stroke-linejoin:miter;stroke-opacity:1\"/>\n",
       "<path class=\"bond-2 atom-2 atom-3\" d=\"M 139.3,71.3 L 136.1,49.1\" style=\"fill:none;fill-rule:evenodd;stroke:#FF0000;stroke-width:2.0px;stroke-linecap:butt;stroke-linejoin:miter;stroke-opacity:1\"/>\n",
       "<path class=\"bond-3 atom-1 atom-4\" d=\"M 200.1,99.1 L 200.5,99.3\" style=\"fill:none;fill-rule:evenodd;stroke:#000000;stroke-width:1.0px;stroke-linecap:butt;stroke-linejoin:miter;stroke-opacity:1\"/>\n",
       "<path class=\"bond-3 atom-1 atom-4\" d=\"M 201.7,95.9 L 202.6,96.5\" style=\"fill:none;fill-rule:evenodd;stroke:#000000;stroke-width:1.0px;stroke-linecap:butt;stroke-linejoin:miter;stroke-opacity:1\"/>\n",
       "<path class=\"bond-3 atom-1 atom-4\" d=\"M 203.4,92.7 L 204.7,93.6\" style=\"fill:none;fill-rule:evenodd;stroke:#000000;stroke-width:1.0px;stroke-linecap:butt;stroke-linejoin:miter;stroke-opacity:1\"/>\n",
       "<path class=\"bond-3 atom-1 atom-4\" d=\"M 205.0,89.6 L 206.8,90.7\" style=\"fill:none;fill-rule:evenodd;stroke:#000000;stroke-width:1.0px;stroke-linecap:butt;stroke-linejoin:miter;stroke-opacity:1\"/>\n",
       "<path class=\"bond-3 atom-1 atom-4\" d=\"M 206.6,86.4 L 208.9,87.8\" style=\"fill:none;fill-rule:evenodd;stroke:#000000;stroke-width:1.0px;stroke-linecap:butt;stroke-linejoin:miter;stroke-opacity:1\"/>\n",
       "<path class=\"bond-3 atom-1 atom-4\" d=\"M 208.3,83.3 L 211.0,84.9\" style=\"fill:none;fill-rule:evenodd;stroke:#000000;stroke-width:1.0px;stroke-linecap:butt;stroke-linejoin:miter;stroke-opacity:1\"/>\n",
       "<path class=\"bond-3 atom-1 atom-4\" d=\"M 209.9,80.1 L 213.1,82.1\" style=\"fill:none;fill-rule:evenodd;stroke:#000000;stroke-width:1.0px;stroke-linecap:butt;stroke-linejoin:miter;stroke-opacity:1\"/>\n",
       "<path class=\"bond-3 atom-1 atom-4\" d=\"M 211.5,76.9 L 215.2,79.2\" style=\"fill:none;fill-rule:evenodd;stroke:#000000;stroke-width:1.0px;stroke-linecap:butt;stroke-linejoin:miter;stroke-opacity:1\"/>\n",
       "<path class=\"bond-3 atom-1 atom-4\" d=\"M 213.2,73.8 L 217.2,76.3\" style=\"fill:none;fill-rule:evenodd;stroke:#000000;stroke-width:1.0px;stroke-linecap:butt;stroke-linejoin:miter;stroke-opacity:1\"/>\n",
       "<path class=\"bond-3 atom-1 atom-4\" d=\"M 214.8,70.6 L 219.3,73.4\" style=\"fill:none;fill-rule:evenodd;stroke:#000000;stroke-width:1.0px;stroke-linecap:butt;stroke-linejoin:miter;stroke-opacity:1\"/>\n",
       "<path class=\"bond-3 atom-1 atom-4\" d=\"M 216.4,67.5 L 221.4,70.5\" style=\"fill:none;fill-rule:evenodd;stroke:#000000;stroke-width:1.0px;stroke-linecap:butt;stroke-linejoin:miter;stroke-opacity:1\"/>\n",
       "<path class=\"bond-3 atom-1 atom-4\" d=\"M 218.1,64.3 L 223.5,67.7\" style=\"fill:none;fill-rule:evenodd;stroke:#000000;stroke-width:1.0px;stroke-linecap:butt;stroke-linejoin:miter;stroke-opacity:1\"/>\n",
       "<path class=\"bond-3 atom-1 atom-4\" d=\"M 219.7,61.2 L 225.6,64.8\" style=\"fill:none;fill-rule:evenodd;stroke:#000000;stroke-width:1.0px;stroke-linecap:butt;stroke-linejoin:miter;stroke-opacity:1\"/>\n",
       "<path class=\"bond-3 atom-1 atom-4\" d=\"M 221.3,58.0 L 227.7,61.9\" style=\"fill:none;fill-rule:evenodd;stroke:#000000;stroke-width:1.0px;stroke-linecap:butt;stroke-linejoin:miter;stroke-opacity:1\"/>\n",
       "<path class=\"bond-3 atom-1 atom-4\" d=\"M 223.0,54.8 L 229.8,59.0\" style=\"fill:none;fill-rule:evenodd;stroke:#000000;stroke-width:1.0px;stroke-linecap:butt;stroke-linejoin:miter;stroke-opacity:1\"/>\n",
       "<path class=\"bond-4 atom-5 atom-6\" d=\"M 95.9,126.1 L 87.9,146.2\" style=\"fill:none;fill-rule:evenodd;stroke:#0000FF;stroke-width:2.0px;stroke-linecap:butt;stroke-linejoin:miter;stroke-opacity:1\"/>\n",
       "<path class=\"bond-4 atom-5 atom-6\" d=\"M 87.9,146.2 L 79.9,166.3\" style=\"fill:none;fill-rule:evenodd;stroke:#000000;stroke-width:2.0px;stroke-linecap:butt;stroke-linejoin:miter;stroke-opacity:1\"/>\n",
       "<path class=\"bond-5 atom-6 atom-7\" d=\"M 79.9,166.3 L 96.7,216.7\" style=\"fill:none;fill-rule:evenodd;stroke:#000000;stroke-width:2.0px;stroke-linecap:butt;stroke-linejoin:miter;stroke-opacity:1\"/>\n",
       "<path class=\"bond-6 atom-7 atom-8\" d=\"M 95.4,212.7 L 78.3,226.2\" style=\"fill:none;fill-rule:evenodd;stroke:#000000;stroke-width:2.0px;stroke-linecap:butt;stroke-linejoin:miter;stroke-opacity:1\"/>\n",
       "<path class=\"bond-6 atom-7 atom-8\" d=\"M 78.3,226.2 L 61.2,239.8\" style=\"fill:none;fill-rule:evenodd;stroke:#FF0000;stroke-width:2.0px;stroke-linecap:butt;stroke-linejoin:miter;stroke-opacity:1\"/>\n",
       "<path class=\"bond-6 atom-7 atom-8\" d=\"M 100.3,219.0 L 83.2,232.5\" style=\"fill:none;fill-rule:evenodd;stroke:#000000;stroke-width:2.0px;stroke-linecap:butt;stroke-linejoin:miter;stroke-opacity:1\"/>\n",
       "<path class=\"bond-6 atom-7 atom-8\" d=\"M 83.2,232.5 L 66.2,246.0\" style=\"fill:none;fill-rule:evenodd;stroke:#FF0000;stroke-width:2.0px;stroke-linecap:butt;stroke-linejoin:miter;stroke-opacity:1\"/>\n",
       "<path class=\"bond-7 atom-6 atom-9\" d=\"M 79.9,166.3 L 26.8,162.9\" style=\"fill:none;fill-rule:evenodd;stroke:#000000;stroke-width:2.0px;stroke-linecap:butt;stroke-linejoin:miter;stroke-opacity:1\"/>\n",
       "<path class=\"bond-8 atom-9 atom-10\" d=\"M 26.8,162.9 L 13.6,111.4\" style=\"fill:none;fill-rule:evenodd;stroke:#000000;stroke-width:2.0px;stroke-linecap:butt;stroke-linejoin:miter;stroke-opacity:1\"/>\n",
       "<path class=\"bond-9 atom-10 atom-11\" d=\"M 13.6,111.4 L 58.6,82.9\" style=\"fill:none;fill-rule:evenodd;stroke:#000000;stroke-width:2.0px;stroke-linecap:butt;stroke-linejoin:miter;stroke-opacity:1\"/>\n",
       "<path class=\"bond-10 atom-11 atom-5\" d=\"M 58.6,82.9 L 75.3,96.7\" style=\"fill:none;fill-rule:evenodd;stroke:#000000;stroke-width:2.0px;stroke-linecap:butt;stroke-linejoin:miter;stroke-opacity:1\"/>\n",
       "<path class=\"bond-10 atom-11 atom-5\" d=\"M 75.3,96.7 L 92.1,110.6\" style=\"fill:none;fill-rule:evenodd;stroke:#0000FF;stroke-width:2.0px;stroke-linecap:butt;stroke-linejoin:miter;stroke-opacity:1\"/>\n",
       "<path class=\"bond-11 atom-2 atom-5\" d=\"M 146.4,91.5 L 126.7,102.1\" style=\"fill:none;fill-rule:evenodd;stroke:#000000;stroke-width:2.0px;stroke-linecap:butt;stroke-linejoin:miter;stroke-opacity:1\"/>\n",
       "<path class=\"bond-11 atom-2 atom-5\" d=\"M 126.7,102.1 L 107.0,112.8\" style=\"fill:none;fill-rule:evenodd;stroke:#0000FF;stroke-width:2.0px;stroke-linecap:butt;stroke-linejoin:miter;stroke-opacity:1\"/>\n",
       "<path class=\"bond-12 atom-12 atom-13\" d=\"M 149.5,243.5 L 172.1,240.2\" style=\"fill:none;fill-rule:evenodd;stroke:#0000FF;stroke-width:2.0px;stroke-linecap:butt;stroke-linejoin:miter;stroke-opacity:1\"/>\n",
       "<path class=\"bond-12 atom-12 atom-13\" d=\"M 172.1,240.2 L 194.7,236.9\" style=\"fill:none;fill-rule:evenodd;stroke:#000000;stroke-width:2.0px;stroke-linecap:butt;stroke-linejoin:miter;stroke-opacity:1\"/>\n",
       "<path class=\"bond-13 atom-13 atom-14\" d=\"M 194.7,236.9 L 230.0,197.1\" style=\"fill:none;fill-rule:evenodd;stroke:#000000;stroke-width:2.0px;stroke-linecap:butt;stroke-linejoin:miter;stroke-opacity:1\"/>\n",
       "<path class=\"bond-14 atom-14 atom-15\" d=\"M 227.2,200.3 L 248.2,208.6\" style=\"fill:none;fill-rule:evenodd;stroke:#000000;stroke-width:2.0px;stroke-linecap:butt;stroke-linejoin:miter;stroke-opacity:1\"/>\n",
       "<path class=\"bond-14 atom-14 atom-15\" d=\"M 248.2,208.6 L 269.3,217.0\" style=\"fill:none;fill-rule:evenodd;stroke:#FF0000;stroke-width:2.0px;stroke-linecap:butt;stroke-linejoin:miter;stroke-opacity:1\"/>\n",
       "<path class=\"bond-14 atom-14 atom-15\" d=\"M 230.1,192.9 L 251.2,201.2\" style=\"fill:none;fill-rule:evenodd;stroke:#000000;stroke-width:2.0px;stroke-linecap:butt;stroke-linejoin:miter;stroke-opacity:1\"/>\n",
       "<path class=\"bond-14 atom-14 atom-15\" d=\"M 251.2,201.2 L 272.2,209.6\" style=\"fill:none;fill-rule:evenodd;stroke:#FF0000;stroke-width:2.0px;stroke-linecap:butt;stroke-linejoin:miter;stroke-opacity:1\"/>\n",
       "<path class=\"bond-15 atom-7 atom-12\" d=\"M 96.7,216.7 L 115.6,228.4\" style=\"fill:none;fill-rule:evenodd;stroke:#000000;stroke-width:2.0px;stroke-linecap:butt;stroke-linejoin:miter;stroke-opacity:1\"/>\n",
       "<path class=\"bond-15 atom-7 atom-12\" d=\"M 115.6,228.4 L 134.6,240.0\" style=\"fill:none;fill-rule:evenodd;stroke:#0000FF;stroke-width:2.0px;stroke-linecap:butt;stroke-linejoin:miter;stroke-opacity:1\"/>\n",
       "<path class=\"bond-16 atom-14 atom-0\" d=\"M 230.0,197.1 L 230.6,175.2\" style=\"fill:none;fill-rule:evenodd;stroke:#000000;stroke-width:2.0px;stroke-linecap:butt;stroke-linejoin:miter;stroke-opacity:1\"/>\n",
       "<path class=\"bond-16 atom-14 atom-0\" d=\"M 230.6,175.2 L 231.2,153.2\" style=\"fill:none;fill-rule:evenodd;stroke:#0000FF;stroke-width:2.0px;stroke-linecap:butt;stroke-linejoin:miter;stroke-opacity:1\"/>\n",
       "<path class=\"bond-17 atom-6 atom-16\" d=\"M 79.9,166.3 L 59.1,199.8 L 52.8,194.9 Z\" style=\"fill:#000000;fill-rule:evenodd;fill-opacity:1;stroke:#000000;stroke-width:0.5px;stroke-linecap:butt;stroke-linejoin:miter;stroke-opacity:1;\"/>\n",
       "<path d=\"M 199.1,103.0 L 198.5,102.2 L 195.9,101.7\" style=\"fill:none;stroke:#000000;stroke-width:2.0px;stroke-linecap:butt;stroke-linejoin:miter;stroke-opacity:1;\"/>\n",
       "<path d=\"M 149.0,92.0 L 146.4,91.5 L 145.4,92.0\" style=\"fill:none;stroke:#000000;stroke-width:2.0px;stroke-linecap:butt;stroke-linejoin:miter;stroke-opacity:1;\"/>\n",
       "<path d=\"M 95.9,214.2 L 96.7,216.7 L 97.7,217.3\" style=\"fill:none;stroke:#000000;stroke-width:2.0px;stroke-linecap:butt;stroke-linejoin:miter;stroke-opacity:1;\"/>\n",
       "<path d=\"M 29.5,163.1 L 26.8,162.9 L 26.2,160.3\" style=\"fill:none;stroke:#000000;stroke-width:2.0px;stroke-linecap:butt;stroke-linejoin:miter;stroke-opacity:1;\"/>\n",
       "<path d=\"M 14.3,113.9 L 13.6,111.4 L 15.9,109.9\" style=\"fill:none;stroke:#000000;stroke-width:2.0px;stroke-linecap:butt;stroke-linejoin:miter;stroke-opacity:1;\"/>\n",
       "<path d=\"M 56.3,84.3 L 58.6,82.9 L 59.4,83.6\" style=\"fill:none;stroke:#000000;stroke-width:2.0px;stroke-linecap:butt;stroke-linejoin:miter;stroke-opacity:1;\"/>\n",
       "<path d=\"M 193.5,237.0 L 194.7,236.9 L 196.4,234.9\" style=\"fill:none;stroke:#000000;stroke-width:2.0px;stroke-linecap:butt;stroke-linejoin:miter;stroke-opacity:1;\"/>\n",
       "<path d=\"M 228.2,199.1 L 230.0,197.1 L 230.0,196.0\" style=\"fill:none;stroke:#000000;stroke-width:2.0px;stroke-linecap:butt;stroke-linejoin:miter;stroke-opacity:1;\"/>\n",
       "<path class=\"atom-0\" d=\"M 228.2 136.4 L 233.1 144.4 Q 233.6 145.2, 234.4 146.6 Q 235.2 148.0, 235.2 148.1 L 235.2 136.4 L 237.2 136.4 L 237.2 151.5 L 235.1 151.5 L 229.8 142.7 Q 229.2 141.7, 228.6 140.5 Q 227.9 139.4, 227.7 139.0 L 227.7 151.5 L 225.8 151.5 L 225.8 136.4 L 228.2 136.4 \" fill=\"#0000FF\"/>\n",
       "<path class=\"atom-0\" d=\"M 240.1 136.4 L 242.2 136.4 L 242.2 142.8 L 249.9 142.8 L 249.9 136.4 L 251.9 136.4 L 251.9 151.5 L 249.9 151.5 L 249.9 144.5 L 242.2 144.5 L 242.2 151.5 L 240.1 151.5 L 240.1 136.4 \" fill=\"#0000FF\"/>\n",
       "<path class=\"atom-3\" d=\"M 131.7 38.9 Q 131.7 35.3, 133.5 33.3 Q 135.3 31.3, 138.6 31.3 Q 141.9 31.3, 143.7 33.3 Q 145.5 35.3, 145.5 38.9 Q 145.5 42.6, 143.7 44.7 Q 141.9 46.7, 138.6 46.7 Q 135.3 46.7, 133.5 44.7 Q 131.7 42.6, 131.7 38.9 M 138.6 45.0 Q 140.9 45.0, 142.1 43.5 Q 143.4 41.9, 143.4 38.9 Q 143.4 36.0, 142.1 34.5 Q 140.9 33.0, 138.6 33.0 Q 136.3 33.0, 135.0 34.5 Q 133.8 35.9, 133.8 38.9 Q 133.8 42.0, 135.0 43.5 Q 136.3 45.0, 138.6 45.0 \" fill=\"#FF0000\"/>\n",
       "<path class=\"atom-5\" d=\"M 96.2 109.3 L 101.2 117.2 Q 101.6 118.0, 102.4 119.5 Q 103.2 120.9, 103.3 121.0 L 103.3 109.3 L 105.3 109.3 L 105.3 124.3 L 103.2 124.3 L 97.9 115.6 Q 97.3 114.6, 96.6 113.4 Q 96.0 112.2, 95.8 111.9 L 95.8 124.3 L 93.8 124.3 L 93.8 109.3 L 96.2 109.3 \" fill=\"#0000FF\"/>\n",
       "<path class=\"atom-8\" d=\"M 48.1 249.8 Q 48.1 246.2, 49.9 244.2 Q 51.7 242.2, 55.0 242.2 Q 58.4 242.2, 60.1 244.2 Q 61.9 246.2, 61.9 249.8 Q 61.9 253.5, 60.1 255.6 Q 58.3 257.6, 55.0 257.6 Q 51.7 257.6, 49.9 255.6 Q 48.1 253.5, 48.1 249.8 M 55.0 255.9 Q 57.3 255.9, 58.5 254.4 Q 59.8 252.8, 59.8 249.8 Q 59.8 246.9, 58.5 245.4 Q 57.3 243.9, 55.0 243.9 Q 52.7 243.9, 51.5 245.3 Q 50.2 246.8, 50.2 249.8 Q 50.2 252.9, 51.5 254.4 Q 52.7 255.9, 55.0 255.9 \" fill=\"#FF0000\"/>\n",
       "<path class=\"atom-12\" d=\"M 138.7 237.1 L 143.6 245.1 Q 144.1 245.9, 144.9 247.3 Q 145.7 248.7, 145.7 248.8 L 145.7 237.1 L 147.7 237.1 L 147.7 252.2 L 145.7 252.2 L 140.4 243.4 Q 139.8 242.4, 139.1 241.3 Q 138.5 240.1, 138.3 239.7 L 138.3 252.2 L 136.3 252.2 L 136.3 237.1 L 138.7 237.1 \" fill=\"#0000FF\"/>\n",
       "<path class=\"atom-12\" d=\"M 136.1 253.7 L 138.2 253.7 L 138.2 260.1 L 145.9 260.1 L 145.9 253.7 L 147.9 253.7 L 147.9 268.7 L 145.9 268.7 L 145.9 261.8 L 138.2 261.8 L 138.2 268.7 L 136.1 268.7 L 136.1 253.7 \" fill=\"#0000FF\"/>\n",
       "<path class=\"atom-15\" d=\"M 272.5 216.8 Q 272.5 213.1, 274.3 211.1 Q 276.1 209.1, 279.4 209.1 Q 282.8 209.1, 284.6 211.1 Q 286.4 213.1, 286.4 216.8 Q 286.4 220.4, 284.6 222.5 Q 282.7 224.6, 279.4 224.6 Q 276.1 224.6, 274.3 222.5 Q 272.5 220.4, 272.5 216.8 M 279.4 222.9 Q 281.7 222.9, 283.0 221.3 Q 284.2 219.8, 284.2 216.8 Q 284.2 213.8, 283.0 212.3 Q 281.7 210.8, 279.4 210.8 Q 277.1 210.8, 275.9 212.3 Q 274.7 213.8, 274.7 216.8 Q 274.7 219.8, 275.9 221.3 Q 277.1 222.9, 279.4 222.9 \" fill=\"#FF0000\"/>\n",
       "<path class=\"atom-16\" d=\"M 41.6 200.9 L 43.6 200.9 L 43.6 207.3 L 51.3 207.3 L 51.3 200.9 L 53.4 200.9 L 53.4 215.9 L 51.3 215.9 L 51.3 209.0 L 43.6 209.0 L 43.6 215.9 L 41.6 215.9 L 41.6 200.9 \" fill=\"#000000\"/>\n",
       "</svg>"
      ],
      "text/plain": [
       "<IPython.core.display.SVG object>"
      ]
     },
     "metadata": {},
     "output_type": "display_data"
    }
   ],
   "source": [
    "smiles, peptide = seq2stru.seq2stru_essentialAA(sequence='APG', cyclic=True)\n",
    "print(smiles)\n",
    "seq2stru.plot_molecule(peptide, w=300, h=300, isdisplay=True)"
   ]
  },
  {
   "cell_type": "code",
   "execution_count": 4,
   "id": "liquid-cable",
   "metadata": {},
   "outputs": [
    {
     "name": "stdout",
     "output_type": "stream",
     "text": [
      "C[C@@H]1NC(=O)[C@H](C)NC1=O\n"
     ]
    },
    {
     "data": {
      "image/svg+xml": [
       "<svg xmlns=\"http://www.w3.org/2000/svg\" xmlns:rdkit=\"http://www.rdkit.org/xml\" xmlns:xlink=\"http://www.w3.org/1999/xlink\" version=\"1.1\" baseProfile=\"full\" xml:space=\"preserve\" width=\"300px\" height=\"300px\" viewBox=\"0 0 300 300\">\n",
       "<!-- END OF HEADER -->\n",
       "<rect style=\"opacity:1.0;fill:#FFFFFF;stroke:none\" width=\"300.0\" height=\"300.0\" x=\"0.0\" y=\"0.0\"> </rect>\n",
       "<path class=\"bond-0 atom-0 atom-1\" d=\"M 139.7,217.3 L 113.1,202.0\" style=\"fill:none;fill-rule:evenodd;stroke:#0000FF;stroke-width:2.0px;stroke-linecap:butt;stroke-linejoin:miter;stroke-opacity:1\"/>\n",
       "<path class=\"bond-0 atom-0 atom-1\" d=\"M 113.1,202.0 L 86.6,186.6\" style=\"fill:none;fill-rule:evenodd;stroke:#000000;stroke-width:2.0px;stroke-linecap:butt;stroke-linejoin:miter;stroke-opacity:1\"/>\n",
       "<path class=\"bond-1 atom-1 atom-2\" d=\"M 86.6,186.6 L 86.6,113.4\" style=\"fill:none;fill-rule:evenodd;stroke:#000000;stroke-width:2.0px;stroke-linecap:butt;stroke-linejoin:miter;stroke-opacity:1\"/>\n",
       "<path class=\"bond-2 atom-2 atom-3\" d=\"M 92.1,110.2 L 65.0,94.6\" style=\"fill:none;fill-rule:evenodd;stroke:#000000;stroke-width:2.0px;stroke-linecap:butt;stroke-linejoin:miter;stroke-opacity:1\"/>\n",
       "<path class=\"bond-2 atom-2 atom-3\" d=\"M 65.0,94.6 L 37.8,78.9\" style=\"fill:none;fill-rule:evenodd;stroke:#FF0000;stroke-width:2.0px;stroke-linecap:butt;stroke-linejoin:miter;stroke-opacity:1\"/>\n",
       "<path class=\"bond-2 atom-2 atom-3\" d=\"M 86.6,119.7 L 59.5,104.1\" style=\"fill:none;fill-rule:evenodd;stroke:#000000;stroke-width:2.0px;stroke-linecap:butt;stroke-linejoin:miter;stroke-opacity:1\"/>\n",
       "<path class=\"bond-2 atom-2 atom-3\" d=\"M 59.5,104.1 L 32.3,88.4\" style=\"fill:none;fill-rule:evenodd;stroke:#FF0000;stroke-width:2.0px;stroke-linecap:butt;stroke-linejoin:miter;stroke-opacity:1\"/>\n",
       "<path class=\"bond-3 atom-1 atom-4\" d=\"M 86.6,186.6 L 25.9,228.0 L 20.4,218.5 Z\" style=\"fill:#000000;fill-rule:evenodd;fill-opacity:1;stroke:#000000;stroke-width:0.5px;stroke-linecap:butt;stroke-linejoin:miter;stroke-opacity:1;\"/>\n",
       "<path class=\"bond-4 atom-5 atom-6\" d=\"M 160.3,82.7 L 186.9,98.0\" style=\"fill:none;fill-rule:evenodd;stroke:#0000FF;stroke-width:2.0px;stroke-linecap:butt;stroke-linejoin:miter;stroke-opacity:1\"/>\n",
       "<path class=\"bond-4 atom-5 atom-6\" d=\"M 186.9,98.0 L 213.4,113.4\" style=\"fill:none;fill-rule:evenodd;stroke:#000000;stroke-width:2.0px;stroke-linecap:butt;stroke-linejoin:miter;stroke-opacity:1\"/>\n",
       "<path class=\"bond-5 atom-6 atom-7\" d=\"M 213.4,113.4 L 213.4,186.6\" style=\"fill:none;fill-rule:evenodd;stroke:#000000;stroke-width:2.0px;stroke-linecap:butt;stroke-linejoin:miter;stroke-opacity:1\"/>\n",
       "<path class=\"bond-6 atom-7 atom-8\" d=\"M 207.9,189.8 L 235.0,205.4\" style=\"fill:none;fill-rule:evenodd;stroke:#000000;stroke-width:2.0px;stroke-linecap:butt;stroke-linejoin:miter;stroke-opacity:1\"/>\n",
       "<path class=\"bond-6 atom-7 atom-8\" d=\"M 235.0,205.4 L 262.2,221.1\" style=\"fill:none;fill-rule:evenodd;stroke:#FF0000;stroke-width:2.0px;stroke-linecap:butt;stroke-linejoin:miter;stroke-opacity:1\"/>\n",
       "<path class=\"bond-6 atom-7 atom-8\" d=\"M 213.4,180.3 L 240.5,195.9\" style=\"fill:none;fill-rule:evenodd;stroke:#000000;stroke-width:2.0px;stroke-linecap:butt;stroke-linejoin:miter;stroke-opacity:1\"/>\n",
       "<path class=\"bond-6 atom-7 atom-8\" d=\"M 240.5,195.9 L 267.7,211.6\" style=\"fill:none;fill-rule:evenodd;stroke:#FF0000;stroke-width:2.0px;stroke-linecap:butt;stroke-linejoin:miter;stroke-opacity:1\"/>\n",
       "<path class=\"bond-7 atom-6 atom-9\" d=\"M 213.4,113.4 L 274.1,72.0 L 279.6,81.5 Z\" style=\"fill:#000000;fill-rule:evenodd;fill-opacity:1;stroke:#000000;stroke-width:0.5px;stroke-linecap:butt;stroke-linejoin:miter;stroke-opacity:1;\"/>\n",
       "<path class=\"bond-8 atom-2 atom-5\" d=\"M 86.6,113.4 L 113.1,98.0\" style=\"fill:none;fill-rule:evenodd;stroke:#000000;stroke-width:2.0px;stroke-linecap:butt;stroke-linejoin:miter;stroke-opacity:1\"/>\n",
       "<path class=\"bond-8 atom-2 atom-5\" d=\"M 113.1,98.0 L 139.7,82.7\" style=\"fill:none;fill-rule:evenodd;stroke:#0000FF;stroke-width:2.0px;stroke-linecap:butt;stroke-linejoin:miter;stroke-opacity:1\"/>\n",
       "<path class=\"bond-9 atom-7 atom-0\" d=\"M 213.4,186.6 L 186.9,202.0\" style=\"fill:none;fill-rule:evenodd;stroke:#000000;stroke-width:2.0px;stroke-linecap:butt;stroke-linejoin:miter;stroke-opacity:1\"/>\n",
       "<path class=\"bond-9 atom-7 atom-0\" d=\"M 186.9,202.0 L 160.3,217.3\" style=\"fill:none;fill-rule:evenodd;stroke:#0000FF;stroke-width:2.0px;stroke-linecap:butt;stroke-linejoin:miter;stroke-opacity:1\"/>\n",
       "<path d=\"M 87.9,187.4 L 86.6,186.6 L 86.6,183.0\" style=\"fill:none;stroke:#000000;stroke-width:2.0px;stroke-linecap:butt;stroke-linejoin:miter;stroke-opacity:1;\"/>\n",
       "<path d=\"M 86.6,117.0 L 86.6,113.4 L 87.9,112.6\" style=\"fill:none;stroke:#000000;stroke-width:2.0px;stroke-linecap:butt;stroke-linejoin:miter;stroke-opacity:1;\"/>\n",
       "<path d=\"M 212.1,112.6 L 213.4,113.4 L 213.4,117.0\" style=\"fill:none;stroke:#000000;stroke-width:2.0px;stroke-linecap:butt;stroke-linejoin:miter;stroke-opacity:1;\"/>\n",
       "<path d=\"M 213.4,183.0 L 213.4,186.6 L 212.1,187.4\" style=\"fill:none;stroke:#000000;stroke-width:2.0px;stroke-linecap:butt;stroke-linejoin:miter;stroke-opacity:1;\"/>\n",
       "<path class=\"atom-0\" d=\"M 145.4 212.9 L 152.2 223.8 Q 152.9 224.9, 154.0 226.9 Q 155.1 228.9, 155.1 229.0 L 155.1 212.9 L 157.9 212.9 L 157.9 233.6 L 155.0 233.6 L 147.7 221.6 Q 146.9 220.2, 146.0 218.6 Q 145.1 217.0, 144.8 216.5 L 144.8 233.6 L 142.1 233.6 L 142.1 212.9 L 145.4 212.9 \" fill=\"#0000FF\"/>\n",
       "<path class=\"atom-0\" d=\"M 141.9 235.7 L 144.7 235.7 L 144.7 244.5 L 155.3 244.5 L 155.3 235.7 L 158.1 235.7 L 158.1 256.4 L 155.3 256.4 L 155.3 246.8 L 144.7 246.8 L 144.7 256.4 L 141.9 256.4 L 141.9 235.7 \" fill=\"#0000FF\"/>\n",
       "<path class=\"atom-3\" d=\"M 13.6 76.8 Q 13.6 71.8, 16.1 69.1 Q 18.6 66.3, 23.2 66.3 Q 27.8 66.3, 30.2 69.1 Q 32.7 71.8, 32.7 76.8 Q 32.7 81.9, 30.2 84.7 Q 27.7 87.6, 23.2 87.6 Q 18.6 87.6, 16.1 84.7 Q 13.6 81.9, 13.6 76.8 M 23.2 85.2 Q 26.3 85.2, 28.0 83.1 Q 29.7 81.0, 29.7 76.8 Q 29.7 72.8, 28.0 70.7 Q 26.3 68.6, 23.2 68.6 Q 20.0 68.6, 18.3 70.7 Q 16.6 72.7, 16.6 76.8 Q 16.6 81.0, 18.3 83.1 Q 20.0 85.2, 23.2 85.2 \" fill=\"#FF0000\"/>\n",
       "<path class=\"atom-5\" d=\"M 145.4 66.4 L 152.2 77.4 Q 152.9 78.5, 154.0 80.4 Q 155.1 82.4, 155.1 82.5 L 155.1 66.4 L 157.9 66.4 L 157.9 87.1 L 155.0 87.1 L 147.7 75.1 Q 146.9 73.7, 146.0 72.1 Q 145.1 70.5, 144.8 70.0 L 144.8 87.1 L 142.1 87.1 L 142.1 66.4 L 145.4 66.4 \" fill=\"#0000FF\"/>\n",
       "<path class=\"atom-5\" d=\"M 141.9 43.6 L 144.7 43.6 L 144.7 52.4 L 155.3 52.4 L 155.3 43.6 L 158.1 43.6 L 158.1 64.3 L 155.3 64.3 L 155.3 54.7 L 144.7 54.7 L 144.7 64.3 L 141.9 64.3 L 141.9 43.6 \" fill=\"#0000FF\"/>\n",
       "<path class=\"atom-8\" d=\"M 267.3 223.3 Q 267.3 218.3, 269.8 215.5 Q 272.2 212.7, 276.8 212.7 Q 281.4 212.7, 283.9 215.5 Q 286.4 218.3, 286.4 223.3 Q 286.4 228.3, 283.9 231.2 Q 281.4 234.0, 276.8 234.0 Q 272.3 234.0, 269.8 231.2 Q 267.3 228.4, 267.3 223.3 M 276.8 231.7 Q 280.0 231.7, 281.7 229.6 Q 283.4 227.5, 283.4 223.3 Q 283.4 219.2, 281.7 217.2 Q 280.0 215.1, 276.8 215.1 Q 273.7 215.1, 272.0 217.1 Q 270.3 219.2, 270.3 223.3 Q 270.3 227.5, 272.0 229.6 Q 273.7 231.7, 276.8 231.7 \" fill=\"#FF0000\"/>\n",
       "</svg>"
      ],
      "text/plain": [
       "<IPython.core.display.SVG object>"
      ]
     },
     "metadata": {},
     "output_type": "display_data"
    }
   ],
   "source": [
    "smiles, peptide = seq2stru.seq2stru_essentialAA(sequence='Ala-Ala', cyclic=True)\n",
    "print(smiles)\n",
    "seq2stru.plot_molecule(peptide, w=300, h=300, isdisplay=True)"
   ]
  },
  {
   "cell_type": "markdown",
   "id": "stretch-referral",
   "metadata": {},
   "source": [
    "# 2. Peptide sequence with no essential amino acids"
   ]
  },
  {
   "cell_type": "markdown",
   "id": "advisory-finland",
   "metadata": {},
   "source": [
    "## 2.1 Load monomer library\n",
    "\n",
    "Only retain monomers with Gly (\"NCC=O\") structural units"
   ]
  },
  {
   "cell_type": "code",
   "execution_count": 5,
   "id": "republican-mandate",
   "metadata": {},
   "outputs": [
    {
     "name": "stderr",
     "output_type": "stream",
     "text": [
      "[07:24:39] Explicit valence for atom # 1 O, 3, is greater than permitted\n",
      "[07:24:39] Explicit valence for atom # 8 N, 4, is greater than permitted\n"
     ]
    },
    {
     "data": {
      "text/plain": [
       "295"
      ]
     },
     "execution_count": 5,
     "metadata": {},
     "output_type": "execute_result"
    }
   ],
   "source": [
    "monomers = seq2stru.load_nomomer(path='monomer.tsv')\n",
    "references = seq2stru.reference_aa_monomer(monomers)\n",
    "len(references)\n",
    "#references.keys()"
   ]
  },
  {
   "cell_type": "code",
   "execution_count": 6,
   "id": "spanish-impression",
   "metadata": {},
   "outputs": [
    {
     "name": "stdout",
     "output_type": "stream",
     "text": [
      "CC1C(=O)N(C)C(C)C(=O)N1C\n"
     ]
    },
    {
     "data": {
      "image/svg+xml": [
       "<svg xmlns=\"http://www.w3.org/2000/svg\" xmlns:rdkit=\"http://www.rdkit.org/xml\" xmlns:xlink=\"http://www.w3.org/1999/xlink\" version=\"1.1\" baseProfile=\"full\" xml:space=\"preserve\" width=\"300px\" height=\"300px\" viewBox=\"0 0 300 300\">\n",
       "<!-- END OF HEADER -->\n",
       "<rect style=\"opacity:1.0;fill:#FFFFFF;stroke:none\" width=\"300.0\" height=\"300.0\" x=\"0.0\" y=\"0.0\"> </rect>\n",
       "<path class=\"bond-0 atom-0 atom-1\" d=\"M 286.4,149.8 L 257.1,149.8\" style=\"fill:none;fill-rule:evenodd;stroke:#000000;stroke-width:2.0px;stroke-linecap:butt;stroke-linejoin:miter;stroke-opacity:1\"/>\n",
       "<path class=\"bond-0 atom-0 atom-1\" d=\"M 257.1,149.8 L 227.8,149.8\" style=\"fill:none;fill-rule:evenodd;stroke:#0000FF;stroke-width:2.0px;stroke-linecap:butt;stroke-linejoin:miter;stroke-opacity:1\"/>\n",
       "<path class=\"bond-1 atom-1 atom-2\" d=\"M 211.3,161.8 L 197.7,185.3\" style=\"fill:none;fill-rule:evenodd;stroke:#0000FF;stroke-width:2.0px;stroke-linecap:butt;stroke-linejoin:miter;stroke-opacity:1\"/>\n",
       "<path class=\"bond-1 atom-1 atom-2\" d=\"M 197.7,185.3 L 184.1,208.9\" style=\"fill:none;fill-rule:evenodd;stroke:#000000;stroke-width:2.0px;stroke-linecap:butt;stroke-linejoin:miter;stroke-opacity:1\"/>\n",
       "<path class=\"bond-2 atom-2 atom-3\" d=\"M 184.1,208.9 L 218.2,267.9\" style=\"fill:none;fill-rule:evenodd;stroke:#000000;stroke-width:2.0px;stroke-linecap:butt;stroke-linejoin:miter;stroke-opacity:1\"/>\n",
       "<path class=\"bond-3 atom-2 atom-4\" d=\"M 184.1,208.9 L 115.9,208.9\" style=\"fill:none;fill-rule:evenodd;stroke:#000000;stroke-width:2.0px;stroke-linecap:butt;stroke-linejoin:miter;stroke-opacity:1\"/>\n",
       "<path class=\"bond-4 atom-4 atom-5\" d=\"M 113.0,203.8 L 98.6,228.6\" style=\"fill:none;fill-rule:evenodd;stroke:#000000;stroke-width:2.0px;stroke-linecap:butt;stroke-linejoin:miter;stroke-opacity:1\"/>\n",
       "<path class=\"bond-4 atom-4 atom-5\" d=\"M 98.6,228.6 L 84.3,253.4\" style=\"fill:none;fill-rule:evenodd;stroke:#FF0000;stroke-width:2.0px;stroke-linecap:butt;stroke-linejoin:miter;stroke-opacity:1\"/>\n",
       "<path class=\"bond-4 atom-4 atom-5\" d=\"M 121.8,208.9 L 107.5,233.7\" style=\"fill:none;fill-rule:evenodd;stroke:#000000;stroke-width:2.0px;stroke-linecap:butt;stroke-linejoin:miter;stroke-opacity:1\"/>\n",
       "<path class=\"bond-4 atom-4 atom-5\" d=\"M 107.5,233.7 L 93.2,258.5\" style=\"fill:none;fill-rule:evenodd;stroke:#FF0000;stroke-width:2.0px;stroke-linecap:butt;stroke-linejoin:miter;stroke-opacity:1\"/>\n",
       "<path class=\"bond-5 atom-6 atom-7\" d=\"M 13.6,149.8 L 42.9,149.8\" style=\"fill:none;fill-rule:evenodd;stroke:#000000;stroke-width:2.0px;stroke-linecap:butt;stroke-linejoin:miter;stroke-opacity:1\"/>\n",
       "<path class=\"bond-5 atom-6 atom-7\" d=\"M 42.9,149.8 L 72.2,149.8\" style=\"fill:none;fill-rule:evenodd;stroke:#0000FF;stroke-width:2.0px;stroke-linecap:butt;stroke-linejoin:miter;stroke-opacity:1\"/>\n",
       "<path class=\"bond-6 atom-7 atom-8\" d=\"M 88.7,137.9 L 102.3,114.4\" style=\"fill:none;fill-rule:evenodd;stroke:#0000FF;stroke-width:2.0px;stroke-linecap:butt;stroke-linejoin:miter;stroke-opacity:1\"/>\n",
       "<path class=\"bond-6 atom-7 atom-8\" d=\"M 102.3,114.4 L 115.9,90.8\" style=\"fill:none;fill-rule:evenodd;stroke:#000000;stroke-width:2.0px;stroke-linecap:butt;stroke-linejoin:miter;stroke-opacity:1\"/>\n",
       "<path class=\"bond-7 atom-8 atom-9\" d=\"M 115.9,90.8 L 81.8,31.8\" style=\"fill:none;fill-rule:evenodd;stroke:#000000;stroke-width:2.0px;stroke-linecap:butt;stroke-linejoin:miter;stroke-opacity:1\"/>\n",
       "<path class=\"bond-8 atom-8 atom-10\" d=\"M 115.9,90.8 L 184.1,90.8\" style=\"fill:none;fill-rule:evenodd;stroke:#000000;stroke-width:2.0px;stroke-linecap:butt;stroke-linejoin:miter;stroke-opacity:1\"/>\n",
       "<path class=\"bond-9 atom-10 atom-11\" d=\"M 187.0,95.9 L 201.3,71.3\" style=\"fill:none;fill-rule:evenodd;stroke:#000000;stroke-width:2.0px;stroke-linecap:butt;stroke-linejoin:miter;stroke-opacity:1\"/>\n",
       "<path class=\"bond-9 atom-10 atom-11\" d=\"M 201.3,71.3 L 215.5,46.6\" style=\"fill:none;fill-rule:evenodd;stroke:#FF0000;stroke-width:2.0px;stroke-linecap:butt;stroke-linejoin:miter;stroke-opacity:1\"/>\n",
       "<path class=\"bond-9 atom-10 atom-11\" d=\"M 178.2,90.8 L 192.4,66.2\" style=\"fill:none;fill-rule:evenodd;stroke:#000000;stroke-width:2.0px;stroke-linecap:butt;stroke-linejoin:miter;stroke-opacity:1\"/>\n",
       "<path class=\"bond-9 atom-10 atom-11\" d=\"M 192.4,66.2 L 206.6,41.5\" style=\"fill:none;fill-rule:evenodd;stroke:#FF0000;stroke-width:2.0px;stroke-linecap:butt;stroke-linejoin:miter;stroke-opacity:1\"/>\n",
       "<path class=\"bond-10 atom-4 atom-7\" d=\"M 115.9,208.9 L 102.3,185.3\" style=\"fill:none;fill-rule:evenodd;stroke:#000000;stroke-width:2.0px;stroke-linecap:butt;stroke-linejoin:miter;stroke-opacity:1\"/>\n",
       "<path class=\"bond-10 atom-4 atom-7\" d=\"M 102.3,185.3 L 88.7,161.8\" style=\"fill:none;fill-rule:evenodd;stroke:#0000FF;stroke-width:2.0px;stroke-linecap:butt;stroke-linejoin:miter;stroke-opacity:1\"/>\n",
       "<path class=\"bond-11 atom-10 atom-1\" d=\"M 184.1,90.8 L 197.7,114.4\" style=\"fill:none;fill-rule:evenodd;stroke:#000000;stroke-width:2.0px;stroke-linecap:butt;stroke-linejoin:miter;stroke-opacity:1\"/>\n",
       "<path class=\"bond-11 atom-10 atom-1\" d=\"M 197.7,114.4 L 211.3,137.9\" style=\"fill:none;fill-rule:evenodd;stroke:#0000FF;stroke-width:2.0px;stroke-linecap:butt;stroke-linejoin:miter;stroke-opacity:1\"/>\n",
       "<path d=\"M 119.3,208.9 L 115.9,208.9 L 115.2,207.7\" style=\"fill:none;stroke:#000000;stroke-width:2.0px;stroke-linecap:butt;stroke-linejoin:miter;stroke-opacity:1;\"/>\n",
       "<path d=\"M 180.7,90.8 L 184.1,90.8 L 184.8,92.0\" style=\"fill:none;stroke:#000000;stroke-width:2.0px;stroke-linecap:butt;stroke-linejoin:miter;stroke-opacity:1;\"/>\n",
       "<path class=\"atom-1\" d=\"M 213.9 140.2 L 220.2 150.4 Q 220.9 151.4, 221.9 153.3 Q 222.9 155.1, 222.9 155.2 L 222.9 140.2 L 225.5 140.2 L 225.5 159.5 L 222.9 159.5 L 216.1 148.3 Q 215.3 147.0, 214.4 145.5 Q 213.6 144.0, 213.4 143.5 L 213.4 159.5 L 210.9 159.5 L 210.9 140.2 L 213.9 140.2 \" fill=\"#0000FF\"/>\n",
       "<path class=\"atom-5\" d=\"M 73.0 268.0 Q 73.0 263.4, 75.2 260.8 Q 77.5 258.2, 81.8 258.2 Q 86.1 258.2, 88.4 260.8 Q 90.7 263.4, 90.7 268.0 Q 90.7 272.7, 88.4 275.4 Q 86.0 278.0, 81.8 278.0 Q 77.6 278.0, 75.2 275.4 Q 73.0 272.7, 73.0 268.0 M 81.8 275.8 Q 84.8 275.8, 86.3 273.9 Q 88.0 271.9, 88.0 268.0 Q 88.0 264.2, 86.3 262.3 Q 84.8 260.4, 81.8 260.4 Q 78.9 260.4, 77.3 262.3 Q 75.7 264.2, 75.7 268.0 Q 75.7 271.9, 77.3 273.9 Q 78.9 275.8, 81.8 275.8 \" fill=\"#FF0000\"/>\n",
       "<path class=\"atom-7\" d=\"M 77.5 140.2 L 83.9 150.4 Q 84.5 151.4, 85.5 153.3 Q 86.5 155.1, 86.6 155.2 L 86.6 140.2 L 89.1 140.2 L 89.1 159.5 L 86.5 159.5 L 79.7 148.3 Q 78.9 147.0, 78.1 145.5 Q 77.2 144.0, 77.0 143.5 L 77.0 159.5 L 74.5 159.5 L 74.5 140.2 L 77.5 140.2 \" fill=\"#0000FF\"/>\n",
       "<path class=\"atom-11\" d=\"M 209.3 31.8 Q 209.3 27.2, 211.6 24.6 Q 213.9 22.0, 218.2 22.0 Q 222.5 22.0, 224.8 24.6 Q 227.0 27.2, 227.0 31.8 Q 227.0 36.5, 224.7 39.2 Q 222.4 41.8, 218.2 41.8 Q 213.9 41.8, 211.6 39.2 Q 209.3 36.5, 209.3 31.8 M 218.2 39.6 Q 221.1 39.6, 222.7 37.7 Q 224.3 35.7, 224.3 31.8 Q 224.3 28.0, 222.7 26.1 Q 221.1 24.2, 218.2 24.2 Q 215.2 24.2, 213.6 26.1 Q 212.0 28.0, 212.0 31.8 Q 212.0 35.7, 213.6 37.7 Q 215.2 39.6, 218.2 39.6 \" fill=\"#FF0000\"/>\n",
       "</svg>"
      ],
      "text/plain": [
       "<IPython.core.display.SVG object>"
      ]
     },
     "metadata": {},
     "output_type": "display_data"
    }
   ],
   "source": [
    "sequence = 'NMe-Ala--NMe-Ala'\n",
    "smiles, peptide = seq2stru.seq2stru_no_essentialAA(sequence, references, cyclic=True)\n",
    "print(smiles)\n",
    "seq2stru.plot_molecule(peptide, w=300, h=300, isdisplay=True)"
   ]
  },
  {
   "cell_type": "code",
   "execution_count": 7,
   "id": "abroad-david",
   "metadata": {},
   "outputs": [
    {
     "name": "stdout",
     "output_type": "stream",
     "text": [
      "CC1CCN2C(=O)C(C(O)CO)NC(=O)C(C)N(C)C(=O)C(CCCC(=O)O)NC(=O)C12\n"
     ]
    },
    {
     "data": {
      "image/svg+xml": [
       "<svg xmlns=\"http://www.w3.org/2000/svg\" xmlns:rdkit=\"http://www.rdkit.org/xml\" xmlns:xlink=\"http://www.w3.org/1999/xlink\" version=\"1.1\" baseProfile=\"full\" xml:space=\"preserve\" width=\"300px\" height=\"300px\" viewBox=\"0 0 300 300\">\n",
       "<!-- END OF HEADER -->\n",
       "<rect style=\"opacity:1.0;fill:#FFFFFF;stroke:none\" width=\"300.0\" height=\"300.0\" x=\"0.0\" y=\"0.0\"> </rect>\n",
       "<path class=\"bond-0 atom-0 atom-1\" d=\"M 135.1,176.4 L 129.4,168.7\" style=\"fill:none;fill-rule:evenodd;stroke:#0000FF;stroke-width:2.0px;stroke-linecap:butt;stroke-linejoin:miter;stroke-opacity:1\"/>\n",
       "<path class=\"bond-0 atom-0 atom-1\" d=\"M 129.4,168.7 L 123.7,161.0\" style=\"fill:none;fill-rule:evenodd;stroke:#000000;stroke-width:2.0px;stroke-linecap:butt;stroke-linejoin:miter;stroke-opacity:1\"/>\n",
       "<path class=\"bond-1 atom-1 atom-2\" d=\"M 123.7,161.0 L 100.8,170.0\" style=\"fill:none;fill-rule:evenodd;stroke:#000000;stroke-width:2.0px;stroke-linecap:butt;stroke-linejoin:miter;stroke-opacity:1\"/>\n",
       "<path class=\"bond-2 atom-2 atom-3\" d=\"M 100.8,170.0 L 81.7,154.7\" style=\"fill:none;fill-rule:evenodd;stroke:#000000;stroke-width:2.0px;stroke-linecap:butt;stroke-linejoin:miter;stroke-opacity:1\"/>\n",
       "<path class=\"bond-3 atom-3 atom-4\" d=\"M 81.7,154.7 L 58.8,163.7\" style=\"fill:none;fill-rule:evenodd;stroke:#000000;stroke-width:2.0px;stroke-linecap:butt;stroke-linejoin:miter;stroke-opacity:1\"/>\n",
       "<path class=\"bond-4 atom-4 atom-5\" d=\"M 58.8,163.7 L 39.6,148.4\" style=\"fill:none;fill-rule:evenodd;stroke:#000000;stroke-width:2.0px;stroke-linecap:butt;stroke-linejoin:miter;stroke-opacity:1\"/>\n",
       "<path class=\"bond-5 atom-5 atom-6\" d=\"M 40.0,146.3 L 30.1,150.2\" style=\"fill:none;fill-rule:evenodd;stroke:#000000;stroke-width:2.0px;stroke-linecap:butt;stroke-linejoin:miter;stroke-opacity:1\"/>\n",
       "<path class=\"bond-5 atom-5 atom-6\" d=\"M 30.1,150.2 L 20.1,154.1\" style=\"fill:none;fill-rule:evenodd;stroke:#FF0000;stroke-width:2.0px;stroke-linecap:butt;stroke-linejoin:miter;stroke-opacity:1\"/>\n",
       "<path class=\"bond-5 atom-5 atom-6\" d=\"M 41.3,149.7 L 31.4,153.6\" style=\"fill:none;fill-rule:evenodd;stroke:#000000;stroke-width:2.0px;stroke-linecap:butt;stroke-linejoin:miter;stroke-opacity:1\"/>\n",
       "<path class=\"bond-5 atom-5 atom-6\" d=\"M 31.4,153.6 L 21.5,157.5\" style=\"fill:none;fill-rule:evenodd;stroke:#FF0000;stroke-width:2.0px;stroke-linecap:butt;stroke-linejoin:miter;stroke-opacity:1\"/>\n",
       "<path class=\"bond-6 atom-5 atom-7\" d=\"M 39.6,148.4 L 41.1,138.5\" style=\"fill:none;fill-rule:evenodd;stroke:#000000;stroke-width:2.0px;stroke-linecap:butt;stroke-linejoin:miter;stroke-opacity:1\"/>\n",
       "<path class=\"bond-6 atom-5 atom-7\" d=\"M 41.1,138.5 L 42.6,128.6\" style=\"fill:none;fill-rule:evenodd;stroke:#FF0000;stroke-width:2.0px;stroke-linecap:butt;stroke-linejoin:miter;stroke-opacity:1\"/>\n",
       "<path class=\"bond-7 atom-1 atom-8\" d=\"M 123.7,161.0 L 120.9,136.6\" style=\"fill:none;fill-rule:evenodd;stroke:#000000;stroke-width:2.0px;stroke-linecap:butt;stroke-linejoin:miter;stroke-opacity:1\"/>\n",
       "<path class=\"bond-8 atom-8 atom-9\" d=\"M 121.7,134.9 L 111.3,133.3\" style=\"fill:none;fill-rule:evenodd;stroke:#000000;stroke-width:2.0px;stroke-linecap:butt;stroke-linejoin:miter;stroke-opacity:1\"/>\n",
       "<path class=\"bond-8 atom-8 atom-9\" d=\"M 111.3,133.3 L 100.9,131.8\" style=\"fill:none;fill-rule:evenodd;stroke:#FF0000;stroke-width:2.0px;stroke-linecap:butt;stroke-linejoin:miter;stroke-opacity:1\"/>\n",
       "<path class=\"bond-8 atom-8 atom-9\" d=\"M 121.1,138.5 L 110.7,137.0\" style=\"fill:none;fill-rule:evenodd;stroke:#000000;stroke-width:2.0px;stroke-linecap:butt;stroke-linejoin:miter;stroke-opacity:1\"/>\n",
       "<path class=\"bond-8 atom-8 atom-9\" d=\"M 110.7,137.0 L 100.4,135.4\" style=\"fill:none;fill-rule:evenodd;stroke:#FF0000;stroke-width:2.0px;stroke-linecap:butt;stroke-linejoin:miter;stroke-opacity:1\"/>\n",
       "<path class=\"bond-9 atom-10 atom-11\" d=\"M 111.5,98.9 L 119.4,105.1\" style=\"fill:none;fill-rule:evenodd;stroke:#000000;stroke-width:2.0px;stroke-linecap:butt;stroke-linejoin:miter;stroke-opacity:1\"/>\n",
       "<path class=\"bond-9 atom-10 atom-11\" d=\"M 119.4,105.1 L 127.2,111.4\" style=\"fill:none;fill-rule:evenodd;stroke:#0000FF;stroke-width:2.0px;stroke-linecap:butt;stroke-linejoin:miter;stroke-opacity:1\"/>\n",
       "<path class=\"bond-10 atom-11 atom-12\" d=\"M 134.1,111.6 L 142.3,105.6\" style=\"fill:none;fill-rule:evenodd;stroke:#0000FF;stroke-width:2.0px;stroke-linecap:butt;stroke-linejoin:miter;stroke-opacity:1\"/>\n",
       "<path class=\"bond-10 atom-11 atom-12\" d=\"M 142.3,105.6 L 150.4,99.6\" style=\"fill:none;fill-rule:evenodd;stroke:#000000;stroke-width:2.0px;stroke-linecap:butt;stroke-linejoin:miter;stroke-opacity:1\"/>\n",
       "<path class=\"bond-11 atom-12 atom-13\" d=\"M 150.4,99.6 L 141.4,76.8\" style=\"fill:none;fill-rule:evenodd;stroke:#000000;stroke-width:2.0px;stroke-linecap:butt;stroke-linejoin:miter;stroke-opacity:1\"/>\n",
       "<path class=\"bond-12 atom-12 atom-14\" d=\"M 150.4,99.6 L 174.8,96.8\" style=\"fill:none;fill-rule:evenodd;stroke:#000000;stroke-width:2.0px;stroke-linecap:butt;stroke-linejoin:miter;stroke-opacity:1\"/>\n",
       "<path class=\"bond-13 atom-14 atom-15\" d=\"M 176.5,97.6 L 178.0,87.4\" style=\"fill:none;fill-rule:evenodd;stroke:#000000;stroke-width:2.0px;stroke-linecap:butt;stroke-linejoin:miter;stroke-opacity:1\"/>\n",
       "<path class=\"bond-13 atom-14 atom-15\" d=\"M 178.0,87.4 L 179.6,77.3\" style=\"fill:none;fill-rule:evenodd;stroke:#FF0000;stroke-width:2.0px;stroke-linecap:butt;stroke-linejoin:miter;stroke-opacity:1\"/>\n",
       "<path class=\"bond-13 atom-14 atom-15\" d=\"M 172.9,97.0 L 174.4,86.9\" style=\"fill:none;fill-rule:evenodd;stroke:#000000;stroke-width:2.0px;stroke-linecap:butt;stroke-linejoin:miter;stroke-opacity:1\"/>\n",
       "<path class=\"bond-13 atom-14 atom-15\" d=\"M 174.4,86.9 L 175.9,76.7\" style=\"fill:none;fill-rule:evenodd;stroke:#FF0000;stroke-width:2.0px;stroke-linecap:butt;stroke-linejoin:miter;stroke-opacity:1\"/>\n",
       "<path class=\"bond-14 atom-8 atom-11\" d=\"M 120.9,136.6 L 124.9,127.5\" style=\"fill:none;fill-rule:evenodd;stroke:#000000;stroke-width:2.0px;stroke-linecap:butt;stroke-linejoin:miter;stroke-opacity:1\"/>\n",
       "<path class=\"bond-14 atom-8 atom-11\" d=\"M 124.9,127.5 L 128.8,118.4\" style=\"fill:none;fill-rule:evenodd;stroke:#0000FF;stroke-width:2.0px;stroke-linecap:butt;stroke-linejoin:miter;stroke-opacity:1\"/>\n",
       "<path class=\"bond-15 atom-16 atom-17\" d=\"M 200.4,110.9 L 206.1,118.6\" style=\"fill:none;fill-rule:evenodd;stroke:#0000FF;stroke-width:2.0px;stroke-linecap:butt;stroke-linejoin:miter;stroke-opacity:1\"/>\n",
       "<path class=\"bond-15 atom-16 atom-17\" d=\"M 206.1,118.6 L 211.8,126.3\" style=\"fill:none;fill-rule:evenodd;stroke:#000000;stroke-width:2.0px;stroke-linecap:butt;stroke-linejoin:miter;stroke-opacity:1\"/>\n",
       "<path class=\"bond-16 atom-17 atom-18\" d=\"M 211.8,126.3 L 214.6,150.7\" style=\"fill:none;fill-rule:evenodd;stroke:#000000;stroke-width:2.0px;stroke-linecap:butt;stroke-linejoin:miter;stroke-opacity:1\"/>\n",
       "<path class=\"bond-17 atom-18 atom-19\" d=\"M 213.8,152.4 L 224.2,154.0\" style=\"fill:none;fill-rule:evenodd;stroke:#000000;stroke-width:2.0px;stroke-linecap:butt;stroke-linejoin:miter;stroke-opacity:1\"/>\n",
       "<path class=\"bond-17 atom-18 atom-19\" d=\"M 224.2,154.0 L 234.6,155.5\" style=\"fill:none;fill-rule:evenodd;stroke:#FF0000;stroke-width:2.0px;stroke-linecap:butt;stroke-linejoin:miter;stroke-opacity:1\"/>\n",
       "<path class=\"bond-17 atom-18 atom-19\" d=\"M 214.4,148.8 L 224.8,150.3\" style=\"fill:none;fill-rule:evenodd;stroke:#000000;stroke-width:2.0px;stroke-linecap:butt;stroke-linejoin:miter;stroke-opacity:1\"/>\n",
       "<path class=\"bond-17 atom-18 atom-19\" d=\"M 224.8,150.3 L 235.1,151.9\" style=\"fill:none;fill-rule:evenodd;stroke:#FF0000;stroke-width:2.0px;stroke-linecap:butt;stroke-linejoin:miter;stroke-opacity:1\"/>\n",
       "<path class=\"bond-18 atom-17 atom-20\" d=\"M 211.8,126.3 L 234.7,117.3\" style=\"fill:none;fill-rule:evenodd;stroke:#000000;stroke-width:2.0px;stroke-linecap:butt;stroke-linejoin:miter;stroke-opacity:1\"/>\n",
       "<path class=\"bond-19 atom-20 atom-21\" d=\"M 234.7,117.3 L 236.1,107.4\" style=\"fill:none;fill-rule:evenodd;stroke:#000000;stroke-width:2.0px;stroke-linecap:butt;stroke-linejoin:miter;stroke-opacity:1\"/>\n",
       "<path class=\"bond-19 atom-20 atom-21\" d=\"M 236.1,107.4 L 237.6,97.5\" style=\"fill:none;fill-rule:evenodd;stroke:#FF0000;stroke-width:2.0px;stroke-linecap:butt;stroke-linejoin:miter;stroke-opacity:1\"/>\n",
       "<path class=\"bond-20 atom-20 atom-22\" d=\"M 234.7,117.3 L 253.8,132.6\" style=\"fill:none;fill-rule:evenodd;stroke:#000000;stroke-width:2.0px;stroke-linecap:butt;stroke-linejoin:miter;stroke-opacity:1\"/>\n",
       "<path class=\"bond-21 atom-22 atom-23\" d=\"M 253.8,132.6 L 263.3,128.9\" style=\"fill:none;fill-rule:evenodd;stroke:#000000;stroke-width:2.0px;stroke-linecap:butt;stroke-linejoin:miter;stroke-opacity:1\"/>\n",
       "<path class=\"bond-21 atom-22 atom-23\" d=\"M 263.3,128.9 L 272.7,125.2\" style=\"fill:none;fill-rule:evenodd;stroke:#FF0000;stroke-width:2.0px;stroke-linecap:butt;stroke-linejoin:miter;stroke-opacity:1\"/>\n",
       "<path class=\"bond-22 atom-14 atom-16\" d=\"M 174.8,96.8 L 184.3,100.9\" style=\"fill:none;fill-rule:evenodd;stroke:#000000;stroke-width:2.0px;stroke-linecap:butt;stroke-linejoin:miter;stroke-opacity:1\"/>\n",
       "<path class=\"bond-22 atom-14 atom-16\" d=\"M 184.3,100.9 L 193.8,105.1\" style=\"fill:none;fill-rule:evenodd;stroke:#0000FF;stroke-width:2.0px;stroke-linecap:butt;stroke-linejoin:miter;stroke-opacity:1\"/>\n",
       "<path class=\"bond-23 atom-24 atom-25\" d=\"M 178.6,231.0 L 192.9,211.0\" style=\"fill:none;fill-rule:evenodd;stroke:#000000;stroke-width:2.0px;stroke-linecap:butt;stroke-linejoin:miter;stroke-opacity:1\"/>\n",
       "<path class=\"bond-24 atom-25 atom-26\" d=\"M 192.9,211.0 L 217.4,210.8\" style=\"fill:none;fill-rule:evenodd;stroke:#000000;stroke-width:2.0px;stroke-linecap:butt;stroke-linejoin:miter;stroke-opacity:1\"/>\n",
       "<path class=\"bond-25 atom-26 atom-27\" d=\"M 217.4,210.8 L 224.8,187.4\" style=\"fill:none;fill-rule:evenodd;stroke:#000000;stroke-width:2.0px;stroke-linecap:butt;stroke-linejoin:miter;stroke-opacity:1\"/>\n",
       "<path class=\"bond-26 atom-27 atom-28\" d=\"M 224.8,187.4 L 216.5,181.5\" style=\"fill:none;fill-rule:evenodd;stroke:#000000;stroke-width:2.0px;stroke-linecap:butt;stroke-linejoin:miter;stroke-opacity:1\"/>\n",
       "<path class=\"bond-26 atom-27 atom-28\" d=\"M 216.5,181.5 L 208.3,175.6\" style=\"fill:none;fill-rule:evenodd;stroke:#0000FF;stroke-width:2.0px;stroke-linecap:butt;stroke-linejoin:miter;stroke-opacity:1\"/>\n",
       "<path class=\"bond-27 atom-28 atom-29\" d=\"M 201.4,175.7 L 193.2,181.7\" style=\"fill:none;fill-rule:evenodd;stroke:#0000FF;stroke-width:2.0px;stroke-linecap:butt;stroke-linejoin:miter;stroke-opacity:1\"/>\n",
       "<path class=\"bond-27 atom-28 atom-29\" d=\"M 193.2,181.7 L 185.1,187.7\" style=\"fill:none;fill-rule:evenodd;stroke:#000000;stroke-width:2.0px;stroke-linecap:butt;stroke-linejoin:miter;stroke-opacity:1\"/>\n",
       "<path class=\"bond-28 atom-29 atom-30\" d=\"M 185.1,187.7 L 160.7,190.5\" style=\"fill:none;fill-rule:evenodd;stroke:#000000;stroke-width:2.0px;stroke-linecap:butt;stroke-linejoin:miter;stroke-opacity:1\"/>\n",
       "<path class=\"bond-29 atom-30 atom-31\" d=\"M 159.0,189.8 L 157.5,200.0\" style=\"fill:none;fill-rule:evenodd;stroke:#000000;stroke-width:2.0px;stroke-linecap:butt;stroke-linejoin:miter;stroke-opacity:1\"/>\n",
       "<path class=\"bond-29 atom-30 atom-31\" d=\"M 157.5,200.0 L 155.9,210.2\" style=\"fill:none;fill-rule:evenodd;stroke:#FF0000;stroke-width:2.0px;stroke-linecap:butt;stroke-linejoin:miter;stroke-opacity:1\"/>\n",
       "<path class=\"bond-29 atom-30 atom-31\" d=\"M 162.6,190.3 L 161.1,200.5\" style=\"fill:none;fill-rule:evenodd;stroke:#000000;stroke-width:2.0px;stroke-linecap:butt;stroke-linejoin:miter;stroke-opacity:1\"/>\n",
       "<path class=\"bond-29 atom-30 atom-31\" d=\"M 161.1,200.5 L 159.6,210.7\" style=\"fill:none;fill-rule:evenodd;stroke:#FF0000;stroke-width:2.0px;stroke-linecap:butt;stroke-linejoin:miter;stroke-opacity:1\"/>\n",
       "<path class=\"bond-30 atom-29 atom-25\" d=\"M 185.1,187.7 L 192.9,211.0\" style=\"fill:none;fill-rule:evenodd;stroke:#000000;stroke-width:2.0px;stroke-linecap:butt;stroke-linejoin:miter;stroke-opacity:1\"/>\n",
       "<path class=\"bond-31 atom-18 atom-28\" d=\"M 214.6,150.7 L 210.6,159.8\" style=\"fill:none;fill-rule:evenodd;stroke:#000000;stroke-width:2.0px;stroke-linecap:butt;stroke-linejoin:miter;stroke-opacity:1\"/>\n",
       "<path class=\"bond-31 atom-18 atom-28\" d=\"M 210.6,159.8 L 206.7,168.9\" style=\"fill:none;fill-rule:evenodd;stroke:#0000FF;stroke-width:2.0px;stroke-linecap:butt;stroke-linejoin:miter;stroke-opacity:1\"/>\n",
       "<path class=\"bond-32 atom-30 atom-0\" d=\"M 160.7,190.5 L 151.2,186.4\" style=\"fill:none;fill-rule:evenodd;stroke:#000000;stroke-width:2.0px;stroke-linecap:butt;stroke-linejoin:miter;stroke-opacity:1\"/>\n",
       "<path class=\"bond-32 atom-30 atom-0\" d=\"M 151.2,186.4 L 141.7,182.2\" style=\"fill:none;fill-rule:evenodd;stroke:#0000FF;stroke-width:2.0px;stroke-linecap:butt;stroke-linejoin:miter;stroke-opacity:1\"/>\n",
       "<path d=\"M 102.0,169.5 L 100.8,170.0 L 99.9,169.2\" style=\"fill:none;stroke:#000000;stroke-width:2.0px;stroke-linecap:butt;stroke-linejoin:miter;stroke-opacity:1;\"/>\n",
       "<path d=\"M 82.6,155.5 L 81.7,154.7 L 80.5,155.2\" style=\"fill:none;stroke:#000000;stroke-width:2.0px;stroke-linecap:butt;stroke-linejoin:miter;stroke-opacity:1;\"/>\n",
       "<path d=\"M 60.0,163.3 L 58.8,163.7 L 57.9,162.9\" style=\"fill:none;stroke:#000000;stroke-width:2.0px;stroke-linecap:butt;stroke-linejoin:miter;stroke-opacity:1;\"/>\n",
       "<path d=\"M 40.6,149.2 L 39.6,148.4 L 39.7,147.9\" style=\"fill:none;stroke:#000000;stroke-width:2.0px;stroke-linecap:butt;stroke-linejoin:miter;stroke-opacity:1;\"/>\n",
       "<path d=\"M 121.0,137.9 L 120.9,136.6 L 121.1,136.2\" style=\"fill:none;stroke:#000000;stroke-width:2.0px;stroke-linecap:butt;stroke-linejoin:miter;stroke-opacity:1;\"/>\n",
       "<path d=\"M 173.5,96.9 L 174.8,96.8 L 175.2,97.0\" style=\"fill:none;stroke:#000000;stroke-width:2.0px;stroke-linecap:butt;stroke-linejoin:miter;stroke-opacity:1;\"/>\n",
       "<path d=\"M 214.5,149.5 L 214.6,150.7 L 214.4,151.1\" style=\"fill:none;stroke:#000000;stroke-width:2.0px;stroke-linecap:butt;stroke-linejoin:miter;stroke-opacity:1;\"/>\n",
       "<path d=\"M 252.9,131.8 L 253.8,132.6 L 254.3,132.4\" style=\"fill:none;stroke:#000000;stroke-width:2.0px;stroke-linecap:butt;stroke-linejoin:miter;stroke-opacity:1;\"/>\n",
       "<path d=\"M 216.2,210.8 L 217.4,210.8 L 217.8,209.6\" style=\"fill:none;stroke:#000000;stroke-width:2.0px;stroke-linecap:butt;stroke-linejoin:miter;stroke-opacity:1;\"/>\n",
       "<path d=\"M 224.4,188.6 L 224.8,187.4 L 224.4,187.1\" style=\"fill:none;stroke:#000000;stroke-width:2.0px;stroke-linecap:butt;stroke-linejoin:miter;stroke-opacity:1;\"/>\n",
       "<path d=\"M 161.9,190.4 L 160.7,190.5 L 160.3,190.3\" style=\"fill:none;stroke:#000000;stroke-width:2.0px;stroke-linecap:butt;stroke-linejoin:miter;stroke-opacity:1;\"/>\n",
       "<path class=\"atom-0\" d=\"M 128.8 177.3 L 129.7 177.3 L 129.7 180.2 L 133.3 180.2 L 133.3 177.3 L 134.2 177.3 L 134.2 184.2 L 133.3 184.2 L 133.3 181.0 L 129.7 181.0 L 129.7 184.2 L 128.8 184.2 L 128.8 177.3 \" fill=\"#0000FF\"/>\n",
       "<path class=\"atom-0\" d=\"M 136.7 177.3 L 139.0 180.9 Q 139.2 181.3, 139.6 182.0 Q 139.9 182.6, 140.0 182.6 L 140.0 177.3 L 140.9 177.3 L 140.9 184.2 L 139.9 184.2 L 137.5 180.2 Q 137.2 179.7, 136.9 179.2 Q 136.6 178.6, 136.5 178.5 L 136.5 184.2 L 135.6 184.2 L 135.6 177.3 L 136.7 177.3 \" fill=\"#0000FF\"/>\n",
       "<path class=\"atom-6\" d=\"M 13.6 157.4 Q 13.6 155.8, 14.5 154.8 Q 15.3 153.9, 16.8 153.9 Q 18.4 153.9, 19.2 154.8 Q 20.0 155.8, 20.0 157.4 Q 20.0 159.1, 19.2 160.1 Q 18.3 161.0, 16.8 161.0 Q 15.3 161.0, 14.5 160.1 Q 13.6 159.1, 13.6 157.4 M 16.8 160.2 Q 17.9 160.2, 18.5 159.5 Q 19.0 158.8, 19.0 157.4 Q 19.0 156.1, 18.5 155.4 Q 17.9 154.7, 16.8 154.7 Q 15.8 154.7, 15.2 155.4 Q 14.6 156.1, 14.6 157.4 Q 14.6 158.8, 15.2 159.5 Q 15.8 160.2, 16.8 160.2 \" fill=\"#FF0000\"/>\n",
       "<path class=\"atom-7\" d=\"M 40.1 124.2 Q 40.1 122.5, 40.9 121.6 Q 41.7 120.7, 43.3 120.7 Q 44.8 120.7, 45.6 121.6 Q 46.5 122.5, 46.5 124.2 Q 46.5 125.9, 45.6 126.8 Q 44.8 127.8, 43.3 127.8 Q 41.7 127.8, 40.9 126.8 Q 40.1 125.9, 40.1 124.2 M 43.3 127.0 Q 44.3 127.0, 44.9 126.3 Q 45.5 125.6, 45.5 124.2 Q 45.5 122.8, 44.9 122.1 Q 44.3 121.4, 43.3 121.4 Q 42.2 121.4, 41.6 122.1 Q 41.1 122.8, 41.1 124.2 Q 41.1 125.6, 41.6 126.3 Q 42.2 127.0, 43.3 127.0 \" fill=\"#FF0000\"/>\n",
       "<path class=\"atom-7\" d=\"M 47.5 120.7 L 48.5 120.7 L 48.5 123.7 L 52.0 123.7 L 52.0 120.7 L 53.0 120.7 L 53.0 127.7 L 52.0 127.7 L 52.0 124.5 L 48.5 124.5 L 48.5 127.7 L 47.5 127.7 L 47.5 120.7 \" fill=\"#FF0000\"/>\n",
       "<path class=\"atom-9\" d=\"M 93.5 133.0 Q 93.5 131.4, 94.3 130.4 Q 95.1 129.5, 96.6 129.5 Q 98.2 129.5, 99.0 130.4 Q 99.8 131.4, 99.8 133.0 Q 99.8 134.7, 99.0 135.7 Q 98.2 136.6, 96.6 136.6 Q 95.1 136.6, 94.3 135.7 Q 93.5 134.7, 93.5 133.0 M 96.6 135.8 Q 97.7 135.8, 98.3 135.1 Q 98.8 134.4, 98.8 133.0 Q 98.8 131.7, 98.3 131.0 Q 97.7 130.3, 96.6 130.3 Q 95.6 130.3, 95.0 131.0 Q 94.4 131.7, 94.4 133.0 Q 94.4 134.4, 95.0 135.1 Q 95.6 135.8, 96.6 135.8 \" fill=\"#FF0000\"/>\n",
       "<path class=\"atom-11\" d=\"M 129.1 110.7 L 131.4 114.4 Q 131.6 114.7, 132.0 115.4 Q 132.4 116.0, 132.4 116.1 L 132.4 110.7 L 133.3 110.7 L 133.3 117.6 L 132.4 117.6 L 129.9 113.6 Q 129.6 113.1, 129.3 112.6 Q 129.0 112.1, 128.9 111.9 L 128.9 117.6 L 128.0 117.6 L 128.0 110.7 L 129.1 110.7 \" fill=\"#0000FF\"/>\n",
       "<path class=\"atom-15\" d=\"M 175.2 72.6 Q 175.2 70.9, 176.0 70.0 Q 176.9 69.0, 178.4 69.0 Q 179.9 69.0, 180.8 70.0 Q 181.6 70.9, 181.6 72.6 Q 181.6 74.3, 180.7 75.2 Q 179.9 76.2, 178.4 76.2 Q 176.9 76.2, 176.0 75.2 Q 175.2 74.3, 175.2 72.6 M 178.4 75.4 Q 179.5 75.4, 180.0 74.7 Q 180.6 74.0, 180.6 72.6 Q 180.6 71.2, 180.0 70.5 Q 179.5 69.8, 178.4 69.8 Q 177.3 69.8, 176.8 70.5 Q 176.2 71.2, 176.2 72.6 Q 176.2 74.0, 176.8 74.7 Q 177.3 75.4, 178.4 75.4 \" fill=\"#FF0000\"/>\n",
       "<path class=\"atom-16\" d=\"M 195.7 103.1 L 198.0 106.8 Q 198.2 107.2, 198.6 107.8 Q 198.9 108.5, 199.0 108.5 L 199.0 103.1 L 199.9 103.1 L 199.9 110.1 L 198.9 110.1 L 196.5 106.0 Q 196.2 105.6, 195.9 105.0 Q 195.6 104.5, 195.5 104.3 L 195.5 110.1 L 194.6 110.1 L 194.6 103.1 L 195.7 103.1 \" fill=\"#0000FF\"/>\n",
       "<path class=\"atom-16\" d=\"M 201.2 103.1 L 202.2 103.1 L 202.2 106.1 L 205.7 106.1 L 205.7 103.1 L 206.7 103.1 L 206.7 110.1 L 205.7 110.1 L 205.7 106.9 L 202.2 106.9 L 202.2 110.1 L 201.2 110.1 L 201.2 103.1 \" fill=\"#0000FF\"/>\n",
       "<path class=\"atom-19\" d=\"M 235.7 154.3 Q 235.7 152.7, 236.5 151.7 Q 237.3 150.8, 238.9 150.8 Q 240.4 150.8, 241.2 151.7 Q 242.0 152.7, 242.0 154.3 Q 242.0 156.0, 241.2 157.0 Q 240.4 157.9, 238.9 157.9 Q 237.3 157.9, 236.5 157.0 Q 235.7 156.0, 235.7 154.3 M 238.9 157.1 Q 239.9 157.1, 240.5 156.4 Q 241.1 155.7, 241.1 154.3 Q 241.1 153.0, 240.5 152.3 Q 239.9 151.6, 238.9 151.6 Q 237.8 151.6, 237.2 152.3 Q 236.6 153.0, 236.6 154.3 Q 236.6 155.7, 237.2 156.4 Q 237.8 157.1, 238.9 157.1 \" fill=\"#FF0000\"/>\n",
       "<path class=\"atom-21\" d=\"M 235.1 93.1 Q 235.1 91.4, 235.9 90.5 Q 236.7 89.6, 238.3 89.6 Q 239.8 89.6, 240.6 90.5 Q 241.5 91.4, 241.5 93.1 Q 241.5 94.8, 240.6 95.7 Q 239.8 96.7, 238.3 96.7 Q 236.8 96.7, 235.9 95.7 Q 235.1 94.8, 235.1 93.1 M 238.3 95.9 Q 239.3 95.9, 239.9 95.2 Q 240.5 94.5, 240.5 93.1 Q 240.5 91.7, 239.9 91.0 Q 239.3 90.3, 238.3 90.3 Q 237.2 90.3, 236.6 91.0 Q 236.1 91.7, 236.1 93.1 Q 236.1 94.5, 236.6 95.2 Q 237.2 95.9, 238.3 95.9 \" fill=\"#FF0000\"/>\n",
       "<path class=\"atom-21\" d=\"M 242.6 89.6 L 243.5 89.6 L 243.5 92.6 L 247.0 92.6 L 247.0 89.6 L 248.0 89.6 L 248.0 96.6 L 247.0 96.6 L 247.0 93.4 L 243.5 93.4 L 243.5 96.6 L 242.6 96.6 L 242.6 89.6 \" fill=\"#FF0000\"/>\n",
       "<path class=\"atom-23\" d=\"M 273.5 123.6 Q 273.5 122.0, 274.3 121.0 Q 275.1 120.1, 276.7 120.1 Q 278.2 120.1, 279.0 121.0 Q 279.8 122.0, 279.8 123.6 Q 279.8 125.3, 279.0 126.3 Q 278.2 127.2, 276.7 127.2 Q 275.1 127.2, 274.3 126.3 Q 273.5 125.3, 273.5 123.6 M 276.7 126.5 Q 277.7 126.5, 278.3 125.7 Q 278.9 125.0, 278.9 123.6 Q 278.9 122.3, 278.3 121.6 Q 277.7 120.9, 276.7 120.9 Q 275.6 120.9, 275.0 121.6 Q 274.5 122.3, 274.5 123.6 Q 274.5 125.0, 275.0 125.7 Q 275.6 126.5, 276.7 126.5 \" fill=\"#FF0000\"/>\n",
       "<path class=\"atom-23\" d=\"M 280.9 120.2 L 281.9 120.2 L 281.9 123.1 L 285.4 123.1 L 285.4 120.2 L 286.4 120.2 L 286.4 127.1 L 285.4 127.1 L 285.4 123.9 L 281.9 123.9 L 281.9 127.1 L 280.9 127.1 L 280.9 120.2 \" fill=\"#FF0000\"/>\n",
       "<path class=\"atom-28\" d=\"M 203.3 169.7 L 205.6 173.4 Q 205.8 173.7, 206.1 174.4 Q 206.5 175.0, 206.5 175.1 L 206.5 169.7 L 207.4 169.7 L 207.4 176.6 L 206.5 176.6 L 204.1 172.6 Q 203.8 172.1, 203.5 171.6 Q 203.2 171.1, 203.1 170.9 L 203.1 176.6 L 202.2 176.6 L 202.2 169.7 L 203.3 169.7 \" fill=\"#0000FF\"/>\n",
       "<path class=\"atom-31\" d=\"M 153.9 214.8 Q 153.9 213.1, 154.7 212.2 Q 155.6 211.3, 157.1 211.3 Q 158.6 211.3, 159.5 212.2 Q 160.3 213.1, 160.3 214.8 Q 160.3 216.5, 159.5 217.4 Q 158.6 218.4, 157.1 218.4 Q 155.6 218.4, 154.7 217.4 Q 153.9 216.5, 153.9 214.8 M 157.1 217.6 Q 158.2 217.6, 158.7 216.9 Q 159.3 216.2, 159.3 214.8 Q 159.3 213.4, 158.7 212.7 Q 158.2 212.0, 157.1 212.0 Q 156.0 212.0, 155.5 212.7 Q 154.9 213.4, 154.9 214.8 Q 154.9 216.2, 155.5 216.9 Q 156.0 217.6, 157.1 217.6 \" fill=\"#FF0000\"/>\n",
       "</svg>"
      ],
      "text/plain": [
       "<IPython.core.display.SVG object>"
      ]
     },
     "metadata": {},
     "output_type": "display_data"
    }
   ],
   "source": [
    "sequence = 'Aad--NMe-Ala--4OH-Thr--3Me-Pro'\n",
    "smiles, peptide = seq2stru.seq2stru_no_essentialAA(sequence, references, cyclic=True)\n",
    "print(smiles)\n",
    "seq2stru.plot_molecule(peptide, w=300, h=300, isdisplay=True)"
   ]
  },
  {
   "cell_type": "code",
   "execution_count": null,
   "id": "bigger-germany",
   "metadata": {},
   "outputs": [],
   "source": []
  }
 ],
 "metadata": {
  "kernelspec": {
   "display_name": "Python 3 (ipykernel)",
   "language": "python",
   "name": "python3"
  },
  "language_info": {
   "codemirror_mode": {
    "name": "ipython",
    "version": 3
   },
   "file_extension": ".py",
   "mimetype": "text/x-python",
   "name": "python",
   "nbconvert_exporter": "python",
   "pygments_lexer": "ipython3",
   "version": "3.8.12"
  }
 },
 "nbformat": 4,
 "nbformat_minor": 5
}
