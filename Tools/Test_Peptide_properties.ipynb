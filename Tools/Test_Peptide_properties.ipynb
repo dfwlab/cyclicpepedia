{
 "cells": [
  {
   "cell_type": "code",
   "execution_count": 1,
   "id": "yellow-trace",
   "metadata": {},
   "outputs": [
    {
     "name": "stdout",
     "output_type": "stream",
     "text": [
      "\n",
      "File Name: peptide_properties.py\n",
      "Author: Dingfeng Wu\n",
      "Creator: Dingfeng Wu\n",
      "Date Created: 2023-12-30\n",
      "Last Modified: 2024-01-13\n",
      "Version: 1.0.1\n",
      "License: MIT License\n",
      "Description: The peptide properties (PP) algorithm is developed by CyclicPepedia based on RDkit and Peptides to predict structure and sequence properties.\n",
      "\n",
      "Copyright Information: Copyright (c) 2023 dfwlab (https://dfwlab.github.io/)\n",
      "\n",
      "The code in this script can be used under the MIT License.\n",
      "\n"
     ]
    }
   ],
   "source": [
    "import peptide_properties as pp\n",
    "\n",
    "print(pp.__doc__)"
   ]
  },
  {
   "cell_type": "code",
   "execution_count": 2,
   "id": "physical-proof",
   "metadata": {},
   "outputs": [],
   "source": [
    "exmaple = [('Ctopa(CP00005)', \n",
    "            'CC(C1C(=O)NC(C(SSCC(C(=O)NC(C(=O)NC(C(=O)NC(C(=O)N1)CCCN)CC2=CNC3=CC=CC=C32)CC4=CC=C(C=C4)O)NC(=O)C(CC5=CC=CC=C5)N)(C)C)C(=O)NC(C(C)O)C(=O)N)O', \n",
    "            'FCYWATCT'), \n",
    "           ('alpha-Amanitine(CP01656)', \n",
    "            'CC[C@H](C)[C@H]1C(=O)NCC(=O)N[C@H]2C[S@@](=O)C3=C(C[C@@H](C(=O)NCC(=O)N1)NC(=O)[C@@H](NC(=O)[C@@H]4C[C@H](CN4C(=O)[C@@H](NC2=O)CC(=O)N)O)[C@@H](C)[C@H](CO)O)C5=C(N3)C=C(C=C5)O', \n",
    "            'ATPTTT'), \n",
    "           ('Anidulafungin(CP00145)', \n",
    "            'CCCCCOC1=CC=C(C=C1)C2=CC=C(C=C2)C3=CC=C(C=C3)C(=O)NC4CC(C(NC(=O)C5C(C(CN5C(=O)C(NC(=O)C(NC(=O)C6CC(CN6C(=O)C(NC4=O)C(C)O)O)C(C(C7=CC=C(C=C7)O)O)O)C(C)O)C)O)O)O', \n",
    "            'AA')]\n",
    "\n",
    "smiles = exmaple[0][1]\n",
    "sequence = exmaple[0][2]"
   ]
  },
  {
   "cell_type": "markdown",
   "id": "leading-lambda",
   "metadata": {},
   "source": [
    "# 1. Chemial physical properties"
   ]
  },
  {
   "cell_type": "code",
   "execution_count": 3,
   "id": "chicken-speaker",
   "metadata": {
    "scrolled": true
   },
   "outputs": [
    {
     "data": {
      "text/plain": [
       "{'Exact_Mass': 1061.4462939640002,\n",
       " 'Topological_Polar_Surface_Area': 375.30999999999995,\n",
       " 'Complexity': 0.7702702702702703,\n",
       " 'Crippen_LogP': -1.2182999999999953,\n",
       " 'Heavy_Atom_Count': 74,\n",
       " 'Hydrogen_Bond_Donor_Count': 14,\n",
       " 'Hydrogen_Bond_Acceptor_Count': 15,\n",
       " 'Rotatable_Bond_Count': 16,\n",
       " 'Formal_Charge': 0,\n",
       " 'Refractivity': 280.4221999999998,\n",
       " 'Number_of_Rings': 5,\n",
       " 'Number_of_Atoms': 74,\n",
       " 'Rule_of_Five': False,\n",
       " 'Veber_Rule': False,\n",
       " 'Ghose_Filter': False,\n",
       " 'RDKit_Fingerprint': '11000111110100101111110011110000111101100111100000011011101001101110101110111111111111010100110011110101110101001010011001110111010001011000111100001111000010010101001100111111101111001111000101110100111001001000000110000001010001000101010110001110011101111111010111101110000111101111110000000010000011011111100111010001110100000011111110110110011100000010111100001001100001000010101001101010010100000110000100001110000010110001101000111011110000100000110000010110111000011100000100001110001101000111100100101111111101111110110110001101101010101101100001010110101001100110010010001001000110111100101110010001101010011010100000111111110100111100100111110111011001001110111110111111010111001001011100110001101101101000000111011010101101001111101010110010001110101011100110011000001111001101011010111011001010011011101000001101111011110000011011111101111001110111011100110011010110000111001010000011101101100110111110110110011101110010110001011101101010011011111100110000011001010110001001110011110101000001000000111101111111110111110110111111110101001011000101001110111101100001100001001001110110000111001101001010000011101001100010101101110010010110101000011010101010110100101111001001010011111110011011001000100101011101110011100100011101110111011010011001101111000110101110001010100101111000110100011001011010111101100111110111111001001011111111010000011110110011110010110001111101011111001101000111100101001100100011110101101011001000011001111100100101001011101110101110010101110001110000111111001011010001110100100111111011100101011000010100011111110100110101100000100111100101001011010111000010000011101111101011011010100001010110100010100001100010010010001011001111000110101111100100000010110001111110100100100101000101010110111100100010100011011001011101111010010111100110001000110001111111100011110011111111101100100101110010111110100111111011000001101001110000011011101010010100001101101110010100111111000111011011010111001110010111110110100011111001011101011001001011101101100111010101111100110110011000001011101100010100100100101001111011',\n",
       " 'Daylight_like_Fingerprint': '01000000000000000000000000000000000000000000000000000000000000000000000000000001100000000000000000000000000000000001010100000000000000000000100000000000000000000000000000000000000000000000000000000000000000000000000000000000000100000000000000000000100000000000000000000000000000000011000000000000000001000000001000100000000000001000000000000000000000000001000000001000000000000000000000010100000000000000000000000000000000000000000000010000000000000000000000100000000000000010000000000000000000000000000000000100000000001000000000000000000000000000000000000000000000000000010000000000000000000000000000000000000000000000000000000000000000000000000000100000000000000000000000010000000000010100000000000000000000000000000000000000000000000000000001000000000000000000000000000000000000000010000000000000000000110000100000001000000000001000000000000000000000000100000001000000000000000000000000000000000000000000000000000100000000100000000000000100000000000000010000000010000000000000010000000000000000000000001000000000010100000001000000100000000000000000000001001000001000000000000000000000100000000000000000000000001000100000000000000000000000000000010010000000000000000001000000000000100000000000000100000000000010000000000000000000000000000000100000000000000000000000100000100000000000000000000000000000000000000100000000000000000000000000000000000100000001000000000000000000000010000000000000000000000000000000000000000000000000000000000000000000000000001000000000000000000000000000000000000000000000100010000000001100000000000000000000000001000000000000000000000000000001000000000010000000000000000010000100000000000000000000000000000000000000000000000000000000000000000000000000000000010001000000000000000000000000000000000000000001000100000000001000100000000000000000000000100001000000000000000000000000000000000000000000001000000000001000000001000000010000000000000001001001000000000000000000000000000000010000010000000000000000000100000000000000000000000000000000000000000000100000000000000000100000000000000000000000000000000100000000000000',\n",
       " 'Morgan_Fingerprint': '0101000000100000000000000000000001001000001000000000000000000000100000000000000110000000001000100000000000000000000101010000010010000000000010000001000000000000100000000000000100000000000010000000000000000000000000000000100000010000000000000000100010100000000000000000000000000000001100000100000000000100000000100010000000000100100001000000000000000000000110000000100000000000000000000001010000000000000000000000000000000000000000001001000000000000000000000010000000000000001000100010000000001100000000000000010000000001100000000000000000000000000001000000000010000000000001000010000100000000000000000000000000000000000000000000000000000000000000000010000000000000010001000001000000000001010000000000000000000001000100000000001000100000000000000100000000100001000000000000000000000000001000000000000000001011000010001000100001000000110000000000000001001001010000000100000000000000000000010000010000000000000000000100010000000010000000000000010000000000000001100000001000000000100001000000000000000000000000100100000001010000',\n",
       " 'MACCS_Keys': '00000000000000100000000000000000000010000000000000000110000000000111000000100001011110001111100111001100110010111100011011001101000101001111111101110111111111111111110'}"
      ]
     },
     "execution_count": 3,
     "metadata": {},
     "output_type": "execute_result"
    }
   ],
   "source": [
    "pp.chemial_physical_properties_from_smiles(smiles)"
   ]
  },
  {
   "cell_type": "markdown",
   "id": "fabulous-screening",
   "metadata": {},
   "source": [
    "# 2. Peptide properties"
   ]
  },
  {
   "cell_type": "code",
   "execution_count": 4,
   "id": "blessed-chambers",
   "metadata": {
    "scrolled": true
   },
   "outputs": [
    {
     "data": {
      "text/plain": [
       "{'aa_comp':     Property                 Residues  Number  Mole%\n",
       " 0       Tiny             (A+C+G+S+T)      5.0   62.5\n",
       " 1      Small    (A+B+C+D+G+N+P+S+T+V)     5.0   62.5\n",
       " 2  Aliphatic                (A+I+L+V)     1.0   12.5\n",
       " 3   Aromatic                (F+H+W+Y)     3.0   37.5\n",
       " 4  Non-polar  (A+C+F+G+I+L+M+P+V+W+Y)     6.0   75.0\n",
       " 5      Polar    (D+E+H+K+N+Q+R+S+T+Z)     2.0   25.0\n",
       " 6    Charged          (B+D+E+H+K+R+Z)     0.0    0.0\n",
       " 7      Basic                  (H+K+R)     0.0    0.0\n",
       " 8     Acidic                (B+D+E+Z)     0.0    0.0,\n",
       " 'aliphatic_index': 12.5,\n",
       " 'blosum62':           Indices\n",
       " BLOSUM1  -0.75500\n",
       " BLOSUM2   0.05375\n",
       " BLOSUM3   0.53625\n",
       " BLOSUM4   0.17000\n",
       " BLOSUM5   0.42375\n",
       " BLOSUM6  -0.13750\n",
       " BLOSUM7  -0.21750\n",
       " BLOSUM8  -0.47000\n",
       " BLOSUM9   0.27625\n",
       " BLOSUM10 -0.09875,\n",
       " 'boman_index': -0.55,\n",
       " 'charge': -0.1268155466762818,\n",
       " 'cruciani':      Indices          Metric\n",
       " PP1  -0.2175        Polarity\n",
       " PP2  -0.1350  Hydrophobicity\n",
       " PP3   0.0225       H-bonding,\n",
       " 'fasgai':      Indices                              Metric\n",
       " F1  0.569625                Hydrophobicity index\n",
       " F2 -0.084625         Alpha and turn propensities\n",
       " F3  0.011375                    Bulky properties\n",
       " F4 -0.494500  Compositional characteristic index\n",
       " F5 -0.366750                   Local flexibility\n",
       " F6  0.181500               Electronic properties,\n",
       " 'hmoment':           Indices  angle  window\n",
       " a-helix  0.207977    100      11\n",
       " b-sheet  0.087445    160      11,\n",
       " 'hydrophobicity':                      Indices\n",
       " Aboderin             4.86250\n",
       " AbrahamLeo           0.93875\n",
       " Argos                1.17500\n",
       " BlackMould           0.70425\n",
       " BullBreese          -0.28000\n",
       " Casari               0.78750\n",
       " Chothia              0.34500\n",
       " Cid                  0.52375\n",
       " Cowan3.4             0.66125\n",
       " Cowan7.5             0.59500\n",
       " Eisenberg            0.42000\n",
       " Engelman            -1.61250\n",
       " Fasman              -2.46375\n",
       " Fauchere             1.11375\n",
       " Goldsack             1.51875\n",
       " Guy                 -0.68000\n",
       " HoppWoods           -1.43750\n",
       " Janin                0.26250\n",
       " Jones                1.67000\n",
       " Juretic              0.71750\n",
       " Kidera              -0.58375\n",
       " Kuhn                 0.76875\n",
       " KyteDoolittle        0.75000\n",
       " Levitt              -1.43750\n",
       " Manavalan           13.37000\n",
       " Miyazawa             6.59375\n",
       " Parker              -0.72500\n",
       " Ponnuswamy           1.21375\n",
       " Prabhakaran         -6.75000\n",
       " Rao                  1.18250\n",
       " Rose                 0.80625\n",
       " Roseman              0.59500\n",
       " Sweet                0.43375\n",
       " Tanford              0.42000\n",
       " Welling             -0.57125\n",
       " Wilson               3.80000\n",
       " Wolfenden           -2.88125\n",
       " Zimmerman            1.36250\n",
       " interfaceScale_pH8  -0.49375\n",
       " interfaceScale_pH2   0.00000\n",
       " octanolScale_pH8    -0.44375\n",
       " octanolScale_pH2     0.00000\n",
       " oiScale_pH8          0.05000\n",
       " oiScale_pH2          0.00000,\n",
       " 'instability': 17.750000000000004,\n",
       " 'kidera':       Indices                         Metric\n",
       " KF1   0.08375          Helix/bend preference\n",
       " KF2  -0.03625                Side-chain size\n",
       " KF3   0.25875  Extended structure preference\n",
       " KF4  -0.58375                 Hydrophobicity\n",
       " KF5  -0.43625         Double-bend preference\n",
       " KF6   0.44250        Partial specific volume\n",
       " KF7   0.40000       Flat extended preference\n",
       " KF8  -0.25375     Occurrence in alpha region\n",
       " KF9   0.08875                           pK-C\n",
       " KF10  0.19875     Surrounding hydrophobicity,\n",
       " 'lengthpep': 8,\n",
       " 'membpos':         Pep     H     uH   MembPos  angle\n",
       " 0  FCYWATCT  0.42  0.208  Globular    100\n",
       " 1  FCYWATCT  0.42  0.208  Globular    100\n",
       " 2  FCYWATCT  0.42  0.208  Globular    100\n",
       " 3  FCYWATCT  0.42  0.208  Globular    100\n",
       " 4  FCYWATCT  0.42  0.087  Globular    160\n",
       " 5  FCYWATCT  0.42  0.087  Globular    160\n",
       " 6  FCYWATCT  0.42  0.087  Globular    160\n",
       " 7  FCYWATCT  0.42  0.087  Globular    160,\n",
       " 'mswhimScores':          Indices\n",
       " MSWHIM1 -0.06000\n",
       " MSWHIM2  0.61375\n",
       " MSWHIM3 -0.48875,\n",
       " 'pIs':              Indices\n",
       " Bjellqvist  5.510747\n",
       " EMBOSS      5.824048\n",
       " Murray      5.080554\n",
       " Sillero     5.637322\n",
       " Solomon     5.491681\n",
       " Stryer      5.546886\n",
       " Lehninger   5.104601\n",
       " Dawson      5.491681\n",
       " Rodwell     5.405726,\n",
       " 'protFP':          Indices\n",
       " ProtFP1  2.79625\n",
       " ProtFP2 -0.81750\n",
       " ProtFP3  0.69750\n",
       " ProtFP4 -0.44750\n",
       " ProtFP5  0.83000\n",
       " ProtFP6 -0.22750\n",
       " ProtFP7  0.06250\n",
       " ProtFP8  0.71875,\n",
       " 'stScales':       Indices\n",
       " ST1 -0.635500\n",
       " ST2 -0.352125\n",
       " ST3  0.032375\n",
       " ST4 -0.002250\n",
       " ST5 -0.087250\n",
       " ST6 -0.650625\n",
       " ST7  0.102625\n",
       " ST8 -0.161500,\n",
       " 'tScales':     Indices\n",
       " T1 -3.43125\n",
       " T2 -1.08375\n",
       " T3  0.19500\n",
       " T4 -0.20500\n",
       " T5  0.59875,\n",
       " 'vhseScales':        Indices\n",
       " VHSE1  0.43250\n",
       " VHSE2 -0.15000\n",
       " VHSE3  0.06875\n",
       " VHSE4 -0.26750\n",
       " VHSE5  0.17875\n",
       " VHSE6  0.23375\n",
       " VHSE7 -0.96750\n",
       " VHSE8 -0.20625,\n",
       " 'zScales':     Indices\n",
       " Z1  -0.9625\n",
       " Z2  -0.2125\n",
       " Z3   0.9925\n",
       " Z4   0.1650\n",
       " Z5  -1.0600}"
      ]
     },
     "execution_count": 4,
     "metadata": {},
     "output_type": "execute_result"
    }
   ],
   "source": [
    "pp.predict_properties_from_sequence(sequence)"
   ]
  },
  {
   "cell_type": "code",
   "execution_count": 5,
   "id": "65be14da-6eee-4ecd-bd1f-905c8ec8492b",
   "metadata": {
    "scrolled": true
   },
   "outputs": [
    {
     "data": {
      "text/plain": [
       "[('A', 1),\n",
       " ('C', 2),\n",
       " ('D', 0),\n",
       " ('E', 0),\n",
       " ('F', 1),\n",
       " ('G', 0),\n",
       " ('H', 0),\n",
       " ('I', 0),\n",
       " ('K', 0),\n",
       " ('L', 0),\n",
       " ('M', 0),\n",
       " ('N', 0),\n",
       " ('P', 0),\n",
       " ('Q', 0),\n",
       " ('R', 0),\n",
       " ('S', 0),\n",
       " ('T', 2),\n",
       " ('V', 0),\n",
       " ('W', 1),\n",
       " ('Y', 1),\n",
       " ('O', 0),\n",
       " ('U', 0),\n",
       " ('B', 0),\n",
       " ('Z', 0)]"
      ]
     },
     "execution_count": 5,
     "metadata": {},
     "output_type": "execute_result"
    }
   ],
   "source": [
    "pp.calculate_amino_acid_composition(sequence)"
   ]
  },
  {
   "cell_type": "markdown",
   "id": "understanding-adolescent",
   "metadata": {},
   "source": [
    "# 3. Structural format conversion"
   ]
  },
  {
   "cell_type": "code",
   "execution_count": 6,
   "id": "processed-pleasure",
   "metadata": {},
   "outputs": [
    {
     "data": {
      "text/plain": [
       "('CC(O)C(NC(=O)C1NC(=O)C(C(C)O)NC(=O)C(CCCN)NC(=O)C(Cc2c[nH]c3ccccc23)NC(=O)C(Cc2ccc(O)cc2)NC(=O)C(NC(=O)C(N)Cc2ccccc2)CSSC1(C)C)C(N)=O',\n",
       " 'InChI=1/C50H67N11O11S2/c1-26(62)39(42(53)65)59-49(72)41-50(3,4)74-73-25-38(58-43(66)33(52)21-28-11-6-5-7-12-28)47(70)56-36(22-29-16-18-31(64)19-17-29)45(68)57-37(23-30-24-54-34-14-9-8-13-32(30)34)46(69)55-35(15-10-20-51)44(67)60-40(27(2)63)48(71)61-41/h5-9,11-14,16-19,24,26-27,33,35-41,54,62-64H,10,15,20-23,25,51-52H2,1-4H3,(H2,53,65)(H,55,69)(H,56,70)(H,57,68)(H,58,66)(H,59,72)(H,60,67)(H,61,71)/f/h55-61H,53H2',\n",
       " 'PZWWYAHWHHNCHO-LOWIJWPFNA-N')"
      ]
     },
     "execution_count": 6,
     "metadata": {},
     "output_type": "execute_result"
    }
   ],
   "source": [
    "smiles = 'CC(C1C(=O)NC(C(SSCC(C(=O)NC(C(=O)NC(C(=O)NC(C(=O)N1)CCCN)CC2=CNC3=CC=CC=C32)CC4=CC=C(C=C4)O)NC(=O)C(CC5=CC=CC=C5)N)(C)C)C(=O)NC(C(C)O)C(=O)N)O'\n",
    "_, mol = pp.load_molecule(smiles)\n",
    "conformation = pp.predict_3d_conformation(mol)\n",
    "outputs = pp.output_molecule(mol, conformation=conformation)\n",
    "outputs['smiles'], outputs['inchi'], outputs['inchikey']"
   ]
  },
  {
   "cell_type": "markdown",
   "id": "coordinated-madagascar",
   "metadata": {},
   "source": [
    "# 4. 3D conformation predict by energy minimization "
   ]
  },
  {
   "cell_type": "code",
   "execution_count": 7,
   "id": "fleet-taxation",
   "metadata": {},
   "outputs": [
    {
     "name": "stdout",
     "output_type": "stream",
     "text": [
      "SMILES\n"
     ]
    },
    {
     "data": {
      "image/svg+xml": [
       "<svg xmlns=\"http://www.w3.org/2000/svg\" xmlns:rdkit=\"http://www.rdkit.org/xml\" xmlns:xlink=\"http://www.w3.org/1999/xlink\" version=\"1.1\" baseProfile=\"full\" xml:space=\"preserve\" width=\"200px\" height=\"200px\" viewBox=\"0 0 200 200\">\n",
       "<!-- END OF HEADER -->\n",
       "<rect style=\"opacity:1.0;fill:#FFFFFF;stroke:none\" width=\"200.0\" height=\"200.0\" x=\"0.0\" y=\"0.0\"> </rect>\n",
       "<path class=\"bond-0 atom-0 atom-1\" d=\"M 124.1,151.6 L 131.1,142.2\" style=\"fill:none;fill-rule:evenodd;stroke:#000000;stroke-width:2.0px;stroke-linecap:butt;stroke-linejoin:miter;stroke-opacity:1\"/>\n",
       "<path class=\"bond-1 atom-1 atom-2\" d=\"M 131.1,142.2 L 126.5,131.5\" style=\"fill:none;fill-rule:evenodd;stroke:#000000;stroke-width:2.0px;stroke-linecap:butt;stroke-linejoin:miter;stroke-opacity:1\"/>\n",
       "<path class=\"bond-2 atom-2 atom-3\" d=\"M 126.5,131.5 L 115.2,134.3\" style=\"fill:none;fill-rule:evenodd;stroke:#000000;stroke-width:2.0px;stroke-linecap:butt;stroke-linejoin:miter;stroke-opacity:1\"/>\n",
       "<path class=\"bond-3 atom-3 atom-4\" d=\"M 114.3,134.3 L 114.7,138.9\" style=\"fill:none;fill-rule:evenodd;stroke:#000000;stroke-width:2.0px;stroke-linecap:butt;stroke-linejoin:miter;stroke-opacity:1\"/>\n",
       "<path class=\"bond-3 atom-3 atom-4\" d=\"M 114.7,138.9 L 115.1,143.5\" style=\"fill:none;fill-rule:evenodd;stroke:#FF0000;stroke-width:2.0px;stroke-linecap:butt;stroke-linejoin:miter;stroke-opacity:1\"/>\n",
       "<path class=\"bond-3 atom-3 atom-4\" d=\"M 116.0,134.1 L 116.5,138.7\" style=\"fill:none;fill-rule:evenodd;stroke:#000000;stroke-width:2.0px;stroke-linecap:butt;stroke-linejoin:miter;stroke-opacity:1\"/>\n",
       "<path class=\"bond-3 atom-3 atom-4\" d=\"M 116.5,138.7 L 116.9,143.4\" style=\"fill:none;fill-rule:evenodd;stroke:#FF0000;stroke-width:2.0px;stroke-linecap:butt;stroke-linejoin:miter;stroke-opacity:1\"/>\n",
       "<path class=\"bond-4 atom-3 atom-5\" d=\"M 115.2,134.3 L 110.4,134.0\" style=\"fill:none;fill-rule:evenodd;stroke:#000000;stroke-width:2.0px;stroke-linecap:butt;stroke-linejoin:miter;stroke-opacity:1\"/>\n",
       "<path class=\"bond-4 atom-3 atom-5\" d=\"M 110.4,134.0 L 105.5,133.7\" style=\"fill:none;fill-rule:evenodd;stroke:#0000FF;stroke-width:2.0px;stroke-linecap:butt;stroke-linejoin:miter;stroke-opacity:1\"/>\n",
       "<path class=\"bond-5 atom-5 atom-6\" d=\"M 101.5,132.7 L 97.1,131.0\" style=\"fill:none;fill-rule:evenodd;stroke:#0000FF;stroke-width:2.0px;stroke-linecap:butt;stroke-linejoin:miter;stroke-opacity:1\"/>\n",
       "<path class=\"bond-5 atom-5 atom-6\" d=\"M 97.1,131.0 L 92.7,129.2\" style=\"fill:none;fill-rule:evenodd;stroke:#000000;stroke-width:2.0px;stroke-linecap:butt;stroke-linejoin:miter;stroke-opacity:1\"/>\n",
       "<path class=\"bond-6 atom-6 atom-7\" d=\"M 92.7,129.2 L 83.7,121.7\" style=\"fill:none;fill-rule:evenodd;stroke:#000000;stroke-width:2.0px;stroke-linecap:butt;stroke-linejoin:miter;stroke-opacity:1\"/>\n",
       "<path class=\"bond-7 atom-7 atom-8\" d=\"M 83.7,121.7 L 81.4,118.0\" style=\"fill:none;fill-rule:evenodd;stroke:#000000;stroke-width:2.0px;stroke-linecap:butt;stroke-linejoin:miter;stroke-opacity:1\"/>\n",
       "<path class=\"bond-7 atom-7 atom-8\" d=\"M 81.4,118.0 L 79.2,114.4\" style=\"fill:none;fill-rule:evenodd;stroke:#CCCC00;stroke-width:2.0px;stroke-linecap:butt;stroke-linejoin:miter;stroke-opacity:1\"/>\n",
       "<path class=\"bond-8 atom-8 atom-9\" d=\"M 76.9,109.3 L 75.3,103.1\" style=\"fill:none;fill-rule:evenodd;stroke:#CCCC00;stroke-width:2.0px;stroke-linecap:butt;stroke-linejoin:miter;stroke-opacity:1\"/>\n",
       "<path class=\"bond-9 atom-9 atom-10\" d=\"M 74.8,97.9 L 75.1,94.7\" style=\"fill:none;fill-rule:evenodd;stroke:#CCCC00;stroke-width:2.0px;stroke-linecap:butt;stroke-linejoin:miter;stroke-opacity:1\"/>\n",
       "<path class=\"bond-9 atom-9 atom-10\" d=\"M 75.1,94.7 L 75.3,91.4\" style=\"fill:none;fill-rule:evenodd;stroke:#000000;stroke-width:2.0px;stroke-linecap:butt;stroke-linejoin:miter;stroke-opacity:1\"/>\n",
       "<path class=\"bond-10 atom-10 atom-11\" d=\"M 76.5,86.3 L 79.8,78.0\" style=\"fill:none;fill-rule:evenodd;stroke:#000000;stroke-width:2.0px;stroke-linecap:butt;stroke-linejoin:miter;stroke-opacity:1\"/>\n",
       "<path class=\"bond-11 atom-11 atom-12\" d=\"M 79.8,78.0 L 87.3,69.0\" style=\"fill:none;fill-rule:evenodd;stroke:#000000;stroke-width:2.0px;stroke-linecap:butt;stroke-linejoin:miter;stroke-opacity:1\"/>\n",
       "<path class=\"bond-12 atom-12 atom-13\" d=\"M 88.1,68.5 L 85.3,65.4\" style=\"fill:none;fill-rule:evenodd;stroke:#000000;stroke-width:2.0px;stroke-linecap:butt;stroke-linejoin:miter;stroke-opacity:1\"/>\n",
       "<path class=\"bond-12 atom-12 atom-13\" d=\"M 85.3,65.4 L 82.6,62.2\" style=\"fill:none;fill-rule:evenodd;stroke:#FF0000;stroke-width:2.0px;stroke-linecap:butt;stroke-linejoin:miter;stroke-opacity:1\"/>\n",
       "<path class=\"bond-12 atom-12 atom-13\" d=\"M 86.7,69.7 L 84.0,66.5\" style=\"fill:none;fill-rule:evenodd;stroke:#000000;stroke-width:2.0px;stroke-linecap:butt;stroke-linejoin:miter;stroke-opacity:1\"/>\n",
       "<path class=\"bond-12 atom-12 atom-13\" d=\"M 84.0,66.5 L 81.2,63.4\" style=\"fill:none;fill-rule:evenodd;stroke:#FF0000;stroke-width:2.0px;stroke-linecap:butt;stroke-linejoin:miter;stroke-opacity:1\"/>\n",
       "<path class=\"bond-13 atom-12 atom-14\" d=\"M 87.3,69.0 L 90.3,67.1\" style=\"fill:none;fill-rule:evenodd;stroke:#000000;stroke-width:2.0px;stroke-linecap:butt;stroke-linejoin:miter;stroke-opacity:1\"/>\n",
       "<path class=\"bond-13 atom-12 atom-14\" d=\"M 90.3,67.1 L 93.2,65.3\" style=\"fill:none;fill-rule:evenodd;stroke:#0000FF;stroke-width:2.0px;stroke-linecap:butt;stroke-linejoin:miter;stroke-opacity:1\"/>\n",
       "<path class=\"bond-14 atom-14 atom-15\" d=\"M 99.2,62.3 L 103.9,61.1\" style=\"fill:none;fill-rule:evenodd;stroke:#0000FF;stroke-width:2.0px;stroke-linecap:butt;stroke-linejoin:miter;stroke-opacity:1\"/>\n",
       "<path class=\"bond-14 atom-14 atom-15\" d=\"M 103.9,61.1 L 108.5,59.9\" style=\"fill:none;fill-rule:evenodd;stroke:#000000;stroke-width:2.0px;stroke-linecap:butt;stroke-linejoin:miter;stroke-opacity:1\"/>\n",
       "<path class=\"bond-15 atom-15 atom-16\" d=\"M 108.5,59.9 L 120.2,60.7\" style=\"fill:none;fill-rule:evenodd;stroke:#000000;stroke-width:2.0px;stroke-linecap:butt;stroke-linejoin:miter;stroke-opacity:1\"/>\n",
       "<path class=\"bond-16 atom-16 atom-17\" d=\"M 121.0,61.1 L 122.0,56.6\" style=\"fill:none;fill-rule:evenodd;stroke:#000000;stroke-width:2.0px;stroke-linecap:butt;stroke-linejoin:miter;stroke-opacity:1\"/>\n",
       "<path class=\"bond-16 atom-16 atom-17\" d=\"M 122.0,56.6 L 123.1,52.1\" style=\"fill:none;fill-rule:evenodd;stroke:#FF0000;stroke-width:2.0px;stroke-linecap:butt;stroke-linejoin:miter;stroke-opacity:1\"/>\n",
       "<path class=\"bond-16 atom-16 atom-17\" d=\"M 119.3,60.7 L 120.3,56.2\" style=\"fill:none;fill-rule:evenodd;stroke:#000000;stroke-width:2.0px;stroke-linecap:butt;stroke-linejoin:miter;stroke-opacity:1\"/>\n",
       "<path class=\"bond-16 atom-16 atom-17\" d=\"M 120.3,56.2 L 121.4,51.7\" style=\"fill:none;fill-rule:evenodd;stroke:#FF0000;stroke-width:2.0px;stroke-linecap:butt;stroke-linejoin:miter;stroke-opacity:1\"/>\n",
       "<path class=\"bond-17 atom-16 atom-18\" d=\"M 120.2,60.7 L 124.6,62.5\" style=\"fill:none;fill-rule:evenodd;stroke:#000000;stroke-width:2.0px;stroke-linecap:butt;stroke-linejoin:miter;stroke-opacity:1\"/>\n",
       "<path class=\"bond-17 atom-16 atom-18\" d=\"M 124.6,62.5 L 129.0,64.3\" style=\"fill:none;fill-rule:evenodd;stroke:#0000FF;stroke-width:2.0px;stroke-linecap:butt;stroke-linejoin:miter;stroke-opacity:1\"/>\n",
       "<path class=\"bond-18 atom-18 atom-19\" d=\"M 134.0,67.6 L 137.0,70.1\" style=\"fill:none;fill-rule:evenodd;stroke:#0000FF;stroke-width:2.0px;stroke-linecap:butt;stroke-linejoin:miter;stroke-opacity:1\"/>\n",
       "<path class=\"bond-18 atom-18 atom-19\" d=\"M 137.0,70.1 L 140.0,72.6\" style=\"fill:none;fill-rule:evenodd;stroke:#000000;stroke-width:2.0px;stroke-linecap:butt;stroke-linejoin:miter;stroke-opacity:1\"/>\n",
       "<path class=\"bond-19 atom-19 atom-20\" d=\"M 140.0,72.6 L 146.2,82.5\" style=\"fill:none;fill-rule:evenodd;stroke:#000000;stroke-width:2.0px;stroke-linecap:butt;stroke-linejoin:miter;stroke-opacity:1\"/>\n",
       "<path class=\"bond-20 atom-20 atom-21\" d=\"M 146.4,83.3 L 150.7,81.5\" style=\"fill:none;fill-rule:evenodd;stroke:#000000;stroke-width:2.0px;stroke-linecap:butt;stroke-linejoin:miter;stroke-opacity:1\"/>\n",
       "<path class=\"bond-20 atom-20 atom-21\" d=\"M 150.7,81.5 L 155.0,79.7\" style=\"fill:none;fill-rule:evenodd;stroke:#FF0000;stroke-width:2.0px;stroke-linecap:butt;stroke-linejoin:miter;stroke-opacity:1\"/>\n",
       "<path class=\"bond-20 atom-20 atom-21\" d=\"M 145.7,81.7 L 150.0,79.9\" style=\"fill:none;fill-rule:evenodd;stroke:#000000;stroke-width:2.0px;stroke-linecap:butt;stroke-linejoin:miter;stroke-opacity:1\"/>\n",
       "<path class=\"bond-20 atom-20 atom-21\" d=\"M 150.0,79.9 L 154.3,78.1\" style=\"fill:none;fill-rule:evenodd;stroke:#FF0000;stroke-width:2.0px;stroke-linecap:butt;stroke-linejoin:miter;stroke-opacity:1\"/>\n",
       "<path class=\"bond-21 atom-20 atom-22\" d=\"M 146.2,82.5 L 147.3,86.9\" style=\"fill:none;fill-rule:evenodd;stroke:#000000;stroke-width:2.0px;stroke-linecap:butt;stroke-linejoin:miter;stroke-opacity:1\"/>\n",
       "<path class=\"bond-21 atom-20 atom-22\" d=\"M 147.3,86.9 L 148.4,91.3\" style=\"fill:none;fill-rule:evenodd;stroke:#0000FF;stroke-width:2.0px;stroke-linecap:butt;stroke-linejoin:miter;stroke-opacity:1\"/>\n",
       "<path class=\"bond-22 atom-22 atom-23\" d=\"M 148.9,96.3 L 148.6,100.9\" style=\"fill:none;fill-rule:evenodd;stroke:#0000FF;stroke-width:2.0px;stroke-linecap:butt;stroke-linejoin:miter;stroke-opacity:1\"/>\n",
       "<path class=\"bond-22 atom-22 atom-23\" d=\"M 148.6,100.9 L 148.3,105.5\" style=\"fill:none;fill-rule:evenodd;stroke:#000000;stroke-width:2.0px;stroke-linecap:butt;stroke-linejoin:miter;stroke-opacity:1\"/>\n",
       "<path class=\"bond-23 atom-23 atom-24\" d=\"M 148.3,105.5 L 143.9,116.3\" style=\"fill:none;fill-rule:evenodd;stroke:#000000;stroke-width:2.0px;stroke-linecap:butt;stroke-linejoin:miter;stroke-opacity:1\"/>\n",
       "<path class=\"bond-24 atom-24 atom-25\" d=\"M 143.3,117.0 L 147.2,119.3\" style=\"fill:none;fill-rule:evenodd;stroke:#000000;stroke-width:2.0px;stroke-linecap:butt;stroke-linejoin:miter;stroke-opacity:1\"/>\n",
       "<path class=\"bond-24 atom-24 atom-25\" d=\"M 147.2,119.3 L 151.1,121.7\" style=\"fill:none;fill-rule:evenodd;stroke:#FF0000;stroke-width:2.0px;stroke-linecap:butt;stroke-linejoin:miter;stroke-opacity:1\"/>\n",
       "<path class=\"bond-24 atom-24 atom-25\" d=\"M 144.2,115.5 L 148.1,117.8\" style=\"fill:none;fill-rule:evenodd;stroke:#000000;stroke-width:2.0px;stroke-linecap:butt;stroke-linejoin:miter;stroke-opacity:1\"/>\n",
       "<path class=\"bond-24 atom-24 atom-25\" d=\"M 148.1,117.8 L 152.0,120.2\" style=\"fill:none;fill-rule:evenodd;stroke:#FF0000;stroke-width:2.0px;stroke-linecap:butt;stroke-linejoin:miter;stroke-opacity:1\"/>\n",
       "<path class=\"bond-25 atom-24 atom-26\" d=\"M 143.9,116.3 L 141.2,119.5\" style=\"fill:none;fill-rule:evenodd;stroke:#000000;stroke-width:2.0px;stroke-linecap:butt;stroke-linejoin:miter;stroke-opacity:1\"/>\n",
       "<path class=\"bond-25 atom-24 atom-26\" d=\"M 141.2,119.5 L 138.5,122.8\" style=\"fill:none;fill-rule:evenodd;stroke:#0000FF;stroke-width:2.0px;stroke-linecap:butt;stroke-linejoin:miter;stroke-opacity:1\"/>\n",
       "<path class=\"bond-26 atom-23 atom-27\" d=\"M 148.3,105.5 L 159.6,108.1\" style=\"fill:none;fill-rule:evenodd;stroke:#000000;stroke-width:2.0px;stroke-linecap:butt;stroke-linejoin:miter;stroke-opacity:1\"/>\n",
       "<path class=\"bond-27 atom-27 atom-28\" d=\"M 159.6,108.1 L 163.1,119.2\" style=\"fill:none;fill-rule:evenodd;stroke:#000000;stroke-width:2.0px;stroke-linecap:butt;stroke-linejoin:miter;stroke-opacity:1\"/>\n",
       "<path class=\"bond-28 atom-28 atom-29\" d=\"M 163.1,119.2 L 174.5,121.9\" style=\"fill:none;fill-rule:evenodd;stroke:#000000;stroke-width:2.0px;stroke-linecap:butt;stroke-linejoin:miter;stroke-opacity:1\"/>\n",
       "<path class=\"bond-29 atom-29 atom-30\" d=\"M 174.5,121.9 L 175.8,126.2\" style=\"fill:none;fill-rule:evenodd;stroke:#000000;stroke-width:2.0px;stroke-linecap:butt;stroke-linejoin:miter;stroke-opacity:1\"/>\n",
       "<path class=\"bond-29 atom-29 atom-30\" d=\"M 175.8,126.2 L 177.1,130.5\" style=\"fill:none;fill-rule:evenodd;stroke:#0000FF;stroke-width:2.0px;stroke-linecap:butt;stroke-linejoin:miter;stroke-opacity:1\"/>\n",
       "<path class=\"bond-30 atom-19 atom-31\" d=\"M 140.0,72.6 L 148.8,64.9\" style=\"fill:none;fill-rule:evenodd;stroke:#000000;stroke-width:2.0px;stroke-linecap:butt;stroke-linejoin:miter;stroke-opacity:1\"/>\n",
       "<path class=\"bond-31 atom-31 atom-32\" d=\"M 148.8,64.9 L 159.9,68.7\" style=\"fill:none;fill-rule:evenodd;stroke:#000000;stroke-width:2.0px;stroke-linecap:butt;stroke-linejoin:miter;stroke-opacity:1\"/>\n",
       "<path class=\"bond-32 atom-32 atom-33\" d=\"M 159.9,68.7 L 163.3,79.9\" style=\"fill:none;fill-rule:evenodd;stroke:#000000;stroke-width:2.0px;stroke-linecap:butt;stroke-linejoin:miter;stroke-opacity:1\"/>\n",
       "<path class=\"bond-32 atom-32 atom-33\" d=\"M 161.9,69.4 L 164.6,78.1\" style=\"fill:none;fill-rule:evenodd;stroke:#000000;stroke-width:2.0px;stroke-linecap:butt;stroke-linejoin:miter;stroke-opacity:1\"/>\n",
       "<path class=\"bond-33 atom-33 atom-34\" d=\"M 163.3,79.9 L 168.1,79.9\" style=\"fill:none;fill-rule:evenodd;stroke:#000000;stroke-width:2.0px;stroke-linecap:butt;stroke-linejoin:miter;stroke-opacity:1\"/>\n",
       "<path class=\"bond-33 atom-33 atom-34\" d=\"M 168.1,79.9 L 173.0,80.0\" style=\"fill:none;fill-rule:evenodd;stroke:#0000FF;stroke-width:2.0px;stroke-linecap:butt;stroke-linejoin:miter;stroke-opacity:1\"/>\n",
       "<path class=\"bond-34 atom-34 atom-35\" d=\"M 175.8,77.5 L 177.3,73.3\" style=\"fill:none;fill-rule:evenodd;stroke:#0000FF;stroke-width:2.0px;stroke-linecap:butt;stroke-linejoin:miter;stroke-opacity:1\"/>\n",
       "<path class=\"bond-34 atom-34 atom-35\" d=\"M 177.3,73.3 L 178.8,69.0\" style=\"fill:none;fill-rule:evenodd;stroke:#000000;stroke-width:2.0px;stroke-linecap:butt;stroke-linejoin:miter;stroke-opacity:1\"/>\n",
       "<path class=\"bond-35 atom-35 atom-36\" d=\"M 178.8,69.0 L 189.5,64.4\" style=\"fill:none;fill-rule:evenodd;stroke:#000000;stroke-width:2.0px;stroke-linecap:butt;stroke-linejoin:miter;stroke-opacity:1\"/>\n",
       "<path class=\"bond-35 atom-35 atom-36\" d=\"M 179.0,67.0 L 187.9,63.2\" style=\"fill:none;fill-rule:evenodd;stroke:#000000;stroke-width:2.0px;stroke-linecap:butt;stroke-linejoin:miter;stroke-opacity:1\"/>\n",
       "<path class=\"bond-36 atom-36 atom-37\" d=\"M 189.5,64.4 L 190.9,52.8\" style=\"fill:none;fill-rule:evenodd;stroke:#000000;stroke-width:2.0px;stroke-linecap:butt;stroke-linejoin:miter;stroke-opacity:1\"/>\n",
       "<path class=\"bond-37 atom-37 atom-38\" d=\"M 190.9,52.8 L 181.6,45.8\" style=\"fill:none;fill-rule:evenodd;stroke:#000000;stroke-width:2.0px;stroke-linecap:butt;stroke-linejoin:miter;stroke-opacity:1\"/>\n",
       "<path class=\"bond-37 atom-37 atom-38\" d=\"M 189.0,53.6 L 181.3,47.8\" style=\"fill:none;fill-rule:evenodd;stroke:#000000;stroke-width:2.0px;stroke-linecap:butt;stroke-linejoin:miter;stroke-opacity:1\"/>\n",
       "<path class=\"bond-38 atom-38 atom-39\" d=\"M 181.6,45.8 L 170.8,50.4\" style=\"fill:none;fill-rule:evenodd;stroke:#000000;stroke-width:2.0px;stroke-linecap:butt;stroke-linejoin:miter;stroke-opacity:1\"/>\n",
       "<path class=\"bond-39 atom-39 atom-40\" d=\"M 170.8,50.4 L 169.4,62.0\" style=\"fill:none;fill-rule:evenodd;stroke:#000000;stroke-width:2.0px;stroke-linecap:butt;stroke-linejoin:miter;stroke-opacity:1\"/>\n",
       "<path class=\"bond-39 atom-39 atom-40\" d=\"M 172.4,51.6 L 171.3,61.2\" style=\"fill:none;fill-rule:evenodd;stroke:#000000;stroke-width:2.0px;stroke-linecap:butt;stroke-linejoin:miter;stroke-opacity:1\"/>\n",
       "<path class=\"bond-40 atom-15 atom-41\" d=\"M 108.5,59.9 L 107.5,48.3\" style=\"fill:none;fill-rule:evenodd;stroke:#000000;stroke-width:2.0px;stroke-linecap:butt;stroke-linejoin:miter;stroke-opacity:1\"/>\n",
       "<path class=\"bond-41 atom-41 atom-42\" d=\"M 107.5,48.3 L 96.9,43.4\" style=\"fill:none;fill-rule:evenodd;stroke:#000000;stroke-width:2.0px;stroke-linecap:butt;stroke-linejoin:miter;stroke-opacity:1\"/>\n",
       "<path class=\"bond-42 atom-42 atom-43\" d=\"M 96.9,43.4 L 87.3,50.1\" style=\"fill:none;fill-rule:evenodd;stroke:#000000;stroke-width:2.0px;stroke-linecap:butt;stroke-linejoin:miter;stroke-opacity:1\"/>\n",
       "<path class=\"bond-42 atom-42 atom-43\" d=\"M 95.1,42.5 L 87.2,48.1\" style=\"fill:none;fill-rule:evenodd;stroke:#000000;stroke-width:2.0px;stroke-linecap:butt;stroke-linejoin:miter;stroke-opacity:1\"/>\n",
       "<path class=\"bond-43 atom-43 atom-44\" d=\"M 87.3,50.1 L 76.7,45.2\" style=\"fill:none;fill-rule:evenodd;stroke:#000000;stroke-width:2.0px;stroke-linecap:butt;stroke-linejoin:miter;stroke-opacity:1\"/>\n",
       "<path class=\"bond-44 atom-44 atom-45\" d=\"M 76.7,45.2 L 75.7,33.5\" style=\"fill:none;fill-rule:evenodd;stroke:#000000;stroke-width:2.0px;stroke-linecap:butt;stroke-linejoin:miter;stroke-opacity:1\"/>\n",
       "<path class=\"bond-44 atom-44 atom-45\" d=\"M 78.4,44.0 L 77.5,34.4\" style=\"fill:none;fill-rule:evenodd;stroke:#000000;stroke-width:2.0px;stroke-linecap:butt;stroke-linejoin:miter;stroke-opacity:1\"/>\n",
       "<path class=\"bond-45 atom-45 atom-46\" d=\"M 75.7,33.5 L 85.3,26.8\" style=\"fill:none;fill-rule:evenodd;stroke:#000000;stroke-width:2.0px;stroke-linecap:butt;stroke-linejoin:miter;stroke-opacity:1\"/>\n",
       "<path class=\"bond-46 atom-46 atom-47\" d=\"M 85.3,26.8 L 95.9,31.7\" style=\"fill:none;fill-rule:evenodd;stroke:#000000;stroke-width:2.0px;stroke-linecap:butt;stroke-linejoin:miter;stroke-opacity:1\"/>\n",
       "<path class=\"bond-46 atom-46 atom-47\" d=\"M 85.4,28.8 L 94.2,32.9\" style=\"fill:none;fill-rule:evenodd;stroke:#000000;stroke-width:2.0px;stroke-linecap:butt;stroke-linejoin:miter;stroke-opacity:1\"/>\n",
       "<path class=\"bond-47 atom-45 atom-48\" d=\"M 75.7,33.5 L 71.6,31.6\" style=\"fill:none;fill-rule:evenodd;stroke:#000000;stroke-width:2.0px;stroke-linecap:butt;stroke-linejoin:miter;stroke-opacity:1\"/>\n",
       "<path class=\"bond-47 atom-45 atom-48\" d=\"M 71.6,31.6 L 67.4,29.7\" style=\"fill:none;fill-rule:evenodd;stroke:#FF0000;stroke-width:2.0px;stroke-linecap:butt;stroke-linejoin:miter;stroke-opacity:1\"/>\n",
       "<path class=\"bond-48 atom-11 atom-49\" d=\"M 79.8,78.0 L 75.8,75.6\" style=\"fill:none;fill-rule:evenodd;stroke:#000000;stroke-width:2.0px;stroke-linecap:butt;stroke-linejoin:miter;stroke-opacity:1\"/>\n",
       "<path class=\"bond-48 atom-11 atom-49\" d=\"M 75.8,75.6 L 71.8,73.2\" style=\"fill:none;fill-rule:evenodd;stroke:#0000FF;stroke-width:2.0px;stroke-linecap:butt;stroke-linejoin:miter;stroke-opacity:1\"/>\n",
       "<path class=\"bond-49 atom-49 atom-50\" d=\"M 67.8,73.1 L 63.7,75.4\" style=\"fill:none;fill-rule:evenodd;stroke:#0000FF;stroke-width:2.0px;stroke-linecap:butt;stroke-linejoin:miter;stroke-opacity:1\"/>\n",
       "<path class=\"bond-49 atom-49 atom-50\" d=\"M 63.7,75.4 L 59.6,77.6\" style=\"fill:none;fill-rule:evenodd;stroke:#000000;stroke-width:2.0px;stroke-linecap:butt;stroke-linejoin:miter;stroke-opacity:1\"/>\n",
       "<path class=\"bond-50 atom-50 atom-51\" d=\"M 58.7,77.1 L 58.6,81.9\" style=\"fill:none;fill-rule:evenodd;stroke:#000000;stroke-width:2.0px;stroke-linecap:butt;stroke-linejoin:miter;stroke-opacity:1\"/>\n",
       "<path class=\"bond-50 atom-50 atom-51\" d=\"M 58.6,81.9 L 58.6,86.8\" style=\"fill:none;fill-rule:evenodd;stroke:#FF0000;stroke-width:2.0px;stroke-linecap:butt;stroke-linejoin:miter;stroke-opacity:1\"/>\n",
       "<path class=\"bond-50 atom-50 atom-51\" d=\"M 60.5,77.1 L 60.4,82.0\" style=\"fill:none;fill-rule:evenodd;stroke:#000000;stroke-width:2.0px;stroke-linecap:butt;stroke-linejoin:miter;stroke-opacity:1\"/>\n",
       "<path class=\"bond-50 atom-50 atom-51\" d=\"M 60.4,82.0 L 60.3,86.8\" style=\"fill:none;fill-rule:evenodd;stroke:#FF0000;stroke-width:2.0px;stroke-linecap:butt;stroke-linejoin:miter;stroke-opacity:1\"/>\n",
       "<path class=\"bond-51 atom-50 atom-52\" d=\"M 59.6,77.6 L 49.6,71.6\" style=\"fill:none;fill-rule:evenodd;stroke:#000000;stroke-width:2.0px;stroke-linecap:butt;stroke-linejoin:miter;stroke-opacity:1\"/>\n",
       "<path class=\"bond-52 atom-52 atom-53\" d=\"M 49.6,71.6 L 39.3,77.3\" style=\"fill:none;fill-rule:evenodd;stroke:#000000;stroke-width:2.0px;stroke-linecap:butt;stroke-linejoin:miter;stroke-opacity:1\"/>\n",
       "<path class=\"bond-53 atom-53 atom-54\" d=\"M 39.3,77.3 L 29.3,71.3\" style=\"fill:none;fill-rule:evenodd;stroke:#000000;stroke-width:2.0px;stroke-linecap:butt;stroke-linejoin:miter;stroke-opacity:1\"/>\n",
       "<path class=\"bond-54 atom-54 atom-55\" d=\"M 29.3,71.3 L 19.1,77.0\" style=\"fill:none;fill-rule:evenodd;stroke:#000000;stroke-width:2.0px;stroke-linecap:butt;stroke-linejoin:miter;stroke-opacity:1\"/>\n",
       "<path class=\"bond-54 atom-54 atom-55\" d=\"M 27.6,70.3 L 19.1,75.0\" style=\"fill:none;fill-rule:evenodd;stroke:#000000;stroke-width:2.0px;stroke-linecap:butt;stroke-linejoin:miter;stroke-opacity:1\"/>\n",
       "<path class=\"bond-55 atom-55 atom-56\" d=\"M 19.1,77.0 L 9.1,71.0\" style=\"fill:none;fill-rule:evenodd;stroke:#000000;stroke-width:2.0px;stroke-linecap:butt;stroke-linejoin:miter;stroke-opacity:1\"/>\n",
       "<path class=\"bond-56 atom-56 atom-57\" d=\"M 9.1,71.0 L 9.3,59.3\" style=\"fill:none;fill-rule:evenodd;stroke:#000000;stroke-width:2.0px;stroke-linecap:butt;stroke-linejoin:miter;stroke-opacity:1\"/>\n",
       "<path class=\"bond-56 atom-56 atom-57\" d=\"M 10.9,70.0 L 11.0,60.4\" style=\"fill:none;fill-rule:evenodd;stroke:#000000;stroke-width:2.0px;stroke-linecap:butt;stroke-linejoin:miter;stroke-opacity:1\"/>\n",
       "<path class=\"bond-57 atom-57 atom-58\" d=\"M 9.3,59.3 L 19.5,53.6\" style=\"fill:none;fill-rule:evenodd;stroke:#000000;stroke-width:2.0px;stroke-linecap:butt;stroke-linejoin:miter;stroke-opacity:1\"/>\n",
       "<path class=\"bond-58 atom-58 atom-59\" d=\"M 19.5,53.6 L 29.5,59.6\" style=\"fill:none;fill-rule:evenodd;stroke:#000000;stroke-width:2.0px;stroke-linecap:butt;stroke-linejoin:miter;stroke-opacity:1\"/>\n",
       "<path class=\"bond-58 atom-58 atom-59\" d=\"M 19.5,55.7 L 27.7,60.6\" style=\"fill:none;fill-rule:evenodd;stroke:#000000;stroke-width:2.0px;stroke-linecap:butt;stroke-linejoin:miter;stroke-opacity:1\"/>\n",
       "<path class=\"bond-59 atom-52 atom-60\" d=\"M 49.6,71.6 L 49.6,67.1\" style=\"fill:none;fill-rule:evenodd;stroke:#000000;stroke-width:2.0px;stroke-linecap:butt;stroke-linejoin:miter;stroke-opacity:1\"/>\n",
       "<path class=\"bond-59 atom-52 atom-60\" d=\"M 49.6,67.1 L 49.7,62.5\" style=\"fill:none;fill-rule:evenodd;stroke:#0000FF;stroke-width:2.0px;stroke-linecap:butt;stroke-linejoin:miter;stroke-opacity:1\"/>\n",
       "<path class=\"bond-60 atom-7 atom-61\" d=\"M 83.7,121.7 L 80.5,132.9\" style=\"fill:none;fill-rule:evenodd;stroke:#000000;stroke-width:2.0px;stroke-linecap:butt;stroke-linejoin:miter;stroke-opacity:1\"/>\n",
       "<path class=\"bond-61 atom-7 atom-62\" d=\"M 83.7,121.7 L 72.2,123.3\" style=\"fill:none;fill-rule:evenodd;stroke:#000000;stroke-width:2.0px;stroke-linecap:butt;stroke-linejoin:miter;stroke-opacity:1\"/>\n",
       "<path class=\"bond-62 atom-6 atom-63\" d=\"M 92.7,129.2 L 86.7,139.2\" style=\"fill:none;fill-rule:evenodd;stroke:#000000;stroke-width:2.0px;stroke-linecap:butt;stroke-linejoin:miter;stroke-opacity:1\"/>\n",
       "<path class=\"bond-63 atom-63 atom-64\" d=\"M 85.7,139.2 L 87.9,143.2\" style=\"fill:none;fill-rule:evenodd;stroke:#000000;stroke-width:2.0px;stroke-linecap:butt;stroke-linejoin:miter;stroke-opacity:1\"/>\n",
       "<path class=\"bond-63 atom-63 atom-64\" d=\"M 87.9,143.2 L 90.2,147.3\" style=\"fill:none;fill-rule:evenodd;stroke:#FF0000;stroke-width:2.0px;stroke-linecap:butt;stroke-linejoin:miter;stroke-opacity:1\"/>\n",
       "<path class=\"bond-63 atom-63 atom-64\" d=\"M 87.2,138.3 L 89.5,142.4\" style=\"fill:none;fill-rule:evenodd;stroke:#000000;stroke-width:2.0px;stroke-linecap:butt;stroke-linejoin:miter;stroke-opacity:1\"/>\n",
       "<path class=\"bond-63 atom-63 atom-64\" d=\"M 89.5,142.4 L 91.7,146.4\" style=\"fill:none;fill-rule:evenodd;stroke:#FF0000;stroke-width:2.0px;stroke-linecap:butt;stroke-linejoin:miter;stroke-opacity:1\"/>\n",
       "<path class=\"bond-64 atom-63 atom-65\" d=\"M 86.7,139.2 L 81.8,139.1\" style=\"fill:none;fill-rule:evenodd;stroke:#000000;stroke-width:2.0px;stroke-linecap:butt;stroke-linejoin:miter;stroke-opacity:1\"/>\n",
       "<path class=\"bond-64 atom-63 atom-65\" d=\"M 81.8,139.1 L 77.0,139.0\" style=\"fill:none;fill-rule:evenodd;stroke:#0000FF;stroke-width:2.0px;stroke-linecap:butt;stroke-linejoin:miter;stroke-opacity:1\"/>\n",
       "<path class=\"bond-65 atom-65 atom-66\" d=\"M 73.5,141.5 L 71.3,145.3\" style=\"fill:none;fill-rule:evenodd;stroke:#0000FF;stroke-width:2.0px;stroke-linecap:butt;stroke-linejoin:miter;stroke-opacity:1\"/>\n",
       "<path class=\"bond-65 atom-65 atom-66\" d=\"M 71.3,145.3 L 69.0,149.0\" style=\"fill:none;fill-rule:evenodd;stroke:#000000;stroke-width:2.0px;stroke-linecap:butt;stroke-linejoin:miter;stroke-opacity:1\"/>\n",
       "<path class=\"bond-66 atom-66 atom-67\" d=\"M 69.0,149.0 L 57.3,148.9\" style=\"fill:none;fill-rule:evenodd;stroke:#000000;stroke-width:2.0px;stroke-linecap:butt;stroke-linejoin:miter;stroke-opacity:1\"/>\n",
       "<path class=\"bond-67 atom-67 atom-68\" d=\"M 57.3,148.9 L 51.3,158.9\" style=\"fill:none;fill-rule:evenodd;stroke:#000000;stroke-width:2.0px;stroke-linecap:butt;stroke-linejoin:miter;stroke-opacity:1\"/>\n",
       "<path class=\"bond-68 atom-67 atom-69\" d=\"M 57.3,148.9 L 55.2,145.1\" style=\"fill:none;fill-rule:evenodd;stroke:#000000;stroke-width:2.0px;stroke-linecap:butt;stroke-linejoin:miter;stroke-opacity:1\"/>\n",
       "<path class=\"bond-68 atom-67 atom-69\" d=\"M 55.2,145.1 L 53.1,141.2\" style=\"fill:none;fill-rule:evenodd;stroke:#FF0000;stroke-width:2.0px;stroke-linecap:butt;stroke-linejoin:miter;stroke-opacity:1\"/>\n",
       "<path class=\"bond-69 atom-66 atom-70\" d=\"M 69.0,149.0 L 74.7,159.3\" style=\"fill:none;fill-rule:evenodd;stroke:#000000;stroke-width:2.0px;stroke-linecap:butt;stroke-linejoin:miter;stroke-opacity:1\"/>\n",
       "<path class=\"bond-70 atom-70 atom-71\" d=\"M 74.2,160.1 L 79.1,160.2\" style=\"fill:none;fill-rule:evenodd;stroke:#000000;stroke-width:2.0px;stroke-linecap:butt;stroke-linejoin:miter;stroke-opacity:1\"/>\n",
       "<path class=\"bond-70 atom-70 atom-71\" d=\"M 79.1,160.2 L 84.0,160.3\" style=\"fill:none;fill-rule:evenodd;stroke:#FF0000;stroke-width:2.0px;stroke-linecap:butt;stroke-linejoin:miter;stroke-opacity:1\"/>\n",
       "<path class=\"bond-70 atom-70 atom-71\" d=\"M 74.2,158.4 L 79.1,158.4\" style=\"fill:none;fill-rule:evenodd;stroke:#000000;stroke-width:2.0px;stroke-linecap:butt;stroke-linejoin:miter;stroke-opacity:1\"/>\n",
       "<path class=\"bond-70 atom-70 atom-71\" d=\"M 79.1,158.4 L 84.0,158.5\" style=\"fill:none;fill-rule:evenodd;stroke:#FF0000;stroke-width:2.0px;stroke-linecap:butt;stroke-linejoin:miter;stroke-opacity:1\"/>\n",
       "<path class=\"bond-71 atom-70 atom-72\" d=\"M 74.7,159.3 L 72.4,163.0\" style=\"fill:none;fill-rule:evenodd;stroke:#000000;stroke-width:2.0px;stroke-linecap:butt;stroke-linejoin:miter;stroke-opacity:1\"/>\n",
       "<path class=\"bond-71 atom-70 atom-72\" d=\"M 72.4,163.0 L 70.2,166.8\" style=\"fill:none;fill-rule:evenodd;stroke:#0000FF;stroke-width:2.0px;stroke-linecap:butt;stroke-linejoin:miter;stroke-opacity:1\"/>\n",
       "<path class=\"bond-72 atom-1 atom-73\" d=\"M 131.1,142.2 L 135.7,142.8\" style=\"fill:none;fill-rule:evenodd;stroke:#000000;stroke-width:2.0px;stroke-linecap:butt;stroke-linejoin:miter;stroke-opacity:1\"/>\n",
       "<path class=\"bond-72 atom-1 atom-73\" d=\"M 135.7,142.8 L 140.4,143.3\" style=\"fill:none;fill-rule:evenodd;stroke:#FF0000;stroke-width:2.0px;stroke-linecap:butt;stroke-linejoin:miter;stroke-opacity:1\"/>\n",
       "<path class=\"bond-73 atom-26 atom-2\" d=\"M 134.4,126.5 L 130.5,129.0\" style=\"fill:none;fill-rule:evenodd;stroke:#0000FF;stroke-width:2.0px;stroke-linecap:butt;stroke-linejoin:miter;stroke-opacity:1\"/>\n",
       "<path class=\"bond-73 atom-26 atom-2\" d=\"M 130.5,129.0 L 126.5,131.5\" style=\"fill:none;fill-rule:evenodd;stroke:#000000;stroke-width:2.0px;stroke-linecap:butt;stroke-linejoin:miter;stroke-opacity:1\"/>\n",
       "<path class=\"bond-74 atom-40 atom-32\" d=\"M 169.4,62.0 L 159.9,68.7\" style=\"fill:none;fill-rule:evenodd;stroke:#000000;stroke-width:2.0px;stroke-linecap:butt;stroke-linejoin:miter;stroke-opacity:1\"/>\n",
       "<path class=\"bond-75 atom-40 atom-35\" d=\"M 169.4,62.0 L 178.8,69.0\" style=\"fill:none;fill-rule:evenodd;stroke:#000000;stroke-width:2.0px;stroke-linecap:butt;stroke-linejoin:miter;stroke-opacity:1\"/>\n",
       "<path class=\"bond-76 atom-47 atom-42\" d=\"M 95.9,31.7 L 96.9,43.4\" style=\"fill:none;fill-rule:evenodd;stroke:#000000;stroke-width:2.0px;stroke-linecap:butt;stroke-linejoin:miter;stroke-opacity:1\"/>\n",
       "<path class=\"bond-77 atom-59 atom-54\" d=\"M 29.5,59.6 L 29.3,71.3\" style=\"fill:none;fill-rule:evenodd;stroke:#000000;stroke-width:2.0px;stroke-linecap:butt;stroke-linejoin:miter;stroke-opacity:1\"/>\n",
       "<path d=\"M 115.7,134.2 L 115.2,134.3 L 114.9,134.3\" style=\"fill:none;stroke:#000000;stroke-width:2.0px;stroke-linecap:butt;stroke-linejoin:miter;stroke-opacity:1;\"/>\n",
       "<path d=\"M 86.9,69.4 L 87.3,69.0 L 87.5,68.9\" style=\"fill:none;stroke:#000000;stroke-width:2.0px;stroke-linecap:butt;stroke-linejoin:miter;stroke-opacity:1;\"/>\n",
       "<path d=\"M 119.6,60.7 L 120.2,60.7 L 120.4,60.8\" style=\"fill:none;stroke:#000000;stroke-width:2.0px;stroke-linecap:butt;stroke-linejoin:miter;stroke-opacity:1;\"/>\n",
       "<path d=\"M 145.9,82.0 L 146.2,82.5 L 146.3,82.7\" style=\"fill:none;stroke:#000000;stroke-width:2.0px;stroke-linecap:butt;stroke-linejoin:miter;stroke-opacity:1;\"/>\n",
       "<path d=\"M 144.1,115.8 L 143.9,116.3 L 143.8,116.5\" style=\"fill:none;stroke:#000000;stroke-width:2.0px;stroke-linecap:butt;stroke-linejoin:miter;stroke-opacity:1;\"/>\n",
       "<path d=\"M 159.1,107.9 L 159.6,108.1 L 159.8,108.6\" style=\"fill:none;stroke:#000000;stroke-width:2.0px;stroke-linecap:butt;stroke-linejoin:miter;stroke-opacity:1;\"/>\n",
       "<path d=\"M 162.9,118.7 L 163.1,119.2 L 163.7,119.4\" style=\"fill:none;stroke:#000000;stroke-width:2.0px;stroke-linecap:butt;stroke-linejoin:miter;stroke-opacity:1;\"/>\n",
       "<path d=\"M 173.9,121.7 L 174.5,121.9 L 174.5,122.1\" style=\"fill:none;stroke:#000000;stroke-width:2.0px;stroke-linecap:butt;stroke-linejoin:miter;stroke-opacity:1;\"/>\n",
       "<path d=\"M 148.4,65.3 L 148.8,64.9 L 149.4,65.1\" style=\"fill:none;stroke:#000000;stroke-width:2.0px;stroke-linecap:butt;stroke-linejoin:miter;stroke-opacity:1;\"/>\n",
       "<path d=\"M 163.1,79.3 L 163.3,79.9 L 163.5,79.9\" style=\"fill:none;stroke:#000000;stroke-width:2.0px;stroke-linecap:butt;stroke-linejoin:miter;stroke-opacity:1;\"/>\n",
       "<path d=\"M 189.0,64.6 L 189.5,64.4 L 189.6,63.8\" style=\"fill:none;stroke:#000000;stroke-width:2.0px;stroke-linecap:butt;stroke-linejoin:miter;stroke-opacity:1;\"/>\n",
       "<path d=\"M 190.8,53.4 L 190.9,52.8 L 190.4,52.4\" style=\"fill:none;stroke:#000000;stroke-width:2.0px;stroke-linecap:butt;stroke-linejoin:miter;stroke-opacity:1;\"/>\n",
       "<path d=\"M 182.0,46.1 L 181.6,45.8 L 181.0,46.0\" style=\"fill:none;stroke:#000000;stroke-width:2.0px;stroke-linecap:butt;stroke-linejoin:miter;stroke-opacity:1;\"/>\n",
       "<path d=\"M 171.4,50.1 L 170.8,50.4 L 170.7,50.9\" style=\"fill:none;stroke:#000000;stroke-width:2.0px;stroke-linecap:butt;stroke-linejoin:miter;stroke-opacity:1;\"/>\n",
       "<path d=\"M 107.6,48.9 L 107.5,48.3 L 107.0,48.1\" style=\"fill:none;stroke:#000000;stroke-width:2.0px;stroke-linecap:butt;stroke-linejoin:miter;stroke-opacity:1;\"/>\n",
       "<path d=\"M 87.8,49.8 L 87.3,50.1 L 86.8,49.9\" style=\"fill:none;stroke:#000000;stroke-width:2.0px;stroke-linecap:butt;stroke-linejoin:miter;stroke-opacity:1;\"/>\n",
       "<path d=\"M 77.3,45.4 L 76.7,45.2 L 76.7,44.6\" style=\"fill:none;stroke:#000000;stroke-width:2.0px;stroke-linecap:butt;stroke-linejoin:miter;stroke-opacity:1;\"/>\n",
       "<path d=\"M 84.8,27.2 L 85.3,26.8 L 85.8,27.1\" style=\"fill:none;stroke:#000000;stroke-width:2.0px;stroke-linecap:butt;stroke-linejoin:miter;stroke-opacity:1;\"/>\n",
       "<path d=\"M 95.3,31.5 L 95.9,31.7 L 95.9,32.3\" style=\"fill:none;stroke:#000000;stroke-width:2.0px;stroke-linecap:butt;stroke-linejoin:miter;stroke-opacity:1;\"/>\n",
       "<path d=\"M 59.8,77.5 L 59.6,77.6 L 59.1,77.3\" style=\"fill:none;stroke:#000000;stroke-width:2.0px;stroke-linecap:butt;stroke-linejoin:miter;stroke-opacity:1;\"/>\n",
       "<path d=\"M 39.9,77.0 L 39.3,77.3 L 38.8,77.0\" style=\"fill:none;stroke:#000000;stroke-width:2.0px;stroke-linecap:butt;stroke-linejoin:miter;stroke-opacity:1;\"/>\n",
       "<path d=\"M 19.6,76.7 L 19.1,77.0 L 18.6,76.7\" style=\"fill:none;stroke:#000000;stroke-width:2.0px;stroke-linecap:butt;stroke-linejoin:miter;stroke-opacity:1;\"/>\n",
       "<path d=\"M 9.6,71.3 L 9.1,71.0 L 9.1,70.4\" style=\"fill:none;stroke:#000000;stroke-width:2.0px;stroke-linecap:butt;stroke-linejoin:miter;stroke-opacity:1;\"/>\n",
       "<path d=\"M 9.3,59.9 L 9.3,59.3 L 9.8,59.0\" style=\"fill:none;stroke:#000000;stroke-width:2.0px;stroke-linecap:butt;stroke-linejoin:miter;stroke-opacity:1;\"/>\n",
       "<path d=\"M 19.0,53.9 L 19.5,53.6 L 20.0,53.9\" style=\"fill:none;stroke:#000000;stroke-width:2.0px;stroke-linecap:butt;stroke-linejoin:miter;stroke-opacity:1;\"/>\n",
       "<path d=\"M 29.0,59.3 L 29.5,59.6 L 29.5,60.2\" style=\"fill:none;stroke:#000000;stroke-width:2.0px;stroke-linecap:butt;stroke-linejoin:miter;stroke-opacity:1;\"/>\n",
       "<path d=\"M 87.0,138.7 L 86.7,139.2 L 86.4,139.2\" style=\"fill:none;stroke:#000000;stroke-width:2.0px;stroke-linecap:butt;stroke-linejoin:miter;stroke-opacity:1;\"/>\n",
       "<path d=\"M 74.4,158.7 L 74.7,159.3 L 74.6,159.4\" style=\"fill:none;stroke:#000000;stroke-width:2.0px;stroke-linecap:butt;stroke-linejoin:miter;stroke-opacity:1;\"/>\n",
       "<path class=\"atom-4\" d=\"M 114.3 146.0 Q 114.3 145.0, 114.8 144.4 Q 115.3 143.8, 116.2 143.8 Q 117.2 143.8, 117.7 144.4 Q 118.2 145.0, 118.2 146.0 Q 118.2 147.0, 117.7 147.6 Q 117.2 148.2, 116.2 148.2 Q 115.3 148.2, 114.8 147.6 Q 114.3 147.0, 114.3 146.0 M 116.2 147.7 Q 116.9 147.7, 117.2 147.3 Q 117.6 146.8, 117.6 146.0 Q 117.6 145.1, 117.2 144.7 Q 116.9 144.3, 116.2 144.3 Q 115.6 144.3, 115.2 144.7 Q 114.9 145.1, 114.9 146.0 Q 114.9 146.8, 115.2 147.3 Q 115.6 147.7, 116.2 147.7 \" fill=\"#FF0000\"/>\n",
       "<path class=\"atom-5\" d=\"M 102.6 131.4 L 104.0 133.7 Q 104.1 133.9, 104.3 134.3 Q 104.6 134.7, 104.6 134.7 L 104.6 131.4 L 105.1 131.4 L 105.1 135.7 L 104.6 135.7 L 103.1 133.2 Q 102.9 132.9, 102.7 132.6 Q 102.5 132.2, 102.5 132.1 L 102.5 135.7 L 101.9 135.7 L 101.9 131.4 L 102.6 131.4 \" fill=\"#0000FF\"/>\n",
       "<path class=\"atom-5\" d=\"M 101.9 136.1 L 102.4 136.1 L 102.4 137.9 L 104.6 137.9 L 104.6 136.1 L 105.2 136.1 L 105.2 140.3 L 104.6 140.3 L 104.6 138.4 L 102.4 138.4 L 102.4 140.3 L 101.9 140.3 L 101.9 136.1 \" fill=\"#0000FF\"/>\n",
       "<path class=\"atom-8\" d=\"M 76.3 113.2 Q 76.4 113.3, 76.6 113.3 Q 76.8 113.4, 77.0 113.5 Q 77.2 113.5, 77.4 113.5 Q 77.8 113.5, 78.0 113.3 Q 78.3 113.1, 78.3 112.8 Q 78.3 112.6, 78.2 112.4 Q 78.0 112.3, 77.9 112.2 Q 77.7 112.1, 77.4 112.0 Q 77.0 111.9, 76.8 111.8 Q 76.6 111.7, 76.4 111.5 Q 76.2 111.2, 76.2 110.9 Q 76.2 110.3, 76.6 110.0 Q 77.0 109.7, 77.7 109.7 Q 78.2 109.7, 78.7 109.9 L 78.6 110.4 Q 78.1 110.2, 77.7 110.2 Q 77.3 110.2, 77.1 110.3 Q 76.8 110.5, 76.8 110.8 Q 76.8 111.0, 77.0 111.2 Q 77.1 111.3, 77.2 111.4 Q 77.4 111.4, 77.7 111.5 Q 78.1 111.7, 78.3 111.8 Q 78.5 111.9, 78.7 112.1 Q 78.9 112.4, 78.9 112.8 Q 78.9 113.4, 78.5 113.7 Q 78.1 114.0, 77.4 114.0 Q 77.1 114.0, 76.8 113.9 Q 76.5 113.9, 76.2 113.7 L 76.3 113.2 \" fill=\"#CCCC00\"/>\n",
       "<path class=\"atom-9\" d=\"M 73.5 101.9 Q 73.5 101.9, 73.7 102.0 Q 73.9 102.1, 74.1 102.2 Q 74.3 102.2, 74.6 102.2 Q 75.0 102.2, 75.2 102.0 Q 75.4 101.8, 75.4 101.5 Q 75.4 101.2, 75.3 101.1 Q 75.2 100.9, 75.0 100.9 Q 74.8 100.8, 74.5 100.7 Q 74.2 100.6, 73.9 100.5 Q 73.7 100.4, 73.5 100.1 Q 73.4 99.9, 73.4 99.5 Q 73.4 99.0, 73.8 98.7 Q 74.1 98.3, 74.8 98.3 Q 75.3 98.3, 75.9 98.6 L 75.8 99.0 Q 75.2 98.8, 74.9 98.8 Q 74.4 98.8, 74.2 99.0 Q 74.0 99.2, 74.0 99.5 Q 74.0 99.7, 74.1 99.8 Q 74.2 100.0, 74.4 100.0 Q 74.6 100.1, 74.9 100.2 Q 75.2 100.3, 75.5 100.4 Q 75.7 100.6, 75.9 100.8 Q 76.0 101.1, 76.0 101.5 Q 76.0 102.1, 75.6 102.4 Q 75.2 102.7, 74.6 102.7 Q 74.2 102.7, 73.9 102.6 Q 73.6 102.5, 73.3 102.4 L 73.5 101.9 \" fill=\"#CCCC00\"/>\n",
       "<path class=\"atom-10\" d=\"M 73.8 88.8 Q 73.8 87.8, 74.3 87.2 Q 74.8 86.6, 75.8 86.6 Q 76.6 86.6, 77.1 87.3 L 76.7 87.6 Q 76.4 87.1, 75.8 87.1 Q 75.1 87.1, 74.8 87.6 Q 74.4 88.0, 74.4 88.8 Q 74.4 89.7, 74.8 90.1 Q 75.1 90.5, 75.8 90.5 Q 76.3 90.5, 76.8 90.2 L 77.0 90.7 Q 76.8 90.8, 76.4 90.9 Q 76.1 91.0, 75.7 91.0 Q 74.8 91.0, 74.3 90.4 Q 73.8 89.9, 73.8 88.8 \" fill=\"#000000\"/>\n",
       "<path class=\"atom-13\" d=\"M 77.7 60.2 Q 77.7 59.2, 78.2 58.6 Q 78.7 58.0, 79.6 58.0 Q 80.6 58.0, 81.1 58.6 Q 81.6 59.2, 81.6 60.2 Q 81.6 61.2, 81.1 61.8 Q 80.6 62.4, 79.6 62.4 Q 78.7 62.4, 78.2 61.8 Q 77.7 61.2, 77.7 60.2 M 79.6 61.9 Q 80.3 61.9, 80.6 61.5 Q 81.0 61.1, 81.0 60.2 Q 81.0 59.4, 80.6 58.9 Q 80.3 58.5, 79.6 58.5 Q 79.0 58.5, 78.6 58.9 Q 78.3 59.4, 78.3 60.2 Q 78.3 61.1, 78.6 61.5 Q 79.0 61.9, 79.6 61.9 \" fill=\"#FF0000\"/>\n",
       "<path class=\"atom-14\" d=\"M 91.4 60.7 L 92.0 60.7 L 92.0 62.5 L 94.2 62.5 L 94.2 60.7 L 94.8 60.7 L 94.8 64.9 L 94.2 64.9 L 94.2 62.9 L 92.0 62.9 L 92.0 64.9 L 91.4 64.9 L 91.4 60.7 \" fill=\"#0000FF\"/>\n",
       "<path class=\"atom-14\" d=\"M 96.3 60.7 L 97.7 62.9 Q 97.8 63.1, 98.0 63.5 Q 98.2 63.9, 98.3 64.0 L 98.3 60.7 L 98.8 60.7 L 98.8 64.9 L 98.2 64.9 L 96.7 62.4 Q 96.6 62.2, 96.4 61.8 Q 96.2 61.5, 96.1 61.4 L 96.1 64.9 L 95.6 64.9 L 95.6 60.7 L 96.3 60.7 \" fill=\"#0000FF\"/>\n",
       "<path class=\"atom-17\" d=\"M 120.9 49.4 Q 120.9 48.3, 121.4 47.8 Q 121.9 47.2, 122.8 47.2 Q 123.7 47.2, 124.3 47.8 Q 124.8 48.3, 124.8 49.4 Q 124.8 50.4, 124.2 51.0 Q 123.7 51.6, 122.8 51.6 Q 121.9 51.6, 121.4 51.0 Q 120.9 50.4, 120.9 49.4 M 122.8 51.1 Q 123.5 51.1, 123.8 50.6 Q 124.2 50.2, 124.2 49.4 Q 124.2 48.5, 123.8 48.1 Q 123.5 47.7, 122.8 47.7 Q 122.2 47.7, 121.8 48.1 Q 121.5 48.5, 121.5 49.4 Q 121.5 50.2, 121.8 50.6 Q 122.2 51.1, 122.8 51.1 \" fill=\"#FF0000\"/>\n",
       "<path class=\"atom-18\" d=\"M 130.1 63.0 L 131.5 65.2 Q 131.6 65.4, 131.8 65.8 Q 132.1 66.2, 132.1 66.3 L 132.1 63.0 L 132.6 63.0 L 132.6 67.2 L 132.1 67.2 L 130.6 64.8 Q 130.4 64.5, 130.2 64.1 Q 130.0 63.8, 130.0 63.7 L 130.0 67.2 L 129.4 67.2 L 129.4 63.0 L 130.1 63.0 \" fill=\"#0000FF\"/>\n",
       "<path class=\"atom-18\" d=\"M 133.5 63.0 L 134.0 63.0 L 134.0 64.8 L 136.2 64.8 L 136.2 63.0 L 136.8 63.0 L 136.8 67.2 L 136.2 67.2 L 136.2 65.3 L 134.0 65.3 L 134.0 67.2 L 133.5 67.2 L 133.5 63.0 \" fill=\"#0000FF\"/>\n",
       "<path class=\"atom-21\" d=\"M 155.0 77.9 Q 155.0 76.9, 155.5 76.3 Q 156.0 75.7, 157.0 75.7 Q 157.9 75.7, 158.4 76.3 Q 158.9 76.9, 158.9 77.9 Q 158.9 78.9, 158.4 79.5 Q 157.9 80.1, 157.0 80.1 Q 156.0 80.1, 155.5 79.5 Q 155.0 78.9, 155.0 77.9 M 157.0 79.6 Q 157.6 79.6, 158.0 79.2 Q 158.3 78.8, 158.3 77.9 Q 158.3 77.1, 158.0 76.7 Q 157.6 76.2, 157.0 76.2 Q 156.3 76.2, 156.0 76.6 Q 155.6 77.1, 155.6 77.9 Q 155.6 78.8, 156.0 79.2 Q 156.3 79.6, 157.0 79.6 \" fill=\"#FF0000\"/>\n",
       "<path class=\"atom-22\" d=\"M 148.1 91.7 L 149.5 93.9 Q 149.6 94.2, 149.9 94.6 Q 150.1 95.0, 150.1 95.0 L 150.1 91.7 L 150.7 91.7 L 150.7 95.9 L 150.1 95.9 L 148.6 93.5 Q 148.4 93.2, 148.2 92.9 Q 148.1 92.5, 148.0 92.4 L 148.0 95.9 L 147.4 95.9 L 147.4 91.7 L 148.1 91.7 \" fill=\"#0000FF\"/>\n",
       "<path class=\"atom-22\" d=\"M 151.5 91.7 L 152.1 91.7 L 152.1 93.5 L 154.2 93.5 L 154.2 91.7 L 154.8 91.7 L 154.8 95.9 L 154.2 95.9 L 154.2 94.0 L 152.1 94.0 L 152.1 95.9 L 151.5 95.9 L 151.5 91.7 \" fill=\"#0000FF\"/>\n",
       "<path class=\"atom-25\" d=\"M 152.0 122.3 Q 152.0 121.3, 152.5 120.7 Q 153.0 120.2, 153.9 120.2 Q 154.9 120.2, 155.4 120.7 Q 155.9 121.3, 155.9 122.3 Q 155.9 123.4, 155.4 123.9 Q 154.9 124.5, 153.9 124.5 Q 153.0 124.5, 152.5 123.9 Q 152.0 123.4, 152.0 122.3 M 153.9 124.0 Q 154.6 124.0, 154.9 123.6 Q 155.3 123.2, 155.3 122.3 Q 155.3 121.5, 154.9 121.1 Q 154.6 120.6, 153.9 120.6 Q 153.3 120.6, 152.9 121.1 Q 152.6 121.5, 152.6 122.3 Q 152.6 123.2, 152.9 123.6 Q 153.3 124.0, 153.9 124.0 \" fill=\"#FF0000\"/>\n",
       "<path class=\"atom-26\" d=\"M 135.5 123.1 L 136.9 125.4 Q 137.0 125.6, 137.2 126.0 Q 137.4 126.4, 137.5 126.4 L 137.5 123.1 L 138.0 123.1 L 138.0 127.4 L 137.4 127.4 L 135.9 124.9 Q 135.8 124.6, 135.6 124.3 Q 135.4 124.0, 135.4 123.9 L 135.4 127.4 L 134.8 127.4 L 134.8 123.1 L 135.5 123.1 \" fill=\"#0000FF\"/>\n",
       "<path class=\"atom-26\" d=\"M 138.8 123.1 L 139.4 123.1 L 139.4 125.0 L 141.6 125.0 L 141.6 123.1 L 142.2 123.1 L 142.2 127.4 L 141.6 127.4 L 141.6 125.4 L 139.4 125.4 L 139.4 127.4 L 138.8 127.4 L 138.8 123.1 \" fill=\"#0000FF\"/>\n",
       "<path class=\"atom-30\" d=\"M 177.0 130.9 L 178.4 133.1 Q 178.5 133.4, 178.7 133.8 Q 178.9 134.2, 179.0 134.2 L 179.0 130.9 L 179.5 130.9 L 179.5 135.1 L 178.9 135.1 L 177.4 132.7 Q 177.3 132.4, 177.1 132.1 Q 176.9 131.7, 176.9 131.6 L 176.9 135.1 L 176.3 135.1 L 176.3 130.9 L 177.0 130.9 \" fill=\"#0000FF\"/>\n",
       "<path class=\"atom-30\" d=\"M 180.3 130.9 L 180.9 130.9 L 180.9 132.7 L 183.1 132.7 L 183.1 130.9 L 183.7 130.9 L 183.7 135.1 L 183.1 135.1 L 183.1 133.2 L 180.9 133.2 L 180.9 135.1 L 180.3 135.1 L 180.3 130.9 \" fill=\"#0000FF\"/>\n",
       "<path class=\"atom-30\" d=\"M 184.5 135.0 Q 184.6 134.7, 184.8 134.6 Q 185.1 134.4, 185.4 134.4 Q 185.8 134.4, 186.1 134.7 Q 186.3 134.9, 186.3 135.3 Q 186.3 135.7, 186.0 136.1 Q 185.7 136.5, 185.1 136.9 L 186.4 136.9 L 186.4 137.3 L 184.5 137.3 L 184.5 137.0 Q 185.0 136.6, 185.3 136.4 Q 185.6 136.1, 185.8 135.8 Q 185.9 135.6, 185.9 135.3 Q 185.9 135.0, 185.8 134.9 Q 185.7 134.7, 185.4 134.7 Q 185.2 134.7, 185.0 134.8 Q 184.9 134.9, 184.8 135.1 L 184.5 135.0 \" fill=\"#0000FF\"/>\n",
       "<path class=\"atom-34\" d=\"M 174.0 77.9 L 175.4 80.2 Q 175.6 80.4, 175.8 80.8 Q 176.0 81.2, 176.0 81.2 L 176.0 77.9 L 176.6 77.9 L 176.6 82.2 L 176.0 82.2 L 174.5 79.7 Q 174.3 79.4, 174.2 79.1 Q 174.0 78.8, 173.9 78.7 L 173.9 82.2 L 173.4 82.2 L 173.4 77.9 L 174.0 77.9 \" fill=\"#0000FF\"/>\n",
       "<path class=\"atom-34\" d=\"M 177.4 77.9 L 178.0 77.9 L 178.0 79.7 L 180.2 79.7 L 180.2 77.9 L 180.7 77.9 L 180.7 82.2 L 180.2 82.2 L 180.2 80.2 L 178.0 80.2 L 178.0 82.2 L 177.4 82.2 L 177.4 77.9 \" fill=\"#0000FF\"/>\n",
       "<path class=\"atom-48\" d=\"M 59.0 26.5 L 59.5 26.5 L 59.5 28.3 L 61.7 28.3 L 61.7 26.5 L 62.3 26.5 L 62.3 30.8 L 61.7 30.8 L 61.7 28.8 L 59.5 28.8 L 59.5 30.8 L 59.0 30.8 L 59.0 26.5 \" fill=\"#FF0000\"/>\n",
       "<path class=\"atom-48\" d=\"M 63.2 28.6 Q 63.2 27.6, 63.7 27.0 Q 64.2 26.5, 65.1 26.5 Q 66.1 26.5, 66.6 27.0 Q 67.1 27.6, 67.1 28.6 Q 67.1 29.7, 66.6 30.3 Q 66.0 30.8, 65.1 30.8 Q 64.2 30.8, 63.7 30.3 Q 63.2 29.7, 63.2 28.6 M 65.1 30.4 Q 65.8 30.4, 66.1 29.9 Q 66.5 29.5, 66.5 28.6 Q 66.5 27.8, 66.1 27.4 Q 65.8 27.0, 65.1 27.0 Q 64.5 27.0, 64.1 27.4 Q 63.8 27.8, 63.8 28.6 Q 63.8 29.5, 64.1 29.9 Q 64.5 30.4, 65.1 30.4 \" fill=\"#FF0000\"/>\n",
       "<path class=\"atom-49\" d=\"M 68.9 69.8 L 70.2 72.1 Q 70.4 72.3, 70.6 72.7 Q 70.8 73.1, 70.8 73.1 L 70.8 69.8 L 71.4 69.8 L 71.4 74.1 L 70.8 74.1 L 69.3 71.6 Q 69.2 71.3, 69.0 71.0 Q 68.8 70.7, 68.7 70.6 L 68.7 74.1 L 68.2 74.1 L 68.2 69.8 L 68.9 69.8 \" fill=\"#0000FF\"/>\n",
       "<path class=\"atom-49\" d=\"M 68.1 65.2 L 68.7 65.2 L 68.7 67.0 L 70.9 67.0 L 70.9 65.2 L 71.5 65.2 L 71.5 69.4 L 70.9 69.4 L 70.9 67.4 L 68.7 67.4 L 68.7 69.4 L 68.1 69.4 L 68.1 65.2 \" fill=\"#0000FF\"/>\n",
       "<path class=\"atom-51\" d=\"M 57.5 89.3 Q 57.5 88.3, 58.0 87.7 Q 58.5 87.2, 59.4 87.2 Q 60.3 87.2, 60.8 87.7 Q 61.4 88.3, 61.4 89.3 Q 61.4 90.4, 60.8 91.0 Q 60.3 91.5, 59.4 91.5 Q 58.5 91.5, 58.0 91.0 Q 57.5 90.4, 57.5 89.3 M 59.4 91.1 Q 60.0 91.1, 60.4 90.6 Q 60.8 90.2, 60.8 89.3 Q 60.8 88.5, 60.4 88.1 Q 60.0 87.7, 59.4 87.7 Q 58.8 87.7, 58.4 88.1 Q 58.1 88.5, 58.1 89.3 Q 58.1 90.2, 58.4 90.6 Q 58.8 91.1, 59.4 91.1 \" fill=\"#FF0000\"/>\n",
       "<path class=\"atom-60\" d=\"M 48.8 57.8 L 50.2 60.1 Q 50.3 60.3, 50.6 60.7 Q 50.8 61.1, 50.8 61.1 L 50.8 57.8 L 51.4 57.8 L 51.4 62.1 L 50.8 62.1 L 49.3 59.6 Q 49.1 59.3, 48.9 59.0 Q 48.7 58.7, 48.7 58.6 L 48.7 62.1 L 48.1 62.1 L 48.1 57.8 L 48.8 57.8 \" fill=\"#0000FF\"/>\n",
       "<path class=\"atom-60\" d=\"M 52.2 57.8 L 52.7 57.8 L 52.7 59.6 L 54.9 59.6 L 54.9 57.8 L 55.5 57.8 L 55.5 62.1 L 54.9 62.1 L 54.9 60.1 L 52.7 60.1 L 52.7 62.1 L 52.2 62.1 L 52.2 57.8 \" fill=\"#0000FF\"/>\n",
       "<path class=\"atom-60\" d=\"M 56.3 61.9 Q 56.4 61.7, 56.7 61.5 Q 56.9 61.4, 57.3 61.4 Q 57.7 61.4, 57.9 61.6 Q 58.2 61.8, 58.2 62.2 Q 58.2 62.7, 57.8 63.0 Q 57.5 63.4, 56.9 63.9 L 58.2 63.9 L 58.2 64.2 L 56.3 64.2 L 56.3 63.9 Q 56.8 63.6, 57.1 63.3 Q 57.5 63.0, 57.6 62.8 Q 57.8 62.5, 57.8 62.3 Q 57.8 62.0, 57.6 61.8 Q 57.5 61.7, 57.3 61.7 Q 57.0 61.7, 56.9 61.8 Q 56.7 61.9, 56.6 62.1 L 56.3 61.9 \" fill=\"#0000FF\"/>\n",
       "<path class=\"atom-64\" d=\"M 90.4 149.4 Q 90.4 148.4, 90.9 147.8 Q 91.4 147.3, 92.4 147.3 Q 93.3 147.3, 93.8 147.8 Q 94.3 148.4, 94.3 149.4 Q 94.3 150.5, 93.8 151.0 Q 93.3 151.6, 92.4 151.6 Q 91.4 151.6, 90.9 151.0 Q 90.4 150.5, 90.4 149.4 M 92.4 151.1 Q 93.0 151.1, 93.4 150.7 Q 93.7 150.3, 93.7 149.4 Q 93.7 148.6, 93.4 148.2 Q 93.0 147.7, 92.4 147.7 Q 91.7 147.7, 91.4 148.2 Q 91.0 148.6, 91.0 149.4 Q 91.0 150.3, 91.4 150.7 Q 91.7 151.1, 92.4 151.1 \" fill=\"#FF0000\"/>\n",
       "<path class=\"atom-65\" d=\"M 69.2 136.9 L 69.8 136.9 L 69.8 138.7 L 72.0 138.7 L 72.0 136.9 L 72.6 136.9 L 72.6 141.1 L 72.0 141.1 L 72.0 139.2 L 69.8 139.2 L 69.8 141.1 L 69.2 141.1 L 69.2 136.9 \" fill=\"#0000FF\"/>\n",
       "<path class=\"atom-65\" d=\"M 74.1 136.9 L 75.5 139.1 Q 75.6 139.4, 75.8 139.8 Q 76.0 140.2, 76.0 140.2 L 76.0 136.9 L 76.6 136.9 L 76.6 141.1 L 76.0 141.1 L 74.5 138.7 Q 74.4 138.4, 74.2 138.1 Q 74.0 137.7, 73.9 137.6 L 73.9 141.1 L 73.4 141.1 L 73.4 136.9 L 74.1 136.9 \" fill=\"#0000FF\"/>\n",
       "<path class=\"atom-69\" d=\"M 45.5 136.6 L 46.1 136.6 L 46.1 138.4 L 48.2 138.4 L 48.2 136.6 L 48.8 136.6 L 48.8 140.8 L 48.2 140.8 L 48.2 138.8 L 46.1 138.8 L 46.1 140.8 L 45.5 140.8 L 45.5 136.6 \" fill=\"#FF0000\"/>\n",
       "<path class=\"atom-69\" d=\"M 49.7 138.7 Q 49.7 137.6, 50.2 137.1 Q 50.7 136.5, 51.6 136.5 Q 52.6 136.5, 53.1 137.1 Q 53.6 137.6, 53.6 138.7 Q 53.6 139.7, 53.1 140.3 Q 52.6 140.9, 51.6 140.9 Q 50.7 140.9, 50.2 140.3 Q 49.7 139.7, 49.7 138.7 M 51.6 140.4 Q 52.3 140.4, 52.6 140.0 Q 53.0 139.5, 53.0 138.7 Q 53.0 137.8, 52.6 137.4 Q 52.3 137.0, 51.6 137.0 Q 51.0 137.0, 50.6 137.4 Q 50.3 137.8, 50.3 138.7 Q 50.3 139.5, 50.6 140.0 Q 51.0 140.4, 51.6 140.4 \" fill=\"#FF0000\"/>\n",
       "<path class=\"atom-71\" d=\"M 84.4 159.4 Q 84.4 158.4, 84.9 157.9 Q 85.4 157.3, 86.4 157.3 Q 87.3 157.3, 87.8 157.9 Q 88.3 158.4, 88.3 159.4 Q 88.3 160.5, 87.8 161.1 Q 87.3 161.6, 86.4 161.6 Q 85.4 161.6, 84.9 161.1 Q 84.4 160.5, 84.4 159.4 M 86.4 161.2 Q 87.0 161.2, 87.4 160.7 Q 87.7 160.3, 87.7 159.4 Q 87.7 158.6, 87.4 158.2 Q 87.0 157.8, 86.4 157.8 Q 85.7 157.8, 85.4 158.2 Q 85.0 158.6, 85.0 159.4 Q 85.0 160.3, 85.4 160.7 Q 85.7 161.2, 86.4 161.2 \" fill=\"#FF0000\"/>\n",
       "<path class=\"atom-72\" d=\"M 60.5 167.2 L 61.1 167.2 L 61.1 169.0 L 63.2 169.0 L 63.2 167.2 L 63.8 167.2 L 63.8 171.4 L 63.2 171.4 L 63.2 169.4 L 61.1 169.4 L 61.1 171.4 L 60.5 171.4 L 60.5 167.2 \" fill=\"#0000FF\"/>\n",
       "<path class=\"atom-72\" d=\"M 64.6 171.3 Q 64.7 171.0, 65.0 170.8 Q 65.2 170.7, 65.6 170.7 Q 66.0 170.7, 66.2 170.9 Q 66.5 171.1, 66.5 171.6 Q 66.5 172.0, 66.2 172.4 Q 65.9 172.7, 65.2 173.2 L 66.5 173.2 L 66.5 173.5 L 64.6 173.5 L 64.6 173.3 Q 65.2 172.9, 65.5 172.6 Q 65.8 172.3, 65.9 172.1 Q 66.1 171.8, 66.1 171.6 Q 66.1 171.3, 65.9 171.2 Q 65.8 171.0, 65.6 171.0 Q 65.4 171.0, 65.2 171.1 Q 65.1 171.2, 64.9 171.4 L 64.6 171.3 \" fill=\"#0000FF\"/>\n",
       "<path class=\"atom-72\" d=\"M 67.7 167.2 L 69.1 169.4 Q 69.3 169.6, 69.5 170.0 Q 69.7 170.4, 69.7 170.5 L 69.7 167.2 L 70.3 167.2 L 70.3 171.4 L 69.7 171.4 L 68.2 168.9 Q 68.0 168.7, 67.9 168.3 Q 67.7 168.0, 67.6 167.9 L 67.6 171.4 L 67.1 171.4 L 67.1 167.2 L 67.7 167.2 \" fill=\"#0000FF\"/>\n",
       "<path class=\"atom-73\" d=\"M 140.7 143.6 Q 140.7 142.6, 141.2 142.1 Q 141.8 141.5, 142.7 141.5 Q 143.6 141.5, 144.1 142.1 Q 144.6 142.6, 144.6 143.6 Q 144.6 144.7, 144.1 145.3 Q 143.6 145.8, 142.7 145.8 Q 141.8 145.8, 141.2 145.3 Q 140.7 144.7, 140.7 143.6 M 142.7 145.4 Q 143.3 145.4, 143.7 144.9 Q 144.0 144.5, 144.0 143.6 Q 144.0 142.8, 143.7 142.4 Q 143.3 142.0, 142.7 142.0 Q 142.0 142.0, 141.7 142.4 Q 141.3 142.8, 141.3 143.6 Q 141.3 144.5, 141.7 144.9 Q 142.0 145.4, 142.7 145.4 \" fill=\"#FF0000\"/>\n",
       "<path class=\"atom-73\" d=\"M 145.3 141.5 L 145.9 141.5 L 145.9 143.3 L 148.1 143.3 L 148.1 141.5 L 148.6 141.5 L 148.6 145.8 L 148.1 145.8 L 148.1 143.8 L 145.9 143.8 L 145.9 145.8 L 145.3 145.8 L 145.3 141.5 \" fill=\"#FF0000\"/>\n",
       "</svg>"
      ],
      "text/plain": [
       "<IPython.core.display.SVG object>"
      ]
     },
     "metadata": {},
     "output_type": "display_data"
    }
   ],
   "source": [
    "input_type, mol = pp.load_molecule('CC(C1C(=O)NC(C(SSCC(C(=O)NC(C(=O)NC(C(=O)NC(C(=O)N1)CCCN)CC2=CNC3=CC=CC=C32)CC4=CC=C(C=C4)O)NC(=O)C(CC5=CC=CC=C5)N)(C)C)C(=O)NC(C(C)O)C(=O)N)O')\n",
    "print(input_type)\n",
    "pp.plot_molecule(mol, w=200, h=200, isdisplay=True)"
   ]
  },
  {
   "cell_type": "code",
   "execution_count": 8,
   "id": "other-mercy",
   "metadata": {},
   "outputs": [
    {
     "data": {
      "image/svg+xml": [
       "<svg xmlns=\"http://www.w3.org/2000/svg\" xmlns:rdkit=\"http://www.rdkit.org/xml\" xmlns:xlink=\"http://www.w3.org/1999/xlink\" version=\"1.1\" baseProfile=\"full\" xml:space=\"preserve\" width=\"200px\" height=\"200px\" viewBox=\"0 0 200 200\">\n",
       "<!-- END OF HEADER -->\n",
       "<rect style=\"opacity:1.0;fill:#FFFFFF;stroke:none\" width=\"200.0\" height=\"200.0\" x=\"0.0\" y=\"0.0\"> </rect>\n",
       "<path class=\"bond-0 atom-0 atom-1\" d=\"M 147.9,115.8 L 136.4,122.5\" style=\"fill:none;fill-rule:evenodd;stroke:#000000;stroke-width:2.0px;stroke-linecap:butt;stroke-linejoin:miter;stroke-opacity:1\"/>\n",
       "<path class=\"bond-1 atom-1 atom-2\" d=\"M 136.4,122.5 L 125.1,116.2\" style=\"fill:none;fill-rule:evenodd;stroke:#000000;stroke-width:2.0px;stroke-linecap:butt;stroke-linejoin:miter;stroke-opacity:1\"/>\n",
       "<path class=\"bond-2 atom-2 atom-3\" d=\"M 125.1,116.2 L 122.7,104.7\" style=\"fill:none;fill-rule:evenodd;stroke:#000000;stroke-width:2.0px;stroke-linecap:butt;stroke-linejoin:miter;stroke-opacity:1\"/>\n",
       "<path class=\"bond-3 atom-3 atom-4\" d=\"M 122.7,103.8 L 121.6,104.4\" style=\"fill:none;fill-rule:evenodd;stroke:#000000;stroke-width:2.0px;stroke-linecap:butt;stroke-linejoin:miter;stroke-opacity:1\"/>\n",
       "<path class=\"bond-3 atom-3 atom-4\" d=\"M 121.6,104.4 L 120.6,105.0\" style=\"fill:none;fill-rule:evenodd;stroke:#FF0000;stroke-width:2.0px;stroke-linecap:butt;stroke-linejoin:miter;stroke-opacity:1\"/>\n",
       "<path class=\"bond-3 atom-3 atom-4\" d=\"M 122.9,105.6 L 122.5,105.9\" style=\"fill:none;fill-rule:evenodd;stroke:#000000;stroke-width:2.0px;stroke-linecap:butt;stroke-linejoin:miter;stroke-opacity:1\"/>\n",
       "<path class=\"bond-3 atom-3 atom-4\" d=\"M 122.5,105.9 L 121.5,106.5\" style=\"fill:none;fill-rule:evenodd;stroke:#FF0000;stroke-width:2.0px;stroke-linecap:butt;stroke-linejoin:miter;stroke-opacity:1\"/>\n",
       "<path class=\"bond-4 atom-3 atom-5\" d=\"M 122.7,104.7 L 122.4,100.1\" style=\"fill:none;fill-rule:evenodd;stroke:#000000;stroke-width:2.0px;stroke-linecap:butt;stroke-linejoin:miter;stroke-opacity:1\"/>\n",
       "<path class=\"bond-4 atom-3 atom-5\" d=\"M 122.4,100.1 L 122.2,95.6\" style=\"fill:none;fill-rule:evenodd;stroke:#0000FF;stroke-width:2.0px;stroke-linecap:butt;stroke-linejoin:miter;stroke-opacity:1\"/>\n",
       "<path class=\"bond-5 atom-5 atom-6\" d=\"M 124.0,91.7 L 127.3,89.4\" style=\"fill:none;fill-rule:evenodd;stroke:#0000FF;stroke-width:2.0px;stroke-linecap:butt;stroke-linejoin:miter;stroke-opacity:1\"/>\n",
       "<path class=\"bond-5 atom-5 atom-6\" d=\"M 127.3,89.4 L 130.5,87.2\" style=\"fill:none;fill-rule:evenodd;stroke:#000000;stroke-width:2.0px;stroke-linecap:butt;stroke-linejoin:miter;stroke-opacity:1\"/>\n",
       "<path class=\"bond-6 atom-6 atom-7\" d=\"M 130.5,87.2 L 124.1,77.2\" style=\"fill:none;fill-rule:evenodd;stroke:#000000;stroke-width:2.0px;stroke-linecap:butt;stroke-linejoin:miter;stroke-opacity:1\"/>\n",
       "<path class=\"bond-7 atom-7 atom-8\" d=\"M 124.1,77.2 L 116.9,78.6\" style=\"fill:none;fill-rule:evenodd;stroke:#000000;stroke-width:2.0px;stroke-linecap:butt;stroke-linejoin:miter;stroke-opacity:1\"/>\n",
       "<path class=\"bond-7 atom-7 atom-8\" d=\"M 116.9,78.6 L 109.7,80.1\" style=\"fill:none;fill-rule:evenodd;stroke:#CCCC00;stroke-width:2.0px;stroke-linecap:butt;stroke-linejoin:miter;stroke-opacity:1\"/>\n",
       "<path class=\"bond-8 atom-8 atom-9\" d=\"M 106.2,79.0 L 100.1,73.8\" style=\"fill:none;fill-rule:evenodd;stroke:#CCCC00;stroke-width:2.0px;stroke-linecap:butt;stroke-linejoin:miter;stroke-opacity:1\"/>\n",
       "<path class=\"bond-9 atom-9 atom-10\" d=\"M 96.6,74.0 L 92.1,78.3\" style=\"fill:none;fill-rule:evenodd;stroke:#CCCC00;stroke-width:2.0px;stroke-linecap:butt;stroke-linejoin:miter;stroke-opacity:1\"/>\n",
       "<path class=\"bond-9 atom-9 atom-10\" d=\"M 92.1,78.3 L 87.6,82.7\" style=\"fill:none;fill-rule:evenodd;stroke:#000000;stroke-width:2.0px;stroke-linecap:butt;stroke-linejoin:miter;stroke-opacity:1\"/>\n",
       "<path class=\"bond-10 atom-10 atom-11\" d=\"M 87.6,82.7 L 75.2,81.2\" style=\"fill:none;fill-rule:evenodd;stroke:#000000;stroke-width:2.0px;stroke-linecap:butt;stroke-linejoin:miter;stroke-opacity:1\"/>\n",
       "<path class=\"bond-11 atom-11 atom-12\" d=\"M 75.2,81.2 L 76.6,81.7\" style=\"fill:none;fill-rule:evenodd;stroke:#000000;stroke-width:2.0px;stroke-linecap:butt;stroke-linejoin:miter;stroke-opacity:1\"/>\n",
       "<path class=\"bond-12 atom-12 atom-13\" d=\"M 74.0,87.7 L 77.6,81.7\" style=\"fill:none;fill-rule:evenodd;stroke:#000000;stroke-width:2.0px;stroke-linecap:butt;stroke-linejoin:miter;stroke-opacity:1\"/>\n",
       "<path class=\"bond-12 atom-12 atom-13\" d=\"M 77.6,81.7 L 81.1,75.8\" style=\"fill:none;fill-rule:evenodd;stroke:#FF0000;stroke-width:2.0px;stroke-linecap:butt;stroke-linejoin:miter;stroke-opacity:1\"/>\n",
       "<path class=\"bond-12 atom-12 atom-13\" d=\"M 75.8,81.4 L 76.1,80.9\" style=\"fill:none;fill-rule:evenodd;stroke:#000000;stroke-width:2.0px;stroke-linecap:butt;stroke-linejoin:miter;stroke-opacity:1\"/>\n",
       "<path class=\"bond-12 atom-12 atom-13\" d=\"M 76.1,80.9 L 79.6,74.9\" style=\"fill:none;fill-rule:evenodd;stroke:#FF0000;stroke-width:2.0px;stroke-linecap:butt;stroke-linejoin:miter;stroke-opacity:1\"/>\n",
       "<path class=\"bond-13 atom-12 atom-14\" d=\"M 76.6,81.7 L 75.1,85.1\" style=\"fill:none;fill-rule:evenodd;stroke:#000000;stroke-width:2.0px;stroke-linecap:butt;stroke-linejoin:miter;stroke-opacity:1\"/>\n",
       "<path class=\"bond-13 atom-12 atom-14\" d=\"M 75.1,85.1 L 73.7,88.6\" style=\"fill:none;fill-rule:evenodd;stroke:#0000FF;stroke-width:2.0px;stroke-linecap:butt;stroke-linejoin:miter;stroke-opacity:1\"/>\n",
       "<path class=\"bond-14 atom-14 atom-15\" d=\"M 70.8,93.6 L 67.9,97.5\" style=\"fill:none;fill-rule:evenodd;stroke:#0000FF;stroke-width:2.0px;stroke-linecap:butt;stroke-linejoin:miter;stroke-opacity:1\"/>\n",
       "<path class=\"bond-14 atom-14 atom-15\" d=\"M 67.9,97.5 L 65.1,101.4\" style=\"fill:none;fill-rule:evenodd;stroke:#000000;stroke-width:2.0px;stroke-linecap:butt;stroke-linejoin:miter;stroke-opacity:1\"/>\n",
       "<path class=\"bond-15 atom-15 atom-16\" d=\"M 65.1,101.4 L 70.1,112.2\" style=\"fill:none;fill-rule:evenodd;stroke:#000000;stroke-width:2.0px;stroke-linecap:butt;stroke-linejoin:miter;stroke-opacity:1\"/>\n",
       "<path class=\"bond-16 atom-16 atom-17\" d=\"M 70.3,113.1 L 71.4,113.1\" style=\"fill:none;fill-rule:evenodd;stroke:#000000;stroke-width:2.0px;stroke-linecap:butt;stroke-linejoin:miter;stroke-opacity:1\"/>\n",
       "<path class=\"bond-16 atom-16 atom-17\" d=\"M 71.4,113.1 L 72.4,113.0\" style=\"fill:none;fill-rule:evenodd;stroke:#FF0000;stroke-width:2.0px;stroke-linecap:butt;stroke-linejoin:miter;stroke-opacity:1\"/>\n",
       "<path class=\"bond-16 atom-16 atom-17\" d=\"M 69.7,111.4 L 71.3,111.3\" style=\"fill:none;fill-rule:evenodd;stroke:#000000;stroke-width:2.0px;stroke-linecap:butt;stroke-linejoin:miter;stroke-opacity:1\"/>\n",
       "<path class=\"bond-16 atom-16 atom-17\" d=\"M 71.3,111.3 L 72.4,111.3\" style=\"fill:none;fill-rule:evenodd;stroke:#FF0000;stroke-width:2.0px;stroke-linecap:butt;stroke-linejoin:miter;stroke-opacity:1\"/>\n",
       "<path class=\"bond-17 atom-16 atom-18\" d=\"M 70.1,112.2 L 71.1,116.6\" style=\"fill:none;fill-rule:evenodd;stroke:#000000;stroke-width:2.0px;stroke-linecap:butt;stroke-linejoin:miter;stroke-opacity:1\"/>\n",
       "<path class=\"bond-17 atom-16 atom-18\" d=\"M 71.1,116.6 L 72.1,120.9\" style=\"fill:none;fill-rule:evenodd;stroke:#0000FF;stroke-width:2.0px;stroke-linecap:butt;stroke-linejoin:miter;stroke-opacity:1\"/>\n",
       "<path class=\"bond-18 atom-18 atom-19\" d=\"M 74.7,123.6 L 75.8,123.8\" style=\"fill:none;fill-rule:evenodd;stroke:#0000FF;stroke-width:2.0px;stroke-linecap:butt;stroke-linejoin:miter;stroke-opacity:1\"/>\n",
       "<path class=\"bond-18 atom-18 atom-19\" d=\"M 75.8,123.8 L 76.9,123.9\" style=\"fill:none;fill-rule:evenodd;stroke:#000000;stroke-width:2.0px;stroke-linecap:butt;stroke-linejoin:miter;stroke-opacity:1\"/>\n",
       "<path class=\"bond-19 atom-19 atom-20\" d=\"M 76.9,123.9 L 89.4,119.3\" style=\"fill:none;fill-rule:evenodd;stroke:#000000;stroke-width:2.0px;stroke-linecap:butt;stroke-linejoin:miter;stroke-opacity:1\"/>\n",
       "<path class=\"bond-20 atom-20 atom-21\" d=\"M 88.0,119.8 L 88.9,120.1\" style=\"fill:none;fill-rule:evenodd;stroke:#000000;stroke-width:2.0px;stroke-linecap:butt;stroke-linejoin:miter;stroke-opacity:1\"/>\n",
       "<path class=\"bond-20 atom-20 atom-21\" d=\"M 88.9,120.1 L 89.8,120.3\" style=\"fill:none;fill-rule:evenodd;stroke:#FF0000;stroke-width:2.0px;stroke-linecap:butt;stroke-linejoin:miter;stroke-opacity:1\"/>\n",
       "<path class=\"bond-20 atom-20 atom-21\" d=\"M 72.7,113.8 L 89.3,118.4\" style=\"fill:none;fill-rule:evenodd;stroke:#000000;stroke-width:2.0px;stroke-linecap:butt;stroke-linejoin:miter;stroke-opacity:1\"/>\n",
       "<path class=\"bond-20 atom-20 atom-21\" d=\"M 89.3,118.4 L 90.2,118.7\" style=\"fill:none;fill-rule:evenodd;stroke:#FF0000;stroke-width:2.0px;stroke-linecap:butt;stroke-linejoin:miter;stroke-opacity:1\"/>\n",
       "<path class=\"bond-21 atom-20 atom-22\" d=\"M 89.4,119.3 L 92.6,117.6\" style=\"fill:none;fill-rule:evenodd;stroke:#000000;stroke-width:2.0px;stroke-linecap:butt;stroke-linejoin:miter;stroke-opacity:1\"/>\n",
       "<path class=\"bond-21 atom-20 atom-22\" d=\"M 92.6,117.6 L 95.7,115.8\" style=\"fill:none;fill-rule:evenodd;stroke:#0000FF;stroke-width:2.0px;stroke-linecap:butt;stroke-linejoin:miter;stroke-opacity:1\"/>\n",
       "<path class=\"bond-22 atom-22 atom-23\" d=\"M 99.7,116.5 L 101.5,118.1\" style=\"fill:none;fill-rule:evenodd;stroke:#0000FF;stroke-width:2.0px;stroke-linecap:butt;stroke-linejoin:miter;stroke-opacity:1\"/>\n",
       "<path class=\"bond-22 atom-22 atom-23\" d=\"M 101.5,118.1 L 103.4,119.7\" style=\"fill:none;fill-rule:evenodd;stroke:#000000;stroke-width:2.0px;stroke-linecap:butt;stroke-linejoin:miter;stroke-opacity:1\"/>\n",
       "<path class=\"bond-23 atom-23 atom-24\" d=\"M 103.4,119.7 L 116.0,115.2\" style=\"fill:none;fill-rule:evenodd;stroke:#000000;stroke-width:2.0px;stroke-linecap:butt;stroke-linejoin:miter;stroke-opacity:1\"/>\n",
       "<path class=\"bond-24 atom-24 atom-25\" d=\"M 116.9,115.2 L 117.4,114.2\" style=\"fill:none;fill-rule:evenodd;stroke:#000000;stroke-width:2.0px;stroke-linecap:butt;stroke-linejoin:miter;stroke-opacity:1\"/>\n",
       "<path class=\"bond-24 atom-24 atom-25\" d=\"M 117.4,114.2 L 117.9,113.2\" style=\"fill:none;fill-rule:evenodd;stroke:#FF0000;stroke-width:2.0px;stroke-linecap:butt;stroke-linejoin:miter;stroke-opacity:1\"/>\n",
       "<path class=\"bond-24 atom-24 atom-25\" d=\"M 114.9,115.6 L 115.8,113.5\" style=\"fill:none;fill-rule:evenodd;stroke:#000000;stroke-width:2.0px;stroke-linecap:butt;stroke-linejoin:miter;stroke-opacity:1\"/>\n",
       "<path class=\"bond-24 atom-24 atom-25\" d=\"M 115.8,113.5 L 116.3,112.4\" style=\"fill:none;fill-rule:evenodd;stroke:#FF0000;stroke-width:2.0px;stroke-linecap:butt;stroke-linejoin:miter;stroke-opacity:1\"/>\n",
       "<path class=\"bond-25 atom-24 atom-26\" d=\"M 116.0,115.2 L 119.8,115.4\" style=\"fill:none;fill-rule:evenodd;stroke:#000000;stroke-width:2.0px;stroke-linecap:butt;stroke-linejoin:miter;stroke-opacity:1\"/>\n",
       "<path class=\"bond-25 atom-24 atom-26\" d=\"M 119.8,115.4 L 123.5,115.6\" style=\"fill:none;fill-rule:evenodd;stroke:#0000FF;stroke-width:2.0px;stroke-linecap:butt;stroke-linejoin:miter;stroke-opacity:1\"/>\n",
       "<path class=\"bond-26 atom-23 atom-27\" d=\"M 103.4,119.7 L 103.1,133.6\" style=\"fill:none;fill-rule:evenodd;stroke:#000000;stroke-width:2.0px;stroke-linecap:butt;stroke-linejoin:miter;stroke-opacity:1\"/>\n",
       "<path class=\"bond-27 atom-27 atom-28\" d=\"M 103.1,133.6 L 109.2,137.9\" style=\"fill:none;fill-rule:evenodd;stroke:#000000;stroke-width:2.0px;stroke-linecap:butt;stroke-linejoin:miter;stroke-opacity:1\"/>\n",
       "<path class=\"bond-28 atom-28 atom-29\" d=\"M 109.2,137.9 L 108.9,151.6\" style=\"fill:none;fill-rule:evenodd;stroke:#000000;stroke-width:2.0px;stroke-linecap:butt;stroke-linejoin:miter;stroke-opacity:1\"/>\n",
       "<path class=\"bond-29 atom-29 atom-30\" d=\"M 108.9,151.6 L 110.8,153.0\" style=\"fill:none;fill-rule:evenodd;stroke:#000000;stroke-width:2.0px;stroke-linecap:butt;stroke-linejoin:miter;stroke-opacity:1\"/>\n",
       "<path class=\"bond-29 atom-29 atom-30\" d=\"M 110.8,153.0 L 112.7,154.3\" style=\"fill:none;fill-rule:evenodd;stroke:#0000FF;stroke-width:2.0px;stroke-linecap:butt;stroke-linejoin:miter;stroke-opacity:1\"/>\n",
       "<path class=\"bond-30 atom-19 atom-31\" d=\"M 76.9,123.9 L 76.3,136.7\" style=\"fill:none;fill-rule:evenodd;stroke:#000000;stroke-width:2.0px;stroke-linecap:butt;stroke-linejoin:miter;stroke-opacity:1\"/>\n",
       "<path class=\"bond-31 atom-31 atom-32\" d=\"M 76.3,136.7 L 64.0,142.0\" style=\"fill:none;fill-rule:evenodd;stroke:#000000;stroke-width:2.0px;stroke-linecap:butt;stroke-linejoin:miter;stroke-opacity:1\"/>\n",
       "<path class=\"bond-32 atom-32 atom-33\" d=\"M 64.0,142.0 L 59.1,150.5\" style=\"fill:none;fill-rule:evenodd;stroke:#000000;stroke-width:2.0px;stroke-linecap:butt;stroke-linejoin:miter;stroke-opacity:1\"/>\n",
       "<path class=\"bond-32 atom-32 atom-33\" d=\"M 61.4,143.1 L 58.0,148.9\" style=\"fill:none;fill-rule:evenodd;stroke:#000000;stroke-width:2.0px;stroke-linecap:butt;stroke-linejoin:miter;stroke-opacity:1\"/>\n",
       "<path class=\"bond-33 atom-33 atom-34\" d=\"M 59.1,150.5 L 54.4,151.5\" style=\"fill:none;fill-rule:evenodd;stroke:#000000;stroke-width:2.0px;stroke-linecap:butt;stroke-linejoin:miter;stroke-opacity:1\"/>\n",
       "<path class=\"bond-33 atom-33 atom-34\" d=\"M 54.4,151.5 L 49.6,152.5\" style=\"fill:none;fill-rule:evenodd;stroke:#0000FF;stroke-width:2.0px;stroke-linecap:butt;stroke-linejoin:miter;stroke-opacity:1\"/>\n",
       "<path class=\"bond-34 atom-34 atom-35\" d=\"M 46.5,150.4 L 45.5,148.3\" style=\"fill:none;fill-rule:evenodd;stroke:#0000FF;stroke-width:2.0px;stroke-linecap:butt;stroke-linejoin:miter;stroke-opacity:1\"/>\n",
       "<path class=\"bond-34 atom-34 atom-35\" d=\"M 45.5,148.3 L 44.6,146.2\" style=\"fill:none;fill-rule:evenodd;stroke:#000000;stroke-width:2.0px;stroke-linecap:butt;stroke-linejoin:miter;stroke-opacity:1\"/>\n",
       "<path class=\"bond-35 atom-35 atom-36\" d=\"M 44.6,146.2 L 33.8,145.7\" style=\"fill:none;fill-rule:evenodd;stroke:#000000;stroke-width:2.0px;stroke-linecap:butt;stroke-linejoin:miter;stroke-opacity:1\"/>\n",
       "<path class=\"bond-35 atom-35 atom-36\" d=\"M 44.1,144.5 L 35.3,144.0\" style=\"fill:none;fill-rule:evenodd;stroke:#000000;stroke-width:2.0px;stroke-linecap:butt;stroke-linejoin:miter;stroke-opacity:1\"/>\n",
       "<path class=\"bond-36 atom-36 atom-37\" d=\"M 33.8,145.7 L 32.7,138.1\" style=\"fill:none;fill-rule:evenodd;stroke:#000000;stroke-width:2.0px;stroke-linecap:butt;stroke-linejoin:miter;stroke-opacity:1\"/>\n",
       "<path class=\"bond-37 atom-37 atom-38\" d=\"M 32.7,138.1 L 42.7,131.2\" style=\"fill:none;fill-rule:evenodd;stroke:#000000;stroke-width:2.0px;stroke-linecap:butt;stroke-linejoin:miter;stroke-opacity:1\"/>\n",
       "<path class=\"bond-37 atom-37 atom-38\" d=\"M 34.6,138.9 L 43.2,133.0\" style=\"fill:none;fill-rule:evenodd;stroke:#000000;stroke-width:2.0px;stroke-linecap:butt;stroke-linejoin:miter;stroke-opacity:1\"/>\n",
       "<path class=\"bond-38 atom-38 atom-39\" d=\"M 42.7,131.2 L 53.5,131.9\" style=\"fill:none;fill-rule:evenodd;stroke:#000000;stroke-width:2.0px;stroke-linecap:butt;stroke-linejoin:miter;stroke-opacity:1\"/>\n",
       "<path class=\"bond-39 atom-39 atom-40\" d=\"M 53.5,131.9 L 54.7,139.4\" style=\"fill:none;fill-rule:evenodd;stroke:#000000;stroke-width:2.0px;stroke-linecap:butt;stroke-linejoin:miter;stroke-opacity:1\"/>\n",
       "<path class=\"bond-39 atom-39 atom-40\" d=\"M 52.0,133.5 L 52.8,138.6\" style=\"fill:none;fill-rule:evenodd;stroke:#000000;stroke-width:2.0px;stroke-linecap:butt;stroke-linejoin:miter;stroke-opacity:1\"/>\n",
       "<path class=\"bond-40 atom-15 atom-41\" d=\"M 65.1,101.4 L 52.8,98.9\" style=\"fill:none;fill-rule:evenodd;stroke:#000000;stroke-width:2.0px;stroke-linecap:butt;stroke-linejoin:miter;stroke-opacity:1\"/>\n",
       "<path class=\"bond-41 atom-41 atom-42\" d=\"M 52.8,98.9 L 44.1,108.7\" style=\"fill:none;fill-rule:evenodd;stroke:#000000;stroke-width:2.0px;stroke-linecap:butt;stroke-linejoin:miter;stroke-opacity:1\"/>\n",
       "<path class=\"bond-42 atom-42 atom-43\" d=\"M 44.1,108.7 L 36.7,108.4\" style=\"fill:none;fill-rule:evenodd;stroke:#000000;stroke-width:2.0px;stroke-linecap:butt;stroke-linejoin:miter;stroke-opacity:1\"/>\n",
       "<path class=\"bond-42 atom-42 atom-43\" d=\"M 42.2,110.3 L 37.4,110.1\" style=\"fill:none;fill-rule:evenodd;stroke:#000000;stroke-width:2.0px;stroke-linecap:butt;stroke-linejoin:miter;stroke-opacity:1\"/>\n",
       "<path class=\"bond-43 atom-43 atom-44\" d=\"M 36.7,108.4 L 28.5,117.5\" style=\"fill:none;fill-rule:evenodd;stroke:#000000;stroke-width:2.0px;stroke-linecap:butt;stroke-linejoin:miter;stroke-opacity:1\"/>\n",
       "<path class=\"bond-44 atom-44 atom-45\" d=\"M 28.5,117.5 L 27.4,127.4\" style=\"fill:none;fill-rule:evenodd;stroke:#000000;stroke-width:2.0px;stroke-linecap:butt;stroke-linejoin:miter;stroke-opacity:1\"/>\n",
       "<path class=\"bond-44 atom-44 atom-45\" d=\"M 30.1,118.2 L 29.3,125.8\" style=\"fill:none;fill-rule:evenodd;stroke:#000000;stroke-width:2.0px;stroke-linecap:butt;stroke-linejoin:miter;stroke-opacity:1\"/>\n",
       "<path class=\"bond-45 atom-45 atom-46\" d=\"M 27.4,127.4 L 34.8,127.9\" style=\"fill:none;fill-rule:evenodd;stroke:#000000;stroke-width:2.0px;stroke-linecap:butt;stroke-linejoin:miter;stroke-opacity:1\"/>\n",
       "<path class=\"bond-46 atom-46 atom-47\" d=\"M 34.8,127.9 L 43.0,118.6\" style=\"fill:none;fill-rule:evenodd;stroke:#000000;stroke-width:2.0px;stroke-linecap:butt;stroke-linejoin:miter;stroke-opacity:1\"/>\n",
       "<path class=\"bond-46 atom-46 atom-47\" d=\"M 34.0,126.1 L 43.7,120.4\" style=\"fill:none;fill-rule:evenodd;stroke:#000000;stroke-width:2.0px;stroke-linecap:butt;stroke-linejoin:miter;stroke-opacity:1\"/>\n",
       "<path class=\"bond-47 atom-45 atom-48\" d=\"M 27.4,127.4 L 24.4,130.8\" style=\"fill:none;fill-rule:evenodd;stroke:#000000;stroke-width:2.0px;stroke-linecap:butt;stroke-linejoin:miter;stroke-opacity:1\"/>\n",
       "<path class=\"bond-47 atom-45 atom-48\" d=\"M 24.4,130.8 L 21.4,134.1\" style=\"fill:none;fill-rule:evenodd;stroke:#FF0000;stroke-width:2.0px;stroke-linecap:butt;stroke-linejoin:miter;stroke-opacity:1\"/>\n",
       "<path class=\"bond-48 atom-11 atom-49\" d=\"M 75.2,81.2 L 72.9,77.0\" style=\"fill:none;fill-rule:evenodd;stroke:#000000;stroke-width:2.0px;stroke-linecap:butt;stroke-linejoin:miter;stroke-opacity:1\"/>\n",
       "<path class=\"bond-48 atom-11 atom-49\" d=\"M 72.9,77.0 L 70.6,72.7\" style=\"fill:none;fill-rule:evenodd;stroke:#0000FF;stroke-width:2.0px;stroke-linecap:butt;stroke-linejoin:miter;stroke-opacity:1\"/>\n",
       "<path class=\"bond-49 atom-49 atom-50\" d=\"M 67.3,70.1 L 62.4,70.0\" style=\"fill:none;fill-rule:evenodd;stroke:#0000FF;stroke-width:2.0px;stroke-linecap:butt;stroke-linejoin:miter;stroke-opacity:1\"/>\n",
       "<path class=\"bond-49 atom-49 atom-50\" d=\"M 62.4,70.0 L 57.4,69.9\" style=\"fill:none;fill-rule:evenodd;stroke:#000000;stroke-width:2.0px;stroke-linecap:butt;stroke-linejoin:miter;stroke-opacity:1\"/>\n",
       "<path class=\"bond-50 atom-50 atom-51\" d=\"M 56.9,69.0 L 54.7,73.0\" style=\"fill:none;fill-rule:evenodd;stroke:#000000;stroke-width:2.0px;stroke-linecap:butt;stroke-linejoin:miter;stroke-opacity:1\"/>\n",
       "<path class=\"bond-50 atom-50 atom-51\" d=\"M 54.7,73.0 L 52.5,77.0\" style=\"fill:none;fill-rule:evenodd;stroke:#FF0000;stroke-width:2.0px;stroke-linecap:butt;stroke-linejoin:miter;stroke-opacity:1\"/>\n",
       "<path class=\"bond-50 atom-50 atom-51\" d=\"M 58.4,69.9 L 56.2,73.8\" style=\"fill:none;fill-rule:evenodd;stroke:#000000;stroke-width:2.0px;stroke-linecap:butt;stroke-linejoin:miter;stroke-opacity:1\"/>\n",
       "<path class=\"bond-50 atom-50 atom-51\" d=\"M 56.2,73.8 L 54.0,77.9\" style=\"fill:none;fill-rule:evenodd;stroke:#FF0000;stroke-width:2.0px;stroke-linecap:butt;stroke-linejoin:miter;stroke-opacity:1\"/>\n",
       "<path class=\"bond-51 atom-50 atom-52\" d=\"M 57.4,69.9 L 50.9,59.1\" style=\"fill:none;fill-rule:evenodd;stroke:#000000;stroke-width:2.0px;stroke-linecap:butt;stroke-linejoin:miter;stroke-opacity:1\"/>\n",
       "<path class=\"bond-52 atom-52 atom-53\" d=\"M 50.9,59.1 L 51.2,48.8\" style=\"fill:none;fill-rule:evenodd;stroke:#000000;stroke-width:2.0px;stroke-linecap:butt;stroke-linejoin:miter;stroke-opacity:1\"/>\n",
       "<path class=\"bond-53 atom-53 atom-54\" d=\"M 51.2,48.8 L 45.8,51.1\" style=\"fill:none;fill-rule:evenodd;stroke:#000000;stroke-width:2.0px;stroke-linecap:butt;stroke-linejoin:miter;stroke-opacity:1\"/>\n",
       "<path class=\"bond-54 atom-54 atom-55\" d=\"M 45.8,51.1 L 52.2,55.5\" style=\"fill:none;fill-rule:evenodd;stroke:#000000;stroke-width:2.0px;stroke-linecap:butt;stroke-linejoin:miter;stroke-opacity:1\"/>\n",
       "<path class=\"bond-54 atom-54 atom-55\" d=\"M 45.1,52.8 L 48.6,55.1\" style=\"fill:none;fill-rule:evenodd;stroke:#000000;stroke-width:2.0px;stroke-linecap:butt;stroke-linejoin:miter;stroke-opacity:1\"/>\n",
       "<path class=\"bond-55 atom-55 atom-56\" d=\"M 52.2,55.5 L 47.2,57.5\" style=\"fill:none;fill-rule:evenodd;stroke:#000000;stroke-width:2.0px;stroke-linecap:butt;stroke-linejoin:miter;stroke-opacity:1\"/>\n",
       "<path class=\"bond-56 atom-56 atom-57\" d=\"M 47.2,57.5 L 35.0,55.1\" style=\"fill:none;fill-rule:evenodd;stroke:#000000;stroke-width:2.0px;stroke-linecap:butt;stroke-linejoin:miter;stroke-opacity:1\"/>\n",
       "<path class=\"bond-56 atom-56 atom-57\" d=\"M 47.0,55.7 L 35.1,56.9\" style=\"fill:none;fill-rule:evenodd;stroke:#000000;stroke-width:2.0px;stroke-linecap:butt;stroke-linejoin:miter;stroke-opacity:1\"/>\n",
       "<path class=\"bond-57 atom-57 atom-58\" d=\"M 35.0,55.1 L 28.5,50.8\" style=\"fill:none;fill-rule:evenodd;stroke:#000000;stroke-width:2.0px;stroke-linecap:butt;stroke-linejoin:miter;stroke-opacity:1\"/>\n",
       "<path class=\"bond-58 atom-58 atom-59\" d=\"M 28.5,50.8 L 33.5,48.7\" style=\"fill:none;fill-rule:evenodd;stroke:#000000;stroke-width:2.0px;stroke-linecap:butt;stroke-linejoin:miter;stroke-opacity:1\"/>\n",
       "<path class=\"bond-58 atom-58 atom-59\" d=\"M 32.2,51.1 L 33.6,50.5\" style=\"fill:none;fill-rule:evenodd;stroke:#000000;stroke-width:2.0px;stroke-linecap:butt;stroke-linejoin:miter;stroke-opacity:1\"/>\n",
       "<path class=\"bond-59 atom-52 atom-60\" d=\"M 50.9,59.1 L 45.5,60.4\" style=\"fill:none;fill-rule:evenodd;stroke:#000000;stroke-width:2.0px;stroke-linecap:butt;stroke-linejoin:miter;stroke-opacity:1\"/>\n",
       "<path class=\"bond-59 atom-52 atom-60\" d=\"M 45.5,60.4 L 40.1,61.7\" style=\"fill:none;fill-rule:evenodd;stroke:#0000FF;stroke-width:2.0px;stroke-linecap:butt;stroke-linejoin:miter;stroke-opacity:1\"/>\n",
       "<path class=\"bond-60 atom-7 atom-61\" d=\"M 124.1,77.2 L 126.4,65.4\" style=\"fill:none;fill-rule:evenodd;stroke:#000000;stroke-width:2.0px;stroke-linecap:butt;stroke-linejoin:miter;stroke-opacity:1\"/>\n",
       "<path class=\"bond-61 atom-7 atom-62\" d=\"M 124.1,77.2 L 129.3,76.4\" style=\"fill:none;fill-rule:evenodd;stroke:#000000;stroke-width:2.0px;stroke-linecap:butt;stroke-linejoin:miter;stroke-opacity:1\"/>\n",
       "<path class=\"bond-62 atom-6 atom-63\" d=\"M 130.5,87.2 L 140.7,81.5\" style=\"fill:none;fill-rule:evenodd;stroke:#000000;stroke-width:2.0px;stroke-linecap:butt;stroke-linejoin:miter;stroke-opacity:1\"/>\n",
       "<path class=\"bond-63 atom-63 atom-64\" d=\"M 139.8,82.0 L 140.2,82.2\" style=\"fill:none;fill-rule:evenodd;stroke:#000000;stroke-width:2.0px;stroke-linecap:butt;stroke-linejoin:miter;stroke-opacity:1\"/>\n",
       "<path class=\"bond-63 atom-63 atom-64\" d=\"M 140.2,82.2 L 140.5,82.5\" style=\"fill:none;fill-rule:evenodd;stroke:#FF0000;stroke-width:2.0px;stroke-linecap:butt;stroke-linejoin:miter;stroke-opacity:1\"/>\n",
       "<path class=\"bond-63 atom-63 atom-64\" d=\"M 141.5,81.0 L 141.5,81.0\" style=\"fill:none;fill-rule:evenodd;stroke:#000000;stroke-width:2.0px;stroke-linecap:butt;stroke-linejoin:miter;stroke-opacity:1\"/>\n",
       "<path class=\"bond-63 atom-63 atom-64\" d=\"M 141.5,81.0 L 141.5,81.1\" style=\"fill:none;fill-rule:evenodd;stroke:#FF0000;stroke-width:2.0px;stroke-linecap:butt;stroke-linejoin:miter;stroke-opacity:1\"/>\n",
       "<path class=\"bond-64 atom-63 atom-65\" d=\"M 140.7,81.5 L 144.6,79.2\" style=\"fill:none;fill-rule:evenodd;stroke:#000000;stroke-width:2.0px;stroke-linecap:butt;stroke-linejoin:miter;stroke-opacity:1\"/>\n",
       "<path class=\"bond-64 atom-63 atom-65\" d=\"M 144.6,79.2 L 148.5,76.8\" style=\"fill:none;fill-rule:evenodd;stroke:#0000FF;stroke-width:2.0px;stroke-linecap:butt;stroke-linejoin:miter;stroke-opacity:1\"/>\n",
       "<path class=\"bond-65 atom-65 atom-66\" d=\"M 152.5,74.6 L 156.3,72.5\" style=\"fill:none;fill-rule:evenodd;stroke:#0000FF;stroke-width:2.0px;stroke-linecap:butt;stroke-linejoin:miter;stroke-opacity:1\"/>\n",
       "<path class=\"bond-65 atom-65 atom-66\" d=\"M 156.3,72.5 L 160.2,70.4\" style=\"fill:none;fill-rule:evenodd;stroke:#000000;stroke-width:2.0px;stroke-linecap:butt;stroke-linejoin:miter;stroke-opacity:1\"/>\n",
       "<path class=\"bond-66 atom-66 atom-67\" d=\"M 160.2,70.4 L 171.5,78.5\" style=\"fill:none;fill-rule:evenodd;stroke:#000000;stroke-width:2.0px;stroke-linecap:butt;stroke-linejoin:miter;stroke-opacity:1\"/>\n",
       "<path class=\"bond-67 atom-67 atom-68\" d=\"M 171.5,78.5 L 181.0,74.3\" style=\"fill:none;fill-rule:evenodd;stroke:#000000;stroke-width:2.0px;stroke-linecap:butt;stroke-linejoin:miter;stroke-opacity:1\"/>\n",
       "<path class=\"bond-68 atom-67 atom-69\" d=\"M 171.5,78.5 L 172.4,78.6\" style=\"fill:none;fill-rule:evenodd;stroke:#000000;stroke-width:2.0px;stroke-linecap:butt;stroke-linejoin:miter;stroke-opacity:1\"/>\n",
       "<path class=\"bond-68 atom-67 atom-69\" d=\"M 172.4,78.6 L 173.3,78.8\" style=\"fill:none;fill-rule:evenodd;stroke:#FF0000;stroke-width:2.0px;stroke-linecap:butt;stroke-linejoin:miter;stroke-opacity:1\"/>\n",
       "<path class=\"bond-69 atom-66 atom-70\" d=\"M 160.2,70.4 L 163.3,58.3\" style=\"fill:none;fill-rule:evenodd;stroke:#000000;stroke-width:2.0px;stroke-linecap:butt;stroke-linejoin:miter;stroke-opacity:1\"/>\n",
       "<path class=\"bond-70 atom-70 atom-71\" d=\"M 164.0,57.7 L 162.4,56.4\" style=\"fill:none;fill-rule:evenodd;stroke:#000000;stroke-width:2.0px;stroke-linecap:butt;stroke-linejoin:miter;stroke-opacity:1\"/>\n",
       "<path class=\"bond-70 atom-70 atom-71\" d=\"M 162.4,56.4 L 160.8,55.1\" style=\"fill:none;fill-rule:evenodd;stroke:#FF0000;stroke-width:2.0px;stroke-linecap:butt;stroke-linejoin:miter;stroke-opacity:1\"/>\n",
       "<path class=\"bond-70 atom-70 atom-71\" d=\"M 163.1,59.2 L 161.3,57.7\" style=\"fill:none;fill-rule:evenodd;stroke:#000000;stroke-width:2.0px;stroke-linecap:butt;stroke-linejoin:miter;stroke-opacity:1\"/>\n",
       "<path class=\"bond-70 atom-70 atom-71\" d=\"M 161.3,57.7 L 159.7,56.4\" style=\"fill:none;fill-rule:evenodd;stroke:#FF0000;stroke-width:2.0px;stroke-linecap:butt;stroke-linejoin:miter;stroke-opacity:1\"/>\n",
       "<path class=\"bond-71 atom-70 atom-72\" d=\"M 163.3,58.3 L 166.8,55.3\" style=\"fill:none;fill-rule:evenodd;stroke:#000000;stroke-width:2.0px;stroke-linecap:butt;stroke-linejoin:miter;stroke-opacity:1\"/>\n",
       "<path class=\"bond-71 atom-70 atom-72\" d=\"M 166.8,55.3 L 170.2,52.3\" style=\"fill:none;fill-rule:evenodd;stroke:#0000FF;stroke-width:2.0px;stroke-linecap:butt;stroke-linejoin:miter;stroke-opacity:1\"/>\n",
       "<path class=\"bond-72 atom-1 atom-73\" d=\"M 136.4,122.5 L 136.8,127.1\" style=\"fill:none;fill-rule:evenodd;stroke:#000000;stroke-width:2.0px;stroke-linecap:butt;stroke-linejoin:miter;stroke-opacity:1\"/>\n",
       "<path class=\"bond-72 atom-1 atom-73\" d=\"M 136.8,127.1 L 137.2,131.8\" style=\"fill:none;fill-rule:evenodd;stroke:#FF0000;stroke-width:2.0px;stroke-linecap:butt;stroke-linejoin:miter;stroke-opacity:1\"/>\n",
       "<path class=\"bond-73 atom-26 atom-2\" d=\"M 125.5,115.8 L 125.3,116.0\" style=\"fill:none;fill-rule:evenodd;stroke:#0000FF;stroke-width:2.0px;stroke-linecap:butt;stroke-linejoin:miter;stroke-opacity:1\"/>\n",
       "<path class=\"bond-73 atom-26 atom-2\" d=\"M 125.3,116.0 L 125.1,116.2\" style=\"fill:none;fill-rule:evenodd;stroke:#000000;stroke-width:2.0px;stroke-linecap:butt;stroke-linejoin:miter;stroke-opacity:1\"/>\n",
       "<path class=\"bond-74 atom-40 atom-32\" d=\"M 54.7,139.4 L 64.0,142.0\" style=\"fill:none;fill-rule:evenodd;stroke:#000000;stroke-width:2.0px;stroke-linecap:butt;stroke-linejoin:miter;stroke-opacity:1\"/>\n",
       "<path class=\"bond-75 atom-40 atom-35\" d=\"M 54.7,139.4 L 44.6,146.2\" style=\"fill:none;fill-rule:evenodd;stroke:#000000;stroke-width:2.0px;stroke-linecap:butt;stroke-linejoin:miter;stroke-opacity:1\"/>\n",
       "<path class=\"bond-76 atom-47 atom-42\" d=\"M 43.0,118.6 L 44.1,108.7\" style=\"fill:none;fill-rule:evenodd;stroke:#000000;stroke-width:2.0px;stroke-linecap:butt;stroke-linejoin:miter;stroke-opacity:1\"/>\n",
       "<path class=\"bond-77 atom-59 atom-54\" d=\"M 33.5,48.7 L 45.8,51.1\" style=\"fill:none;fill-rule:evenodd;stroke:#000000;stroke-width:2.0px;stroke-linecap:butt;stroke-linejoin:miter;stroke-opacity:1\"/>\n",
       "<path class=\"bond-78 atom-0 atom-74\" d=\"M 147.9,115.8 L 153.8,120.3\" style=\"fill:none;fill-rule:evenodd;stroke:#000000;stroke-width:2.0px;stroke-linecap:butt;stroke-linejoin:miter;stroke-opacity:1\"/>\n",
       "<path class=\"bond-79 atom-0 atom-75\" d=\"M 147.9,115.8 L 149.0,112.3\" style=\"fill:none;fill-rule:evenodd;stroke:#000000;stroke-width:2.0px;stroke-linecap:butt;stroke-linejoin:miter;stroke-opacity:1\"/>\n",
       "<path class=\"bond-80 atom-0 atom-76\" d=\"M 147.9,115.8 L 147.4,111.8\" style=\"fill:none;fill-rule:evenodd;stroke:#000000;stroke-width:2.0px;stroke-linecap:butt;stroke-linejoin:miter;stroke-opacity:1\"/>\n",
       "<path class=\"bond-81 atom-1 atom-77\" d=\"M 136.4,122.5 L 135.1,123.5\" style=\"fill:none;fill-rule:evenodd;stroke:#000000;stroke-width:2.0px;stroke-linecap:butt;stroke-linejoin:miter;stroke-opacity:1\"/>\n",
       "<path class=\"bond-82 atom-2 atom-78\" d=\"M 125.1,116.2 L 119.7,121.2\" style=\"fill:none;fill-rule:evenodd;stroke:#000000;stroke-width:2.0px;stroke-linecap:butt;stroke-linejoin:miter;stroke-opacity:1\"/>\n",
       "<path class=\"bond-83 atom-5 atom-79\" d=\"M 120.0,91.6 L 118.4,90.4\" style=\"fill:none;fill-rule:evenodd;stroke:#0000FF;stroke-width:2.0px;stroke-linecap:butt;stroke-linejoin:miter;stroke-opacity:1\"/>\n",
       "<path class=\"bond-83 atom-5 atom-79\" d=\"M 118.4,90.4 L 116.7,89.1\" style=\"fill:none;fill-rule:evenodd;stroke:#000000;stroke-width:2.0px;stroke-linecap:butt;stroke-linejoin:miter;stroke-opacity:1\"/>\n",
       "<path class=\"bond-84 atom-6 atom-80\" d=\"M 130.5,87.2 L 132.6,91.1\" style=\"fill:none;fill-rule:evenodd;stroke:#000000;stroke-width:2.0px;stroke-linecap:butt;stroke-linejoin:miter;stroke-opacity:1\"/>\n",
       "<path class=\"bond-85 atom-10 atom-81\" d=\"M 87.6,82.7 L 90.2,89.5\" style=\"fill:none;fill-rule:evenodd;stroke:#000000;stroke-width:2.0px;stroke-linecap:butt;stroke-linejoin:miter;stroke-opacity:1\"/>\n",
       "<path class=\"bond-86 atom-10 atom-82\" d=\"M 87.6,82.7 L 88.0,80.6\" style=\"fill:none;fill-rule:evenodd;stroke:#000000;stroke-width:2.0px;stroke-linecap:butt;stroke-linejoin:miter;stroke-opacity:1\"/>\n",
       "<path class=\"bond-87 atom-11 atom-83\" d=\"M 75.2,81.2 L 71.4,86.6\" style=\"fill:none;fill-rule:evenodd;stroke:#000000;stroke-width:2.0px;stroke-linecap:butt;stroke-linejoin:miter;stroke-opacity:1\"/>\n",
       "<path class=\"bond-88 atom-14 atom-84\" d=\"M 74.6,91.0 L 74.9,91.0\" style=\"fill:none;fill-rule:evenodd;stroke:#0000FF;stroke-width:2.0px;stroke-linecap:butt;stroke-linejoin:miter;stroke-opacity:1\"/>\n",
       "<path class=\"bond-88 atom-14 atom-84\" d=\"M 74.9,91.0 L 75.1,91.0\" style=\"fill:none;fill-rule:evenodd;stroke:#000000;stroke-width:2.0px;stroke-linecap:butt;stroke-linejoin:miter;stroke-opacity:1\"/>\n",
       "<path class=\"bond-89 atom-15 atom-85\" d=\"M 65.1,101.4 L 63.9,102.4\" style=\"fill:none;fill-rule:evenodd;stroke:#000000;stroke-width:2.0px;stroke-linecap:butt;stroke-linejoin:miter;stroke-opacity:1\"/>\n",
       "<path class=\"bond-90 atom-18 atom-86\" d=\"M 72.4,125.9 L 72.2,127.5\" style=\"fill:none;fill-rule:evenodd;stroke:#0000FF;stroke-width:2.0px;stroke-linecap:butt;stroke-linejoin:miter;stroke-opacity:1\"/>\n",
       "<path class=\"bond-90 atom-18 atom-86\" d=\"M 72.2,127.5 L 71.9,129.2\" style=\"fill:none;fill-rule:evenodd;stroke:#000000;stroke-width:2.0px;stroke-linecap:butt;stroke-linejoin:miter;stroke-opacity:1\"/>\n",
       "<path class=\"bond-91 atom-19 atom-87\" d=\"M 76.9,123.9 L 72.8,120.3\" style=\"fill:none;fill-rule:evenodd;stroke:#000000;stroke-width:2.0px;stroke-linecap:butt;stroke-linejoin:miter;stroke-opacity:1\"/>\n",
       "<path class=\"bond-92 atom-22 atom-88\" d=\"M 98.6,112.2 L 99.3,110.2\" style=\"fill:none;fill-rule:evenodd;stroke:#0000FF;stroke-width:2.0px;stroke-linecap:butt;stroke-linejoin:miter;stroke-opacity:1\"/>\n",
       "<path class=\"bond-92 atom-22 atom-88\" d=\"M 99.3,110.2 L 99.9,108.2\" style=\"fill:none;fill-rule:evenodd;stroke:#000000;stroke-width:2.0px;stroke-linecap:butt;stroke-linejoin:miter;stroke-opacity:1\"/>\n",
       "<path class=\"bond-93 atom-23 atom-89\" d=\"M 103.4,119.7 L 100.3,118.3\" style=\"fill:none;fill-rule:evenodd;stroke:#000000;stroke-width:2.0px;stroke-linecap:butt;stroke-linejoin:miter;stroke-opacity:1\"/>\n",
       "<path class=\"bond-94 atom-26 atom-90\" d=\"M 127.5,115.8 L 130.0,115.9\" style=\"fill:none;fill-rule:evenodd;stroke:#0000FF;stroke-width:2.0px;stroke-linecap:butt;stroke-linejoin:miter;stroke-opacity:1\"/>\n",
       "<path class=\"bond-94 atom-26 atom-90\" d=\"M 130.0,115.9 L 132.5,115.9\" style=\"fill:none;fill-rule:evenodd;stroke:#000000;stroke-width:2.0px;stroke-linecap:butt;stroke-linejoin:miter;stroke-opacity:1\"/>\n",
       "<path class=\"bond-95 atom-27 atom-91\" d=\"M 103.1,133.6 L 95.6,135.7\" style=\"fill:none;fill-rule:evenodd;stroke:#000000;stroke-width:2.0px;stroke-linecap:butt;stroke-linejoin:miter;stroke-opacity:1\"/>\n",
       "<path class=\"bond-96 atom-27 atom-92\" d=\"M 103.1,133.6 L 104.9,135.5\" style=\"fill:none;fill-rule:evenodd;stroke:#000000;stroke-width:2.0px;stroke-linecap:butt;stroke-linejoin:miter;stroke-opacity:1\"/>\n",
       "<path class=\"bond-97 atom-28 atom-93\" d=\"M 109.2,137.9 L 116.6,135.7\" style=\"fill:none;fill-rule:evenodd;stroke:#000000;stroke-width:2.0px;stroke-linecap:butt;stroke-linejoin:miter;stroke-opacity:1\"/>\n",
       "<path class=\"bond-98 atom-28 atom-94\" d=\"M 109.2,137.9 L 106.0,135.7\" style=\"fill:none;fill-rule:evenodd;stroke:#000000;stroke-width:2.0px;stroke-linecap:butt;stroke-linejoin:miter;stroke-opacity:1\"/>\n",
       "<path class=\"bond-99 atom-29 atom-95\" d=\"M 108.9,151.6 L 101.4,154.3\" style=\"fill:none;fill-rule:evenodd;stroke:#000000;stroke-width:2.0px;stroke-linecap:butt;stroke-linejoin:miter;stroke-opacity:1\"/>\n",
       "<path class=\"bond-100 atom-29 atom-96\" d=\"M 108.9,151.6 L 112.0,153.7\" style=\"fill:none;fill-rule:evenodd;stroke:#000000;stroke-width:2.0px;stroke-linecap:butt;stroke-linejoin:miter;stroke-opacity:1\"/>\n",
       "<path class=\"bond-101 atom-30 atom-97\" d=\"M 116.7,156.4 L 119.0,157.2\" style=\"fill:none;fill-rule:evenodd;stroke:#0000FF;stroke-width:2.0px;stroke-linecap:butt;stroke-linejoin:miter;stroke-opacity:1\"/>\n",
       "<path class=\"bond-101 atom-30 atom-97\" d=\"M 119.0,157.2 L 121.3,158.0\" style=\"fill:none;fill-rule:evenodd;stroke:#000000;stroke-width:2.0px;stroke-linecap:butt;stroke-linejoin:miter;stroke-opacity:1\"/>\n",
       "<path class=\"bond-102 atom-30 atom-98\" d=\"M 113.8,153.3 L 113.8,153.1\" style=\"fill:none;fill-rule:evenodd;stroke:#0000FF;stroke-width:2.0px;stroke-linecap:butt;stroke-linejoin:miter;stroke-opacity:1\"/>\n",
       "<path class=\"bond-102 atom-30 atom-98\" d=\"M 113.8,153.1 L 113.7,153.0\" style=\"fill:none;fill-rule:evenodd;stroke:#000000;stroke-width:2.0px;stroke-linecap:butt;stroke-linejoin:miter;stroke-opacity:1\"/>\n",
       "<path class=\"bond-103 atom-31 atom-99\" d=\"M 76.3,136.7 L 80.3,140.9\" style=\"fill:none;fill-rule:evenodd;stroke:#000000;stroke-width:2.0px;stroke-linecap:butt;stroke-linejoin:miter;stroke-opacity:1\"/>\n",
       "<path class=\"bond-104 atom-31 atom-100\" d=\"M 76.3,136.7 L 78.0,137.0\" style=\"fill:none;fill-rule:evenodd;stroke:#000000;stroke-width:2.0px;stroke-linecap:butt;stroke-linejoin:miter;stroke-opacity:1\"/>\n",
       "<path class=\"bond-105 atom-33 atom-101\" d=\"M 59.1,150.5 L 62.3,152.8\" style=\"fill:none;fill-rule:evenodd;stroke:#000000;stroke-width:2.0px;stroke-linecap:butt;stroke-linejoin:miter;stroke-opacity:1\"/>\n",
       "<path class=\"bond-106 atom-34 atom-102\" d=\"M 45.7,154.9 L 44.8,155.9\" style=\"fill:none;fill-rule:evenodd;stroke:#0000FF;stroke-width:2.0px;stroke-linecap:butt;stroke-linejoin:miter;stroke-opacity:1\"/>\n",
       "<path class=\"bond-106 atom-34 atom-102\" d=\"M 44.8,155.9 L 43.9,156.8\" style=\"fill:none;fill-rule:evenodd;stroke:#000000;stroke-width:2.0px;stroke-linecap:butt;stroke-linejoin:miter;stroke-opacity:1\"/>\n",
       "<path class=\"bond-107 atom-36 atom-103\" d=\"M 33.8,145.7 L 28.2,149.6\" style=\"fill:none;fill-rule:evenodd;stroke:#000000;stroke-width:2.0px;stroke-linecap:butt;stroke-linejoin:miter;stroke-opacity:1\"/>\n",
       "<path class=\"bond-108 atom-37 atom-104\" d=\"M 32.7,138.1 L 26.3,137.7\" style=\"fill:none;fill-rule:evenodd;stroke:#000000;stroke-width:2.0px;stroke-linecap:butt;stroke-linejoin:miter;stroke-opacity:1\"/>\n",
       "<path class=\"bond-109 atom-38 atom-105\" d=\"M 42.7,131.2 L 42.3,127.7\" style=\"fill:none;fill-rule:evenodd;stroke:#000000;stroke-width:2.0px;stroke-linecap:butt;stroke-linejoin:miter;stroke-opacity:1\"/>\n",
       "<path class=\"bond-110 atom-39 atom-106\" d=\"M 53.5,131.9 L 59.4,127.9\" style=\"fill:none;fill-rule:evenodd;stroke:#000000;stroke-width:2.0px;stroke-linecap:butt;stroke-linejoin:miter;stroke-opacity:1\"/>\n",
       "<path class=\"bond-111 atom-41 atom-107\" d=\"M 52.8,98.9 L 53.8,98.1\" style=\"fill:none;fill-rule:evenodd;stroke:#000000;stroke-width:2.0px;stroke-linecap:butt;stroke-linejoin:miter;stroke-opacity:1\"/>\n",
       "<path class=\"bond-112 atom-41 atom-108\" d=\"M 52.8,98.9 L 50.0,92.9\" style=\"fill:none;fill-rule:evenodd;stroke:#000000;stroke-width:2.0px;stroke-linecap:butt;stroke-linejoin:miter;stroke-opacity:1\"/>\n",
       "<path class=\"bond-113 atom-43 atom-109\" d=\"M 36.7,108.4 L 37.3,103.0\" style=\"fill:none;fill-rule:evenodd;stroke:#000000;stroke-width:2.0px;stroke-linecap:butt;stroke-linejoin:miter;stroke-opacity:1\"/>\n",
       "<path class=\"bond-114 atom-44 atom-110\" d=\"M 28.5,117.5 L 24.7,117.3\" style=\"fill:none;fill-rule:evenodd;stroke:#000000;stroke-width:2.0px;stroke-linecap:butt;stroke-linejoin:miter;stroke-opacity:1\"/>\n",
       "<path class=\"bond-115 atom-46 atom-111\" d=\"M 34.8,127.9 L 34.1,133.3\" style=\"fill:none;fill-rule:evenodd;stroke:#000000;stroke-width:2.0px;stroke-linecap:butt;stroke-linejoin:miter;stroke-opacity:1\"/>\n",
       "<path class=\"bond-116 atom-47 atom-112\" d=\"M 43.0,118.6 L 46.6,119.0\" style=\"fill:none;fill-rule:evenodd;stroke:#000000;stroke-width:2.0px;stroke-linecap:butt;stroke-linejoin:miter;stroke-opacity:1\"/>\n",
       "<path class=\"bond-117 atom-48 atom-113\" d=\"M 16.8,136.6 L 14.7,136.6\" style=\"fill:none;fill-rule:evenodd;stroke:#FF0000;stroke-width:2.0px;stroke-linecap:butt;stroke-linejoin:miter;stroke-opacity:1\"/>\n",
       "<path class=\"bond-117 atom-48 atom-113\" d=\"M 14.7,136.6 L 12.6,136.5\" style=\"fill:none;fill-rule:evenodd;stroke:#000000;stroke-width:2.0px;stroke-linecap:butt;stroke-linejoin:miter;stroke-opacity:1\"/>\n",
       "<path class=\"bond-118 atom-49 atom-114\" d=\"M 70.7,67.7 L 71.6,66.1\" style=\"fill:none;fill-rule:evenodd;stroke:#0000FF;stroke-width:2.0px;stroke-linecap:butt;stroke-linejoin:miter;stroke-opacity:1\"/>\n",
       "<path class=\"bond-118 atom-49 atom-114\" d=\"M 71.6,66.1 L 72.5,64.5\" style=\"fill:none;fill-rule:evenodd;stroke:#000000;stroke-width:2.0px;stroke-linecap:butt;stroke-linejoin:miter;stroke-opacity:1\"/>\n",
       "<path class=\"bond-119 atom-52 atom-115\" d=\"M 50.9,59.1 L 53.2,57.7\" style=\"fill:none;fill-rule:evenodd;stroke:#000000;stroke-width:2.0px;stroke-linecap:butt;stroke-linejoin:miter;stroke-opacity:1\"/>\n",
       "<path class=\"bond-120 atom-53 atom-116\" d=\"M 51.2,48.8 L 58.6,46.2\" style=\"fill:none;fill-rule:evenodd;stroke:#000000;stroke-width:2.0px;stroke-linecap:butt;stroke-linejoin:miter;stroke-opacity:1\"/>\n",
       "<path class=\"bond-121 atom-53 atom-117\" d=\"M 51.2,48.8 L 47.7,43.6\" style=\"fill:none;fill-rule:evenodd;stroke:#000000;stroke-width:2.0px;stroke-linecap:butt;stroke-linejoin:miter;stroke-opacity:1\"/>\n",
       "<path class=\"bond-122 atom-55 atom-118\" d=\"M 52.2,55.5 L 59.8,57.1\" style=\"fill:none;fill-rule:evenodd;stroke:#000000;stroke-width:2.0px;stroke-linecap:butt;stroke-linejoin:miter;stroke-opacity:1\"/>\n",
       "<path class=\"bond-123 atom-56 atom-119\" d=\"M 47.2,57.5 L 50.4,59.7\" style=\"fill:none;fill-rule:evenodd;stroke:#000000;stroke-width:2.0px;stroke-linecap:butt;stroke-linejoin:miter;stroke-opacity:1\"/>\n",
       "<path class=\"bond-124 atom-57 atom-120\" d=\"M 35.0,55.1 L 32.7,55.9\" style=\"fill:none;fill-rule:evenodd;stroke:#000000;stroke-width:2.0px;stroke-linecap:butt;stroke-linejoin:miter;stroke-opacity:1\"/>\n",
       "<path class=\"bond-125 atom-58 atom-121\" d=\"M 28.5,50.8 L 20.9,49.3\" style=\"fill:none;fill-rule:evenodd;stroke:#000000;stroke-width:2.0px;stroke-linecap:butt;stroke-linejoin:miter;stroke-opacity:1\"/>\n",
       "<path class=\"bond-126 atom-59 atom-122\" d=\"M 33.5,48.7 L 29.9,46.5\" style=\"fill:none;fill-rule:evenodd;stroke:#000000;stroke-width:2.0px;stroke-linecap:butt;stroke-linejoin:miter;stroke-opacity:1\"/>\n",
       "<path class=\"bond-127 atom-60 atom-123\" d=\"M 36.1,64.0 L 35.5,64.6\" style=\"fill:none;fill-rule:evenodd;stroke:#0000FF;stroke-width:2.0px;stroke-linecap:butt;stroke-linejoin:miter;stroke-opacity:1\"/>\n",
       "<path class=\"bond-127 atom-60 atom-123\" d=\"M 35.5,64.6 L 34.9,65.2\" style=\"fill:none;fill-rule:evenodd;stroke:#000000;stroke-width:2.0px;stroke-linecap:butt;stroke-linejoin:miter;stroke-opacity:1\"/>\n",
       "<path class=\"bond-128 atom-60 atom-124\" d=\"M 37.8,64.6 L 37.7,65.5\" style=\"fill:none;fill-rule:evenodd;stroke:#0000FF;stroke-width:2.0px;stroke-linecap:butt;stroke-linejoin:miter;stroke-opacity:1\"/>\n",
       "<path class=\"bond-128 atom-60 atom-124\" d=\"M 37.7,65.5 L 37.6,66.4\" style=\"fill:none;fill-rule:evenodd;stroke:#000000;stroke-width:2.0px;stroke-linecap:butt;stroke-linejoin:miter;stroke-opacity:1\"/>\n",
       "<path class=\"bond-129 atom-61 atom-125\" d=\"M 126.4,65.4 L 128.0,66.9\" style=\"fill:none;fill-rule:evenodd;stroke:#000000;stroke-width:2.0px;stroke-linecap:butt;stroke-linejoin:miter;stroke-opacity:1\"/>\n",
       "<path class=\"bond-130 atom-61 atom-126\" d=\"M 126.4,65.4 L 132.4,62.1\" style=\"fill:none;fill-rule:evenodd;stroke:#000000;stroke-width:2.0px;stroke-linecap:butt;stroke-linejoin:miter;stroke-opacity:1\"/>\n",
       "<path class=\"bond-131 atom-61 atom-127\" d=\"M 126.4,65.4 L 120.8,60.7\" style=\"fill:none;fill-rule:evenodd;stroke:#000000;stroke-width:2.0px;stroke-linecap:butt;stroke-linejoin:miter;stroke-opacity:1\"/>\n",
       "<path class=\"bond-132 atom-62 atom-128\" d=\"M 129.3,76.4 L 123.7,77.2\" style=\"fill:none;fill-rule:evenodd;stroke:#000000;stroke-width:2.0px;stroke-linecap:butt;stroke-linejoin:miter;stroke-opacity:1\"/>\n",
       "<path class=\"bond-133 atom-62 atom-129\" d=\"M 129.3,76.4 L 133.7,81.5\" style=\"fill:none;fill-rule:evenodd;stroke:#000000;stroke-width:2.0px;stroke-linecap:butt;stroke-linejoin:miter;stroke-opacity:1\"/>\n",
       "<path class=\"bond-134 atom-62 atom-130\" d=\"M 129.3,76.4 L 132.0,69.8\" style=\"fill:none;fill-rule:evenodd;stroke:#000000;stroke-width:2.0px;stroke-linecap:butt;stroke-linejoin:miter;stroke-opacity:1\"/>\n",
       "<path class=\"bond-135 atom-65 atom-131\" d=\"M 150.5,75.7 L 150.7,75.3\" style=\"fill:none;fill-rule:evenodd;stroke:#0000FF;stroke-width:2.0px;stroke-linecap:butt;stroke-linejoin:miter;stroke-opacity:1\"/>\n",
       "<path class=\"bond-135 atom-65 atom-131\" d=\"M 150.7,75.3 L 150.9,75.0\" style=\"fill:none;fill-rule:evenodd;stroke:#000000;stroke-width:2.0px;stroke-linecap:butt;stroke-linejoin:miter;stroke-opacity:1\"/>\n",
       "<path class=\"bond-136 atom-66 atom-132\" d=\"M 160.2,70.4 L 159.8,70.4\" style=\"fill:none;fill-rule:evenodd;stroke:#000000;stroke-width:2.0px;stroke-linecap:butt;stroke-linejoin:miter;stroke-opacity:1\"/>\n",
       "<path class=\"bond-137 atom-67 atom-133\" d=\"M 171.5,78.5 L 169.7,85.5\" style=\"fill:none;fill-rule:evenodd;stroke:#000000;stroke-width:2.0px;stroke-linecap:butt;stroke-linejoin:miter;stroke-opacity:1\"/>\n",
       "<path class=\"bond-138 atom-68 atom-134\" d=\"M 181.0,74.3 L 182.8,79.2\" style=\"fill:none;fill-rule:evenodd;stroke:#000000;stroke-width:2.0px;stroke-linecap:butt;stroke-linejoin:miter;stroke-opacity:1\"/>\n",
       "<path class=\"bond-139 atom-68 atom-135\" d=\"M 181.0,74.3 L 187.4,72.2\" style=\"fill:none;fill-rule:evenodd;stroke:#000000;stroke-width:2.0px;stroke-linecap:butt;stroke-linejoin:miter;stroke-opacity:1\"/>\n",
       "<path class=\"bond-140 atom-68 atom-136\" d=\"M 181.0,74.3 L 178.7,69.3\" style=\"fill:none;fill-rule:evenodd;stroke:#000000;stroke-width:2.0px;stroke-linecap:butt;stroke-linejoin:miter;stroke-opacity:1\"/>\n",
       "<path class=\"bond-141 atom-69 atom-137\" d=\"M 176.8,81.7 L 177.3,83.0\" style=\"fill:none;fill-rule:evenodd;stroke:#FF0000;stroke-width:2.0px;stroke-linecap:butt;stroke-linejoin:miter;stroke-opacity:1\"/>\n",
       "<path class=\"bond-141 atom-69 atom-137\" d=\"M 177.3,83.0 L 177.9,84.3\" style=\"fill:none;fill-rule:evenodd;stroke:#000000;stroke-width:2.0px;stroke-linecap:butt;stroke-linejoin:miter;stroke-opacity:1\"/>\n",
       "<path class=\"bond-142 atom-72 atom-138\" d=\"M 171.5,48.0 L 171.4,47.6\" style=\"fill:none;fill-rule:evenodd;stroke:#0000FF;stroke-width:2.0px;stroke-linecap:butt;stroke-linejoin:miter;stroke-opacity:1\"/>\n",
       "<path class=\"bond-142 atom-72 atom-138\" d=\"M 171.4,47.6 L 171.3,47.1\" style=\"fill:none;fill-rule:evenodd;stroke:#000000;stroke-width:2.0px;stroke-linecap:butt;stroke-linejoin:miter;stroke-opacity:1\"/>\n",
       "<path class=\"bond-143 atom-72 atom-139\" d=\"M 174.2,50.6 L 176.5,50.6\" style=\"fill:none;fill-rule:evenodd;stroke:#0000FF;stroke-width:2.0px;stroke-linecap:butt;stroke-linejoin:miter;stroke-opacity:1\"/>\n",
       "<path class=\"bond-143 atom-72 atom-139\" d=\"M 176.5,50.6 L 178.9,50.6\" style=\"fill:none;fill-rule:evenodd;stroke:#000000;stroke-width:2.0px;stroke-linecap:butt;stroke-linejoin:miter;stroke-opacity:1\"/>\n",
       "<path class=\"bond-144 atom-73 atom-140\" d=\"M 139.7,134.9 L 141.9,135.5\" style=\"fill:none;fill-rule:evenodd;stroke:#FF0000;stroke-width:2.0px;stroke-linecap:butt;stroke-linejoin:miter;stroke-opacity:1\"/>\n",
       "<path class=\"bond-144 atom-73 atom-140\" d=\"M 141.9,135.5 L 144.0,136.0\" style=\"fill:none;fill-rule:evenodd;stroke:#000000;stroke-width:2.0px;stroke-linecap:butt;stroke-linejoin:miter;stroke-opacity:1\"/>\n",
       "<path d=\"M 122.8,105.3 L 122.7,104.7 L 122.7,104.5\" style=\"fill:none;stroke:#000000;stroke-width:2.0px;stroke-linecap:butt;stroke-linejoin:miter;stroke-opacity:1;\"/>\n",
       "<path d=\"M 76.5,81.7 L 76.6,81.7 L 76.5,81.9\" style=\"fill:none;stroke:#000000;stroke-width:2.0px;stroke-linecap:butt;stroke-linejoin:miter;stroke-opacity:1;\"/>\n",
       "<path d=\"M 69.9,111.7 L 70.1,112.2 L 70.2,112.4\" style=\"fill:none;stroke:#000000;stroke-width:2.0px;stroke-linecap:butt;stroke-linejoin:miter;stroke-opacity:1;\"/>\n",
       "<path d=\"M 88.8,119.6 L 89.4,119.3 L 89.5,119.2\" style=\"fill:none;stroke:#000000;stroke-width:2.0px;stroke-linecap:butt;stroke-linejoin:miter;stroke-opacity:1;\"/>\n",
       "<path d=\"M 115.4,115.4 L 116.0,115.2 L 116.2,115.2\" style=\"fill:none;stroke:#000000;stroke-width:2.0px;stroke-linecap:butt;stroke-linejoin:miter;stroke-opacity:1;\"/>\n",
       "<path d=\"M 57.7,69.9 L 57.4,69.9 L 57.1,69.3\" style=\"fill:none;stroke:#000000;stroke-width:2.0px;stroke-linecap:butt;stroke-linejoin:miter;stroke-opacity:1;\"/>\n",
       "<path d=\"M 140.2,81.8 L 140.7,81.5 L 140.9,81.4\" style=\"fill:none;stroke:#000000;stroke-width:2.0px;stroke-linecap:butt;stroke-linejoin:miter;stroke-opacity:1;\"/>\n",
       "<path d=\"M 163.2,58.9 L 163.3,58.3 L 163.5,58.1\" style=\"fill:none;stroke:#000000;stroke-width:2.0px;stroke-linecap:butt;stroke-linejoin:miter;stroke-opacity:1;\"/>\n",
       "<path class=\"atom-4\" d=\"M 119.1 105.7 Q 119.1 104.7, 119.6 104.1 Q 120.1 103.6, 121.0 103.6 Q 122.0 103.6, 122.5 104.1 Q 123.0 104.7, 123.0 105.7 Q 123.0 106.7, 122.5 107.3 Q 122.0 107.9, 121.0 107.9 Q 120.1 107.9, 119.6 107.3 Q 119.1 106.8, 119.1 105.7 M 121.0 107.4 Q 121.7 107.4, 122.0 107.0 Q 122.4 106.6, 122.4 105.7 Q 122.4 104.9, 122.0 104.5 Q 121.7 104.0, 121.0 104.0 Q 120.4 104.0, 120.0 104.5 Q 119.7 104.9, 119.7 105.7 Q 119.7 106.6, 120.0 107.0 Q 120.4 107.4, 121.0 107.4 \" fill=\"#FF0000\"/>\n",
       "<path class=\"atom-5\" d=\"M 121.1 90.9 L 122.5 93.2 Q 122.6 93.4, 122.8 93.8 Q 123.0 94.2, 123.1 94.2 L 123.1 90.9 L 123.6 90.9 L 123.6 95.2 L 123.0 95.2 L 121.5 92.7 Q 121.4 92.4, 121.2 92.1 Q 121.0 91.8, 121.0 91.7 L 121.0 95.2 L 120.4 95.2 L 120.4 90.9 L 121.1 90.9 \" fill=\"#0000FF\"/>\n",
       "<path class=\"atom-8\" d=\"M 106.8 81.9 Q 106.8 81.9, 107.0 82.0 Q 107.2 82.1, 107.4 82.1 Q 107.6 82.2, 107.9 82.2 Q 108.3 82.2, 108.5 82.0 Q 108.7 81.8, 108.7 81.5 Q 108.7 81.2, 108.6 81.1 Q 108.5 80.9, 108.3 80.9 Q 108.1 80.8, 107.8 80.7 Q 107.4 80.6, 107.2 80.5 Q 107.0 80.4, 106.8 80.1 Q 106.7 79.9, 106.7 79.5 Q 106.7 79.0, 107.0 78.7 Q 107.4 78.3, 108.1 78.3 Q 108.6 78.3, 109.2 78.6 L 109.0 79.0 Q 108.5 78.8, 108.1 78.8 Q 107.7 78.8, 107.5 79.0 Q 107.3 79.2, 107.3 79.5 Q 107.3 79.7, 107.4 79.8 Q 107.5 80.0, 107.7 80.0 Q 107.9 80.1, 108.1 80.2 Q 108.5 80.3, 108.8 80.4 Q 109.0 80.6, 109.1 80.8 Q 109.3 81.0, 109.3 81.5 Q 109.3 82.0, 108.9 82.4 Q 108.5 82.7, 107.9 82.7 Q 107.5 82.7, 107.2 82.6 Q 106.9 82.5, 106.6 82.4 L 106.8 81.9 \" fill=\"#CCCC00\"/>\n",
       "<path class=\"atom-9\" d=\"M 97.1 73.7 Q 97.2 73.8, 97.4 73.8 Q 97.6 73.9, 97.8 74.0 Q 98.0 74.0, 98.2 74.0 Q 98.6 74.0, 98.9 73.8 Q 99.1 73.6, 99.1 73.3 Q 99.1 73.1, 99.0 72.9 Q 98.9 72.8, 98.7 72.7 Q 98.5 72.6, 98.2 72.5 Q 97.8 72.4, 97.6 72.3 Q 97.4 72.2, 97.2 72.0 Q 97.1 71.7, 97.1 71.4 Q 97.1 70.8, 97.4 70.5 Q 97.8 70.2, 98.5 70.2 Q 99.0 70.2, 99.6 70.4 L 99.4 70.9 Q 98.9 70.6, 98.5 70.6 Q 98.1 70.6, 97.9 70.8 Q 97.7 71.0, 97.7 71.3 Q 97.7 71.5, 97.8 71.6 Q 97.9 71.8, 98.1 71.9 Q 98.2 71.9, 98.5 72.0 Q 98.9 72.1, 99.1 72.3 Q 99.4 72.4, 99.5 72.6 Q 99.7 72.9, 99.7 73.3 Q 99.7 73.9, 99.3 74.2 Q 98.9 74.5, 98.3 74.5 Q 97.9 74.5, 97.6 74.4 Q 97.3 74.3, 97.0 74.2 L 97.1 73.7 \" fill=\"#CCCC00\"/>\n",
       "<path class=\"atom-13\" d=\"M 80.0 72.8 Q 80.0 71.7, 80.5 71.2 Q 81.0 70.6, 81.9 70.6 Q 82.9 70.6, 83.4 71.2 Q 83.9 71.7, 83.9 72.8 Q 83.9 73.8, 83.4 74.4 Q 82.9 75.0, 81.9 75.0 Q 81.0 75.0, 80.5 74.4 Q 80.0 73.8, 80.0 72.8 M 81.9 74.5 Q 82.6 74.5, 82.9 74.1 Q 83.3 73.6, 83.3 72.8 Q 83.3 71.9, 82.9 71.5 Q 82.6 71.1, 81.9 71.1 Q 81.3 71.1, 80.9 71.5 Q 80.6 71.9, 80.6 72.8 Q 80.6 73.6, 80.9 74.1 Q 81.3 74.5, 81.9 74.5 \" fill=\"#FF0000\"/>\n",
       "<path class=\"atom-14\" d=\"M 71.7 89.0 L 73.1 91.2 Q 73.2 91.4, 73.4 91.8 Q 73.6 92.2, 73.7 92.3 L 73.7 89.0 L 74.2 89.0 L 74.2 93.2 L 73.6 93.2 L 72.1 90.8 Q 72.0 90.5, 71.8 90.1 Q 71.6 89.8, 71.5 89.7 L 71.5 93.2 L 71.0 93.2 L 71.0 89.0 L 71.7 89.0 \" fill=\"#0000FF\"/>\n",
       "<path class=\"atom-17\" d=\"M 70.5 112.2 Q 70.5 111.2, 71.0 110.6 Q 71.5 110.0, 72.4 110.0 Q 73.4 110.0, 73.9 110.6 Q 74.4 111.2, 74.4 112.2 Q 74.4 113.2, 73.9 113.8 Q 73.4 114.4, 72.4 114.4 Q 71.5 114.4, 71.0 113.8 Q 70.5 113.2, 70.5 112.2 M 72.4 113.9 Q 73.1 113.9, 73.4 113.5 Q 73.8 113.0, 73.8 112.2 Q 73.8 111.4, 73.4 110.9 Q 73.1 110.5, 72.4 110.5 Q 71.8 110.5, 71.4 110.9 Q 71.1 111.4, 71.1 112.2 Q 71.1 113.1, 71.4 113.5 Q 71.8 113.9, 72.4 113.9 \" fill=\"#FF0000\"/>\n",
       "<path class=\"atom-18\" d=\"M 71.8 121.3 L 73.2 123.6 Q 73.3 123.8, 73.5 124.2 Q 73.8 124.6, 73.8 124.6 L 73.8 121.3 L 74.3 121.3 L 74.3 125.6 L 73.8 125.6 L 72.3 123.1 Q 72.1 122.8, 71.9 122.5 Q 71.7 122.2, 71.7 122.1 L 71.7 125.6 L 71.1 125.6 L 71.1 121.3 L 71.8 121.3 \" fill=\"#0000FF\"/>\n",
       "<path class=\"atom-21\" d=\"M 90.4 120.2 Q 90.4 119.1, 90.9 118.6 Q 91.4 118.0, 92.3 118.0 Q 93.3 118.0, 93.8 118.6 Q 94.3 119.1, 94.3 120.2 Q 94.3 121.2, 93.8 121.8 Q 93.3 122.4, 92.3 122.4 Q 91.4 122.4, 90.9 121.8 Q 90.4 121.2, 90.4 120.2 M 92.3 121.9 Q 93.0 121.9, 93.3 121.4 Q 93.7 121.0, 93.7 120.2 Q 93.7 119.3, 93.3 118.9 Q 93.0 118.5, 92.3 118.5 Q 91.7 118.5, 91.3 118.9 Q 91.0 119.3, 91.0 120.2 Q 91.0 121.0, 91.3 121.4 Q 91.7 121.9, 92.3 121.9 \" fill=\"#FF0000\"/>\n",
       "<path class=\"atom-22\" d=\"M 96.8 112.6 L 98.2 114.8 Q 98.3 115.0, 98.5 115.4 Q 98.8 115.8, 98.8 115.9 L 98.8 112.6 L 99.3 112.6 L 99.3 116.8 L 98.8 116.8 L 97.3 114.3 Q 97.1 114.1, 96.9 113.7 Q 96.7 113.4, 96.7 113.3 L 96.7 116.8 L 96.1 116.8 L 96.1 112.6 L 96.8 112.6 \" fill=\"#0000FF\"/>\n",
       "<path class=\"atom-25\" d=\"M 116.4 110.2 Q 116.4 109.2, 116.9 108.6 Q 117.4 108.1, 118.3 108.1 Q 119.2 108.1, 119.8 108.6 Q 120.3 109.2, 120.3 110.2 Q 120.3 111.3, 119.7 111.8 Q 119.2 112.4, 118.3 112.4 Q 117.4 112.4, 116.9 111.8 Q 116.4 111.3, 116.4 110.2 M 118.3 111.9 Q 119.0 111.9, 119.3 111.5 Q 119.7 111.1, 119.7 110.2 Q 119.7 109.4, 119.3 109.0 Q 119.0 108.5, 118.3 108.5 Q 117.7 108.5, 117.3 109.0 Q 117.0 109.4, 117.0 110.2 Q 117.0 111.1, 117.3 111.5 Q 117.7 111.9, 118.3 111.9 \" fill=\"#FF0000\"/>\n",
       "<path class=\"atom-26\" d=\"M 124.6 113.6 L 126.0 115.9 Q 126.1 116.1, 126.3 116.5 Q 126.6 116.9, 126.6 116.9 L 126.6 113.6 L 127.1 113.6 L 127.1 117.9 L 126.6 117.9 L 125.1 115.4 Q 124.9 115.1, 124.7 114.8 Q 124.5 114.5, 124.5 114.4 L 124.5 117.9 L 123.9 117.9 L 123.9 113.6 L 124.6 113.6 \" fill=\"#0000FF\"/>\n",
       "<path class=\"atom-30\" d=\"M 113.7 153.6 L 115.1 155.9 Q 115.2 156.1, 115.5 156.5 Q 115.7 156.9, 115.7 156.9 L 115.7 153.6 L 116.3 153.6 L 116.3 157.9 L 115.7 157.9 L 114.2 155.4 Q 114.0 155.1, 113.8 154.8 Q 113.7 154.5, 113.6 154.4 L 113.6 157.9 L 113.0 157.9 L 113.0 153.6 L 113.7 153.6 \" fill=\"#0000FF\"/>\n",
       "<path class=\"atom-34\" d=\"M 46.7 150.8 L 48.1 153.0 Q 48.2 153.2, 48.5 153.6 Q 48.7 154.0, 48.7 154.1 L 48.7 150.8 L 49.3 150.8 L 49.3 155.0 L 48.7 155.0 L 47.2 152.5 Q 47.0 152.3, 46.8 151.9 Q 46.6 151.6, 46.6 151.5 L 46.6 155.0 L 46.0 155.0 L 46.0 150.8 L 46.7 150.8 \" fill=\"#0000FF\"/>\n",
       "<path class=\"atom-48\" d=\"M 17.2 136.7 Q 17.2 135.7, 17.7 135.1 Q 18.2 134.5, 19.1 134.5 Q 20.1 134.5, 20.6 135.1 Q 21.1 135.7, 21.1 136.7 Q 21.1 137.7, 20.6 138.3 Q 20.1 138.9, 19.1 138.9 Q 18.2 138.9, 17.7 138.3 Q 17.2 137.7, 17.2 136.7 M 19.1 138.4 Q 19.8 138.4, 20.1 138.0 Q 20.5 137.5, 20.5 136.7 Q 20.5 135.9, 20.1 135.4 Q 19.8 135.0, 19.1 135.0 Q 18.5 135.0, 18.1 135.4 Q 17.8 135.8, 17.8 136.7 Q 17.8 137.5, 18.1 138.0 Q 18.5 138.4, 19.1 138.4 \" fill=\"#FF0000\"/>\n",
       "<path class=\"atom-49\" d=\"M 68.4 68.1 L 69.8 70.3 Q 69.9 70.6, 70.1 71.0 Q 70.3 71.4, 70.3 71.4 L 70.3 68.1 L 70.9 68.1 L 70.9 72.3 L 70.3 72.3 L 68.8 69.9 Q 68.7 69.6, 68.5 69.3 Q 68.3 68.9, 68.2 68.8 L 68.2 72.3 L 67.7 72.3 L 67.7 68.1 L 68.4 68.1 \" fill=\"#0000FF\"/>\n",
       "<path class=\"atom-51\" d=\"M 49.9 80.0 Q 49.9 79.0, 50.4 78.4 Q 51.0 77.8, 51.9 77.8 Q 52.8 77.8, 53.3 78.4 Q 53.8 79.0, 53.8 80.0 Q 53.8 81.0, 53.3 81.6 Q 52.8 82.2, 51.9 82.2 Q 51.0 82.2, 50.4 81.6 Q 49.9 81.0, 49.9 80.0 M 51.9 81.7 Q 52.5 81.7, 52.9 81.3 Q 53.2 80.8, 53.2 80.0 Q 53.2 79.1, 52.9 78.7 Q 52.5 78.3, 51.9 78.3 Q 51.2 78.3, 50.9 78.7 Q 50.5 79.1, 50.5 80.0 Q 50.5 80.8, 50.9 81.3 Q 51.2 81.7, 51.9 81.7 \" fill=\"#FF0000\"/>\n",
       "<path class=\"atom-60\" d=\"M 37.2 60.0 L 38.6 62.2 Q 38.7 62.5, 38.9 62.9 Q 39.2 63.3, 39.2 63.3 L 39.2 60.0 L 39.7 60.0 L 39.7 64.2 L 39.1 64.2 L 37.7 61.8 Q 37.5 61.5, 37.3 61.2 Q 37.1 60.8, 37.1 60.7 L 37.1 64.2 L 36.5 64.2 L 36.5 60.0 L 37.2 60.0 \" fill=\"#0000FF\"/>\n",
       "<path class=\"atom-64\" d=\"M 139.1 81.8 Q 139.1 80.8, 139.6 80.2 Q 140.1 79.6, 141.0 79.6 Q 142.0 79.6, 142.5 80.2 Q 143.0 80.8, 143.0 81.8 Q 143.0 82.8, 142.5 83.4 Q 142.0 84.0, 141.0 84.0 Q 140.1 84.0, 139.6 83.4 Q 139.1 82.8, 139.1 81.8 M 141.0 83.5 Q 141.7 83.5, 142.0 83.1 Q 142.4 82.6, 142.4 81.8 Q 142.4 80.9, 142.0 80.5 Q 141.7 80.1, 141.0 80.1 Q 140.4 80.1, 140.0 80.5 Q 139.7 80.9, 139.7 81.8 Q 139.7 82.6, 140.0 83.1 Q 140.4 83.5, 141.0 83.5 \" fill=\"#FF0000\"/>\n",
       "<path class=\"atom-65\" d=\"M 149.6 73.5 L 150.9 75.8 Q 151.1 76.0, 151.3 76.4 Q 151.5 76.8, 151.5 76.8 L 151.5 73.5 L 152.1 73.5 L 152.1 77.8 L 151.5 77.8 L 150.0 75.3 Q 149.9 75.0, 149.7 74.7 Q 149.5 74.4, 149.4 74.3 L 149.4 77.8 L 148.9 77.8 L 148.9 73.5 L 149.6 73.5 \" fill=\"#0000FF\"/>\n",
       "<path class=\"atom-69\" d=\"M 173.6 79.1 Q 173.6 78.1, 174.1 77.6 Q 174.6 77.0, 175.6 77.0 Q 176.5 77.0, 177.0 77.6 Q 177.5 78.1, 177.5 79.1 Q 177.5 80.2, 177.0 80.8 Q 176.5 81.3, 175.6 81.3 Q 174.7 81.3, 174.1 80.8 Q 173.6 80.2, 173.6 79.1 M 175.6 80.9 Q 176.2 80.9, 176.6 80.4 Q 176.9 80.0, 176.9 79.1 Q 176.9 78.3, 176.6 77.9 Q 176.2 77.5, 175.6 77.5 Q 174.9 77.5, 174.6 77.9 Q 174.2 78.3, 174.2 79.1 Q 174.2 80.0, 174.6 80.4 Q 174.9 80.9, 175.6 80.9 \" fill=\"#FF0000\"/>\n",
       "<path class=\"atom-71\" d=\"M 155.9 53.9 Q 155.9 52.9, 156.4 52.3 Q 156.9 51.7, 157.9 51.7 Q 158.8 51.7, 159.3 52.3 Q 159.8 52.9, 159.8 53.9 Q 159.8 54.9, 159.3 55.5 Q 158.8 56.1, 157.9 56.1 Q 156.9 56.1, 156.4 55.5 Q 155.9 54.9, 155.9 53.9 M 157.9 55.6 Q 158.5 55.6, 158.9 55.2 Q 159.2 54.7, 159.2 53.9 Q 159.2 53.0, 158.9 52.6 Q 158.5 52.2, 157.9 52.2 Q 157.2 52.2, 156.9 52.6 Q 156.5 53.0, 156.5 53.9 Q 156.5 54.7, 156.9 55.2 Q 157.2 55.6, 157.9 55.6 \" fill=\"#FF0000\"/>\n",
       "<path class=\"atom-72\" d=\"M 171.2 48.4 L 172.6 50.7 Q 172.8 50.9, 173.0 51.3 Q 173.2 51.7, 173.2 51.7 L 173.2 48.4 L 173.8 48.4 L 173.8 52.7 L 173.2 52.7 L 171.7 50.2 Q 171.5 49.9, 171.4 49.6 Q 171.2 49.3, 171.1 49.2 L 171.1 52.7 L 170.6 52.7 L 170.6 48.4 L 171.2 48.4 \" fill=\"#0000FF\"/>\n",
       "<path class=\"atom-73\" d=\"M 135.4 134.3 Q 135.4 133.3, 135.9 132.7 Q 136.4 132.1, 137.4 132.1 Q 138.3 132.1, 138.8 132.7 Q 139.3 133.3, 139.3 134.3 Q 139.3 135.3, 138.8 135.9 Q 138.3 136.5, 137.4 136.5 Q 136.4 136.5, 135.9 135.9 Q 135.4 135.3, 135.4 134.3 M 137.4 136.0 Q 138.0 136.0, 138.4 135.6 Q 138.7 135.1, 138.7 134.3 Q 138.7 133.5, 138.4 133.0 Q 138.0 132.6, 137.4 132.6 Q 136.7 132.6, 136.4 133.0 Q 136.0 133.5, 136.0 134.3 Q 136.0 135.2, 136.4 135.6 Q 136.7 136.0, 137.4 136.0 \" fill=\"#FF0000\"/>\n",
       "<path class=\"atom-74\" d=\"M 154.2 119.7 L 154.8 119.7 L 154.8 121.5 L 157.0 121.5 L 157.0 119.7 L 157.5 119.7 L 157.5 124.0 L 157.0 124.0 L 157.0 122.0 L 154.8 122.0 L 154.8 124.0 L 154.2 124.0 L 154.2 119.7 \" fill=\"#000000\"/>\n",
       "<path class=\"atom-75\" d=\"M 148.1 107.7 L 148.7 107.7 L 148.7 109.5 L 150.9 109.5 L 150.9 107.7 L 151.4 107.7 L 151.4 111.9 L 150.9 111.9 L 150.9 110.0 L 148.7 110.0 L 148.7 111.9 L 148.1 111.9 L 148.1 107.7 \" fill=\"#000000\"/>\n",
       "<path class=\"atom-76\" d=\"M 145.4 107.2 L 146.0 107.2 L 146.0 109.0 L 148.1 109.0 L 148.1 107.2 L 148.7 107.2 L 148.7 111.5 L 148.1 111.5 L 148.1 109.5 L 146.0 109.5 L 146.0 111.5 L 145.4 111.5 L 145.4 107.2 \" fill=\"#000000\"/>\n",
       "<path class=\"atom-77\" d=\"M 133.4 121.4 L 134.0 121.4 L 134.0 123.2 L 136.2 123.2 L 136.2 121.4 L 136.8 121.4 L 136.8 125.6 L 136.2 125.6 L 136.2 123.6 L 134.0 123.6 L 134.0 125.6 L 133.4 125.6 L 133.4 121.4 \" fill=\"#000000\"/>\n",
       "<path class=\"atom-78\" d=\"M 116.0 120.9 L 116.6 120.9 L 116.6 122.7 L 118.8 122.7 L 118.8 120.9 L 119.4 120.9 L 119.4 125.2 L 118.8 125.2 L 118.8 123.2 L 116.6 123.2 L 116.6 125.2 L 116.0 125.2 L 116.0 120.9 \" fill=\"#000000\"/>\n",
       "<path class=\"atom-79\" d=\"M 113.0 85.5 L 113.6 85.5 L 113.6 87.3 L 115.7 87.3 L 115.7 85.5 L 116.3 85.5 L 116.3 89.8 L 115.7 89.8 L 115.7 87.8 L 113.6 87.8 L 113.6 89.8 L 113.0 89.8 L 113.0 85.5 \" fill=\"#000000\"/>\n",
       "<path class=\"atom-80\" d=\"M 132.3 91.5 L 132.8 91.5 L 132.8 93.3 L 135.0 93.3 L 135.0 91.5 L 135.6 91.5 L 135.6 95.8 L 135.0 95.8 L 135.0 93.8 L 132.8 93.8 L 132.8 95.8 L 132.3 95.8 L 132.3 91.5 \" fill=\"#000000\"/>\n",
       "<path class=\"atom-81\" d=\"M 89.5 89.9 L 90.0 89.9 L 90.0 91.7 L 92.2 91.7 L 92.2 89.9 L 92.8 89.9 L 92.8 94.1 L 92.2 94.1 L 92.2 92.1 L 90.0 92.1 L 90.0 94.1 L 89.5 94.1 L 89.5 89.9 \" fill=\"#000000\"/>\n",
       "<path class=\"atom-82\" d=\"M 86.3 78.5 L 86.9 78.5 L 86.9 80.3 L 89.1 80.3 L 89.1 78.5 L 89.7 78.5 L 89.7 82.8 L 89.1 82.8 L 89.1 80.8 L 86.9 80.8 L 86.9 82.8 L 86.3 82.8 L 86.3 78.5 \" fill=\"#000000\"/>\n",
       "<path class=\"atom-83\" d=\"M 68.0 87.0 L 68.5 87.0 L 68.5 88.8 L 70.7 88.8 L 70.7 87.0 L 71.3 87.0 L 71.3 91.2 L 70.7 91.2 L 70.7 89.3 L 68.5 89.3 L 68.5 91.2 L 68.0 91.2 L 68.0 87.0 \" fill=\"#000000\"/>\n",
       "<path class=\"atom-84\" d=\"M 73.5 88.9 L 74.0 88.9 L 74.0 90.7 L 76.2 90.7 L 76.2 88.9 L 76.8 88.9 L 76.8 93.1 L 76.2 93.1 L 76.2 91.2 L 74.0 91.2 L 74.0 93.1 L 73.5 93.1 L 73.5 88.9 \" fill=\"#000000\"/>\n",
       "<path class=\"atom-85\" d=\"M 62.2 100.3 L 62.8 100.3 L 62.8 102.1 L 65.0 102.1 L 65.0 100.3 L 65.6 100.3 L 65.6 104.6 L 65.0 104.6 L 65.0 102.6 L 62.8 102.6 L 62.8 104.6 L 62.2 104.6 L 62.2 100.3 \" fill=\"#000000\"/>\n",
       "<path class=\"atom-86\" d=\"M 69.9 129.5 L 70.5 129.5 L 70.5 131.3 L 72.7 131.3 L 72.7 129.5 L 73.3 129.5 L 73.3 133.8 L 72.7 133.8 L 72.7 131.8 L 70.5 131.8 L 70.5 133.8 L 69.9 133.8 L 69.9 129.5 \" fill=\"#000000\"/>\n",
       "<path class=\"atom-87\" d=\"M 69.1 116.3 L 69.7 116.3 L 69.7 118.1 L 71.9 118.1 L 71.9 116.3 L 72.4 116.3 L 72.4 120.6 L 71.9 120.6 L 71.9 118.6 L 69.7 118.6 L 69.7 120.6 L 69.1 120.6 L 69.1 116.3 \" fill=\"#000000\"/>\n",
       "<path class=\"atom-88\" d=\"M 99.1 103.5 L 99.7 103.5 L 99.7 105.3 L 101.9 105.3 L 101.9 103.5 L 102.4 103.5 L 102.4 107.8 L 101.9 107.8 L 101.9 105.8 L 99.7 105.8 L 99.7 107.8 L 99.1 107.8 L 99.1 103.5 \" fill=\"#000000\"/>\n",
       "<path class=\"atom-89\" d=\"M 96.6 115.3 L 97.2 115.3 L 97.2 117.1 L 99.3 117.1 L 99.3 115.3 L 99.9 115.3 L 99.9 119.6 L 99.3 119.6 L 99.3 117.6 L 97.2 117.6 L 97.2 119.6 L 96.6 119.6 L 96.6 115.3 \" fill=\"#000000\"/>\n",
       "<path class=\"atom-90\" d=\"M 132.9 113.8 L 133.4 113.8 L 133.4 115.7 L 135.6 115.7 L 135.6 113.8 L 136.2 113.8 L 136.2 118.1 L 135.6 118.1 L 135.6 116.1 L 133.4 116.1 L 133.4 118.1 L 132.9 118.1 L 132.9 113.8 \" fill=\"#000000\"/>\n",
       "<path class=\"atom-91\" d=\"M 91.9 134.1 L 92.4 134.1 L 92.4 135.9 L 94.6 135.9 L 94.6 134.1 L 95.2 134.1 L 95.2 138.4 L 94.6 138.4 L 94.6 136.4 L 92.4 136.4 L 92.4 138.4 L 91.9 138.4 L 91.9 134.1 \" fill=\"#000000\"/>\n",
       "<path class=\"atom-92\" d=\"M 105.3 135.4 L 105.9 135.4 L 105.9 137.3 L 108.1 137.3 L 108.1 135.4 L 108.6 135.4 L 108.6 139.7 L 108.1 139.7 L 108.1 137.7 L 105.9 137.7 L 105.9 139.7 L 105.3 139.7 L 105.3 135.4 \" fill=\"#000000\"/>\n",
       "<path class=\"atom-93\" d=\"M 117.0 133.0 L 117.6 133.0 L 117.6 134.8 L 119.8 134.8 L 119.8 133.0 L 120.4 133.0 L 120.4 137.3 L 119.8 137.3 L 119.8 135.3 L 117.6 135.3 L 117.6 137.3 L 117.0 137.3 L 117.0 133.0 \" fill=\"#000000\"/>\n",
       "<path class=\"atom-94\" d=\"M 102.2 132.2 L 102.8 132.2 L 102.8 134.0 L 105.0 134.0 L 105.0 132.2 L 105.6 132.2 L 105.6 136.4 L 105.0 136.4 L 105.0 134.5 L 102.8 134.5 L 102.8 136.4 L 102.2 136.4 L 102.2 132.2 \" fill=\"#000000\"/>\n",
       "<path class=\"atom-95\" d=\"M 97.7 152.9 L 98.3 152.9 L 98.3 154.7 L 100.5 154.7 L 100.5 152.9 L 101.0 152.9 L 101.0 157.2 L 100.5 157.2 L 100.5 155.2 L 98.3 155.2 L 98.3 157.2 L 97.7 157.2 L 97.7 152.9 \" fill=\"#000000\"/>\n",
       "<path class=\"atom-96\" d=\"M 112.4 152.9 L 113.0 152.9 L 113.0 154.7 L 115.2 154.7 L 115.2 152.9 L 115.7 152.9 L 115.7 157.2 L 115.2 157.2 L 115.2 155.2 L 113.0 155.2 L 113.0 157.2 L 112.4 157.2 L 112.4 152.9 \" fill=\"#000000\"/>\n",
       "<path class=\"atom-97\" d=\"M 121.7 156.6 L 122.3 156.6 L 122.3 158.4 L 124.5 158.4 L 124.5 156.6 L 125.0 156.6 L 125.0 160.9 L 124.5 160.9 L 124.5 158.9 L 122.3 158.9 L 122.3 160.9 L 121.7 160.9 L 121.7 156.6 \" fill=\"#000000\"/>\n",
       "<path class=\"atom-98\" d=\"M 111.2 148.3 L 111.8 148.3 L 111.8 150.1 L 114.0 150.1 L 114.0 148.3 L 114.6 148.3 L 114.6 152.6 L 114.0 152.6 L 114.0 150.6 L 111.8 150.6 L 111.8 152.6 L 111.2 152.6 L 111.2 148.3 \" fill=\"#000000\"/>\n",
       "<path class=\"atom-99\" d=\"M 80.7 140.9 L 81.3 140.9 L 81.3 142.7 L 83.4 142.7 L 83.4 140.9 L 84.0 140.9 L 84.0 145.1 L 83.4 145.1 L 83.4 143.2 L 81.3 143.2 L 81.3 145.1 L 80.7 145.1 L 80.7 140.9 \" fill=\"#000000\"/>\n",
       "<path class=\"atom-100\" d=\"M 78.4 135.3 L 79.0 135.3 L 79.0 137.1 L 81.2 137.1 L 81.2 135.3 L 81.7 135.3 L 81.7 139.5 L 81.2 139.5 L 81.2 137.6 L 79.0 137.6 L 79.0 139.5 L 78.4 139.5 L 78.4 135.3 \" fill=\"#000000\"/>\n",
       "<path class=\"atom-101\" d=\"M 62.6 152.1 L 63.2 152.1 L 63.2 153.9 L 65.4 153.9 L 65.4 152.1 L 66.0 152.1 L 66.0 156.4 L 65.4 156.4 L 65.4 154.4 L 63.2 154.4 L 63.2 156.4 L 62.6 156.4 L 62.6 152.1 \" fill=\"#000000\"/>\n",
       "<path class=\"atom-102\" d=\"M 40.2 156.8 L 40.7 156.8 L 40.7 158.6 L 42.9 158.6 L 42.9 156.8 L 43.5 156.8 L 43.5 161.0 L 42.9 161.0 L 42.9 159.1 L 40.7 159.1 L 40.7 161.0 L 40.2 161.0 L 40.2 156.8 \" fill=\"#000000\"/>\n",
       "<path class=\"atom-103\" d=\"M 24.4 148.9 L 25.0 148.9 L 25.0 150.7 L 27.2 150.7 L 27.2 148.9 L 27.8 148.9 L 27.8 153.1 L 27.2 153.1 L 27.2 151.2 L 25.0 151.2 L 25.0 153.1 L 24.4 153.1 L 24.4 148.9 \" fill=\"#000000\"/>\n",
       "<path class=\"atom-104\" d=\"M 22.6 135.4 L 23.1 135.4 L 23.1 137.2 L 25.3 137.2 L 25.3 135.4 L 25.9 135.4 L 25.9 139.7 L 25.3 139.7 L 25.3 137.7 L 23.1 137.7 L 23.1 139.7 L 22.6 139.7 L 22.6 135.4 \" fill=\"#000000\"/>\n",
       "<path class=\"atom-105\" d=\"M 40.4 123.1 L 41.0 123.1 L 41.0 124.9 L 43.2 124.9 L 43.2 123.1 L 43.8 123.1 L 43.8 127.4 L 43.2 127.4 L 43.2 125.4 L 41.0 125.4 L 41.0 127.4 L 40.4 127.4 L 40.4 123.1 \" fill=\"#000000\"/>\n",
       "<path class=\"atom-106\" d=\"M 59.8 124.4 L 60.4 124.4 L 60.4 126.3 L 62.5 126.3 L 62.5 124.4 L 63.1 124.4 L 63.1 128.7 L 62.5 128.7 L 62.5 126.7 L 60.4 126.7 L 60.4 128.7 L 59.8 128.7 L 59.8 124.4 \" fill=\"#000000\"/>\n",
       "<path class=\"atom-107\" d=\"M 52.2 96.0 L 52.7 96.0 L 52.7 97.8 L 54.9 97.8 L 54.9 96.0 L 55.5 96.0 L 55.5 100.2 L 54.9 100.2 L 54.9 98.3 L 52.7 98.3 L 52.7 100.2 L 52.2 100.2 L 52.2 96.0 \" fill=\"#000000\"/>\n",
       "<path class=\"atom-108\" d=\"M 47.2 88.3 L 47.8 88.3 L 47.8 90.1 L 49.9 90.1 L 49.9 88.3 L 50.5 88.3 L 50.5 92.5 L 49.9 92.5 L 49.9 90.6 L 47.8 90.6 L 47.8 92.5 L 47.2 92.5 L 47.2 88.3 \" fill=\"#000000\"/>\n",
       "<path class=\"atom-109\" d=\"M 35.9 98.4 L 36.4 98.4 L 36.4 100.2 L 38.6 100.2 L 38.6 98.4 L 39.2 98.4 L 39.2 102.6 L 38.6 102.6 L 38.6 100.6 L 36.4 100.6 L 36.4 102.6 L 35.9 102.6 L 35.9 98.4 \" fill=\"#000000\"/>\n",
       "<path class=\"atom-110\" d=\"M 21.0 115.0 L 21.6 115.0 L 21.6 116.8 L 23.8 116.8 L 23.8 115.0 L 24.4 115.0 L 24.4 119.3 L 23.8 119.3 L 23.8 117.3 L 21.6 117.3 L 21.6 119.3 L 21.0 119.3 L 21.0 115.0 \" fill=\"#000000\"/>\n",
       "<path class=\"atom-111\" d=\"M 32.1 133.7 L 32.7 133.7 L 32.7 135.5 L 34.9 135.5 L 34.9 133.7 L 35.4 133.7 L 35.4 137.9 L 34.9 137.9 L 34.9 136.0 L 32.7 136.0 L 32.7 137.9 L 32.1 137.9 L 32.1 133.7 \" fill=\"#000000\"/>\n",
       "<path class=\"atom-112\" d=\"M 47.0 117.0 L 47.6 117.0 L 47.6 118.8 L 49.7 118.8 L 49.7 117.0 L 50.3 117.0 L 50.3 121.3 L 49.7 121.3 L 49.7 119.3 L 47.6 119.3 L 47.6 121.3 L 47.0 121.3 L 47.0 117.0 \" fill=\"#000000\"/>\n",
       "<path class=\"atom-113\" d=\"M 8.9 134.4 L 9.5 134.4 L 9.5 136.2 L 11.7 136.2 L 11.7 134.4 L 12.3 134.4 L 12.3 138.6 L 11.7 138.6 L 11.7 136.7 L 9.5 136.7 L 9.5 138.6 L 8.9 138.6 L 8.9 134.4 \" fill=\"#000000\"/>\n",
       "<path class=\"atom-114\" d=\"M 72.2 59.9 L 72.8 59.9 L 72.8 61.7 L 75.0 61.7 L 75.0 59.9 L 75.5 59.9 L 75.5 64.1 L 75.0 64.1 L 75.0 62.1 L 72.8 62.1 L 72.8 64.1 L 72.2 64.1 L 72.2 59.9 \" fill=\"#000000\"/>\n",
       "<path class=\"atom-115\" d=\"M 53.6 54.4 L 54.2 54.4 L 54.2 56.2 L 56.4 56.2 L 56.4 54.4 L 57.0 54.4 L 57.0 58.6 L 56.4 58.6 L 56.4 56.7 L 54.2 56.7 L 54.2 58.6 L 53.6 58.6 L 53.6 54.4 \" fill=\"#000000\"/>\n",
       "<path class=\"atom-116\" d=\"M 59.0 43.3 L 59.5 43.3 L 59.5 45.1 L 61.7 45.1 L 61.7 43.3 L 62.3 43.3 L 62.3 47.6 L 61.7 47.6 L 61.7 45.6 L 59.5 45.6 L 59.5 47.6 L 59.0 47.6 L 59.0 43.3 \" fill=\"#000000\"/>\n",
       "<path class=\"atom-117\" d=\"M 44.4 39.0 L 44.9 39.0 L 44.9 40.8 L 47.1 40.8 L 47.1 39.0 L 47.7 39.0 L 47.7 43.2 L 47.1 43.2 L 47.1 41.3 L 44.9 41.3 L 44.9 43.2 L 44.4 43.2 L 44.4 39.0 \" fill=\"#000000\"/>\n",
       "<path class=\"atom-118\" d=\"M 60.2 55.4 L 60.8 55.4 L 60.8 57.2 L 63.0 57.2 L 63.0 55.4 L 63.6 55.4 L 63.6 59.6 L 63.0 59.6 L 63.0 57.7 L 60.8 57.7 L 60.8 59.6 L 60.2 59.6 L 60.2 55.4 \" fill=\"#000000\"/>\n",
       "<path class=\"atom-119\" d=\"M 50.8 58.9 L 51.4 58.9 L 51.4 60.7 L 53.6 60.7 L 53.6 58.9 L 54.1 58.9 L 54.1 63.2 L 53.6 63.2 L 53.6 61.2 L 51.4 61.2 L 51.4 63.2 L 50.8 63.2 L 50.8 58.9 \" fill=\"#000000\"/>\n",
       "<path class=\"atom-120\" d=\"M 29.0 54.4 L 29.6 54.4 L 29.6 56.2 L 31.7 56.2 L 31.7 54.4 L 32.3 54.4 L 32.3 58.7 L 31.7 58.7 L 31.7 56.7 L 29.6 56.7 L 29.6 58.7 L 29.0 58.7 L 29.0 54.4 \" fill=\"#000000\"/>\n",
       "<path class=\"atom-121\" d=\"M 17.2 46.8 L 17.8 46.8 L 17.8 48.6 L 19.9 48.6 L 19.9 46.8 L 20.5 46.8 L 20.5 51.0 L 19.9 51.0 L 19.9 49.1 L 17.8 49.1 L 17.8 51.0 L 17.2 51.0 L 17.2 46.8 \" fill=\"#000000\"/>\n",
       "<path class=\"atom-122\" d=\"M 26.2 43.2 L 26.8 43.2 L 26.8 45.0 L 29.0 45.0 L 29.0 43.2 L 29.5 43.2 L 29.5 47.4 L 29.0 47.4 L 29.0 45.4 L 26.8 45.4 L 26.8 47.4 L 26.2 47.4 L 26.2 43.2 \" fill=\"#000000\"/>\n",
       "<path class=\"atom-123\" d=\"M 33.2 63.1 L 33.8 63.1 L 33.8 64.9 L 36.0 64.9 L 36.0 63.1 L 36.6 63.1 L 36.6 67.3 L 36.0 67.3 L 36.0 65.4 L 33.8 65.4 L 33.8 67.3 L 33.2 67.3 L 33.2 63.1 \" fill=\"#000000\"/>\n",
       "<path class=\"atom-124\" d=\"M 35.7 66.8 L 36.3 66.8 L 36.3 68.6 L 38.5 68.6 L 38.5 66.8 L 39.0 66.8 L 39.0 71.0 L 38.5 71.0 L 38.5 69.0 L 36.3 69.0 L 36.3 71.0 L 35.7 71.0 L 35.7 66.8 \" fill=\"#000000\"/>\n",
       "<path class=\"atom-125\" d=\"M 126.3 64.7 L 126.9 64.7 L 126.9 66.5 L 129.1 66.5 L 129.1 64.7 L 129.6 64.7 L 129.6 69.0 L 129.1 69.0 L 129.1 67.0 L 126.9 67.0 L 126.9 69.0 L 126.3 69.0 L 126.3 64.7 \" fill=\"#000000\"/>\n",
       "<path class=\"atom-126\" d=\"M 132.8 58.8 L 133.4 58.8 L 133.4 60.6 L 135.5 60.6 L 135.5 58.8 L 136.1 58.8 L 136.1 63.0 L 135.5 63.0 L 135.5 61.1 L 133.4 61.1 L 133.4 63.0 L 132.8 63.0 L 132.8 58.8 \" fill=\"#000000\"/>\n",
       "<path class=\"atom-127\" d=\"M 117.1 56.8 L 117.7 56.8 L 117.7 58.6 L 119.8 58.6 L 119.8 56.8 L 120.4 56.8 L 120.4 61.1 L 119.8 61.1 L 119.8 59.1 L 117.7 59.1 L 117.7 61.1 L 117.1 61.1 L 117.1 56.8 \" fill=\"#000000\"/>\n",
       "<path class=\"atom-128\" d=\"M 120.0 75.4 L 120.5 75.4 L 120.5 77.2 L 122.7 77.2 L 122.7 75.4 L 123.3 75.4 L 123.3 79.7 L 122.7 79.7 L 122.7 77.7 L 120.5 77.7 L 120.5 79.7 L 120.0 79.7 L 120.0 75.4 \" fill=\"#000000\"/>\n",
       "<path class=\"atom-129\" d=\"M 134.1 81.8 L 134.7 81.8 L 134.7 83.6 L 136.8 83.6 L 136.8 81.8 L 137.4 81.8 L 137.4 86.0 L 136.8 86.0 L 136.8 84.1 L 134.7 84.1 L 134.7 86.0 L 134.1 86.0 L 134.1 81.8 \" fill=\"#000000\"/>\n",
       "<path class=\"atom-130\" d=\"M 131.3 65.2 L 131.9 65.2 L 131.9 67.0 L 134.1 67.0 L 134.1 65.2 L 134.6 65.2 L 134.6 69.4 L 134.1 69.4 L 134.1 67.5 L 131.9 67.5 L 131.9 69.4 L 131.3 69.4 L 131.3 65.2 \" fill=\"#000000\"/>\n",
       "<path class=\"atom-131\" d=\"M 149.2 72.9 L 149.8 72.9 L 149.8 74.7 L 152.0 74.7 L 152.0 72.9 L 152.5 72.9 L 152.5 77.2 L 152.0 77.2 L 152.0 75.2 L 149.8 75.2 L 149.8 77.2 L 149.2 77.2 L 149.2 72.9 \" fill=\"#000000\"/>\n",
       "<path class=\"atom-132\" d=\"M 156.1 67.8 L 156.7 67.8 L 156.7 69.6 L 158.8 69.6 L 158.8 67.8 L 159.4 67.8 L 159.4 72.1 L 158.8 72.1 L 158.8 70.1 L 156.7 70.1 L 156.7 72.1 L 156.1 72.1 L 156.1 67.8 \" fill=\"#000000\"/>\n",
       "<path class=\"atom-133\" d=\"M 167.4 85.9 L 168.0 85.9 L 168.0 87.7 L 170.2 87.7 L 170.2 85.9 L 170.8 85.9 L 170.8 90.1 L 170.2 90.1 L 170.2 88.2 L 168.0 88.2 L 168.0 90.1 L 167.4 90.1 L 167.4 85.9 \" fill=\"#000000\"/>\n",
       "<path class=\"atom-134\" d=\"M 182.1 79.6 L 182.6 79.6 L 182.6 81.4 L 184.8 81.4 L 184.8 79.6 L 185.4 79.6 L 185.4 83.8 L 184.8 83.8 L 184.8 81.8 L 182.6 81.8 L 182.6 83.8 L 182.1 83.8 L 182.1 79.6 \" fill=\"#000000\"/>\n",
       "<path class=\"atom-135\" d=\"M 187.7 69.4 L 188.3 69.4 L 188.3 71.2 L 190.5 71.2 L 190.5 69.4 L 191.1 69.4 L 191.1 73.7 L 190.5 73.7 L 190.5 71.7 L 188.3 71.7 L 188.3 73.7 L 187.7 73.7 L 187.7 69.4 \" fill=\"#000000\"/>\n",
       "<path class=\"atom-136\" d=\"M 175.9 64.6 L 176.4 64.6 L 176.4 66.4 L 178.6 66.4 L 178.6 64.6 L 179.2 64.6 L 179.2 68.9 L 178.6 68.9 L 178.6 66.9 L 176.4 66.9 L 176.4 68.9 L 175.9 68.9 L 175.9 64.6 \" fill=\"#000000\"/>\n",
       "<path class=\"atom-137\" d=\"M 177.4 84.7 L 178.0 84.7 L 178.0 86.5 L 180.1 86.5 L 180.1 84.7 L 180.7 84.7 L 180.7 89.0 L 180.1 89.0 L 180.1 87.0 L 178.0 87.0 L 178.0 89.0 L 177.4 89.0 L 177.4 84.7 \" fill=\"#000000\"/>\n",
       "<path class=\"atom-138\" d=\"M 168.9 42.5 L 169.5 42.5 L 169.5 44.3 L 171.7 44.3 L 171.7 42.5 L 172.3 42.5 L 172.3 46.8 L 171.7 46.8 L 171.7 44.8 L 169.5 44.8 L 169.5 46.8 L 168.9 46.8 L 168.9 42.5 \" fill=\"#000000\"/>\n",
       "<path class=\"atom-139\" d=\"M 179.3 48.5 L 179.8 48.5 L 179.8 50.3 L 182.0 50.3 L 182.0 48.5 L 182.6 48.5 L 182.6 52.8 L 182.0 52.8 L 182.0 50.8 L 179.8 50.8 L 179.8 52.8 L 179.3 52.8 L 179.3 48.5 \" fill=\"#000000\"/>\n",
       "<path class=\"atom-140\" d=\"M 144.4 134.4 L 145.0 134.4 L 145.0 136.2 L 147.1 136.2 L 147.1 134.4 L 147.7 134.4 L 147.7 138.7 L 147.1 138.7 L 147.1 136.7 L 145.0 136.7 L 145.0 138.7 L 144.4 138.7 L 144.4 134.4 \" fill=\"#000000\"/>\n",
       "<path class=\"atom-1\" d=\"M 135.5,121.6 L 135.5,123.4 L 137.3,123.4 L 137.3,121.6 L 135.5,121.6\" style=\"fill:none;stroke:#FF0000;stroke-width:2.0px;stroke-linecap:butt;stroke-linejoin:miter;stroke-opacity:1;\"/>\n",
       "<path class=\"atom-2\" d=\"M 124.2,115.3 L 124.2,117.1 L 126.0,117.1 L 126.0,115.3 L 124.2,115.3\" style=\"fill:none;stroke:#FF0000;stroke-width:2.0px;stroke-linecap:butt;stroke-linejoin:miter;stroke-opacity:1;\"/>\n",
       "<path class=\"atom-3\" d=\"M 121.8,103.8 L 121.8,105.6 L 123.6,105.6 L 123.6,103.8 L 121.8,103.8\" style=\"fill:none;stroke:#FF0000;stroke-width:2.0px;stroke-linecap:butt;stroke-linejoin:miter;stroke-opacity:1;\"/>\n",
       "<path class=\"atom-7\" d=\"M 123.2,76.3 L 123.2,78.1 L 125.0,78.1 L 125.0,76.3 L 123.2,76.3\" style=\"fill:none;stroke:#FF0000;stroke-width:2.0px;stroke-linecap:butt;stroke-linejoin:miter;stroke-opacity:1;\"/>\n",
       "<path class=\"atom-10\" d=\"M 86.7,81.8 L 86.7,83.6 L 88.5,83.6 L 88.5,81.8 L 86.7,81.8\" style=\"fill:none;stroke:#FF0000;stroke-width:2.0px;stroke-linecap:butt;stroke-linejoin:miter;stroke-opacity:1;\"/>\n",
       "<path class=\"atom-11\" d=\"M 74.3,80.3 L 74.3,82.1 L 76.1,82.1 L 76.1,80.3 L 74.3,80.3\" style=\"fill:none;stroke:#FF0000;stroke-width:2.0px;stroke-linecap:butt;stroke-linejoin:miter;stroke-opacity:1;\"/>\n",
       "<path class=\"atom-14\" d=\"M 71.7,90.2 L 71.7,92.0 L 73.5,92.0 L 73.5,90.2 L 71.7,90.2\" style=\"fill:none;stroke:#FF0000;stroke-width:2.0px;stroke-linecap:butt;stroke-linejoin:miter;stroke-opacity:1;\"/>\n",
       "<path class=\"atom-15\" d=\"M 64.2,100.4 L 64.2,102.3 L 66.0,102.3 L 66.0,100.4 L 64.2,100.4\" style=\"fill:none;stroke:#FF0000;stroke-width:2.0px;stroke-linecap:butt;stroke-linejoin:miter;stroke-opacity:1;\"/>\n",
       "<path class=\"atom-16\" d=\"M 69.2,111.3 L 69.2,113.1 L 71.0,113.1 L 71.0,111.3 L 69.2,111.3\" style=\"fill:none;stroke:#FF0000;stroke-width:2.0px;stroke-linecap:butt;stroke-linejoin:miter;stroke-opacity:1;\"/>\n",
       "<path class=\"atom-22\" d=\"M 96.8,113.8 L 96.8,115.6 L 98.6,115.6 L 98.6,113.8 L 96.8,113.8\" style=\"fill:none;stroke:#FF0000;stroke-width:2.0px;stroke-linecap:butt;stroke-linejoin:miter;stroke-opacity:1;\"/>\n",
       "<path class=\"atom-27\" d=\"M 102.2,132.6 L 102.2,134.5 L 104.0,134.5 L 104.0,132.6 L 102.2,132.6\" style=\"fill:none;stroke:#FF0000;stroke-width:2.0px;stroke-linecap:butt;stroke-linejoin:miter;stroke-opacity:1;\"/>\n",
       "<path class=\"atom-28\" d=\"M 108.3,137.0 L 108.3,138.8 L 110.2,138.8 L 110.2,137.0 L 108.3,137.0\" style=\"fill:none;stroke:#FF0000;stroke-width:2.0px;stroke-linecap:butt;stroke-linejoin:miter;stroke-opacity:1;\"/>\n",
       "<path class=\"atom-30\" d=\"M 113.8,154.9 L 113.8,156.7 L 115.6,156.7 L 115.6,154.9 L 113.8,154.9\" style=\"fill:none;stroke:#FF0000;stroke-width:2.0px;stroke-linecap:butt;stroke-linejoin:miter;stroke-opacity:1;\"/>\n",
       "<path class=\"atom-37\" d=\"M 31.8,137.2 L 31.8,139.0 L 33.6,139.0 L 33.6,137.2 L 31.8,137.2\" style=\"fill:none;stroke:#FF0000;stroke-width:2.0px;stroke-linecap:butt;stroke-linejoin:miter;stroke-opacity:1;\"/>\n",
       "<path class=\"atom-41\" d=\"M 51.9,98.0 L 51.9,99.8 L 53.7,99.8 L 53.7,98.0 L 51.9,98.0\" style=\"fill:none;stroke:#FF0000;stroke-width:2.0px;stroke-linecap:butt;stroke-linejoin:miter;stroke-opacity:1;\"/>\n",
       "<path class=\"atom-52\" d=\"M 50.0,58.2 L 50.0,60.1 L 51.8,60.1 L 51.8,58.2 L 50.0,58.2\" style=\"fill:none;stroke:#FF0000;stroke-width:2.0px;stroke-linecap:butt;stroke-linejoin:miter;stroke-opacity:1;\"/>\n",
       "<path class=\"atom-61\" d=\"M 125.5,64.5 L 125.5,66.3 L 127.3,66.3 L 127.3,64.5 L 125.5,64.5\" style=\"fill:none;stroke:#FF0000;stroke-width:2.0px;stroke-linecap:butt;stroke-linejoin:miter;stroke-opacity:1;\"/>\n",
       "<path class=\"atom-63\" d=\"M 139.8,80.6 L 139.8,82.4 L 141.6,82.4 L 141.6,80.6 L 139.8,80.6\" style=\"fill:none;stroke:#FF0000;stroke-width:2.0px;stroke-linecap:butt;stroke-linejoin:miter;stroke-opacity:1;\"/>\n",
       "<path class=\"atom-65\" d=\"M 149.6,74.8 L 149.6,76.6 L 151.4,76.6 L 151.4,74.8 L 149.6,74.8\" style=\"fill:none;stroke:#FF0000;stroke-width:2.0px;stroke-linecap:butt;stroke-linejoin:miter;stroke-opacity:1;\"/>\n",
       "<path class=\"atom-66\" d=\"M 159.3,69.5 L 159.3,71.3 L 161.1,71.3 L 161.1,69.5 L 159.3,69.5\" style=\"fill:none;stroke:#FF0000;stroke-width:2.0px;stroke-linecap:butt;stroke-linejoin:miter;stroke-opacity:1;\"/>\n",
       "<path class=\"atom-75\" d=\"M 148.9,108.9 L 148.9,110.7 L 150.7,110.7 L 150.7,108.9 L 148.9,108.9\" style=\"fill:none;stroke:#FF0000;stroke-width:2.0px;stroke-linecap:butt;stroke-linejoin:miter;stroke-opacity:1;\"/>\n",
       "</svg>"
      ],
      "text/plain": [
       "<IPython.core.display.SVG object>"
      ]
     },
     "metadata": {},
     "output_type": "display_data"
    }
   ],
   "source": [
    "nput_type, mol = pp.load_molecule('CC(C1C(=O)NC(C(SSCC(C(=O)NC(C(=O)NC(C(=O)NC(C(=O)N1)CCCN)CC2=CNC3=CC=CC=C32)CC4=CC=C(C=C4)O)NC(=O)C(CC5=CC=CC=C5)N)(C)C)C(=O)NC(C(C)O)C(=O)N)O')\n",
    "mol = pp.predict_3d_conformation(mol)\n",
    "pp.plot_molecule(mol, w=200, h=200, isdisplay=True)"
   ]
  },
  {
   "cell_type": "markdown",
   "id": "28e3a140-c042-4453-a8a2-1706d2b67b04",
   "metadata": {},
   "source": [
    "# 5. Peptide sequence format conversion"
   ]
  },
  {
   "cell_type": "code",
   "execution_count": 9,
   "id": "dd5b8a3e-ed8b-4aa0-b051-de05f02dc002",
   "metadata": {},
   "outputs": [
    {
     "name": "stdout",
     "output_type": "stream",
     "text": [
      "['DL-Cys', 'DL-Cys', 'DL-Val', 'DL-Leu', 'DL-xiIle'] [(0, 1), (0, 4)]\n",
      "True\n"
     ]
    },
    {
     "data": {
      "text/plain": [
       "{'iupac_condensed': 'cyclo[DL-Cys(1)-DL-Cys(1)-DL-Val-DL-Leu-DL-xiIle]',\n",
       " 'amino_acid_chain': 'DL-Cys(1)(2)--DL-Cys(1)--DL-Val--DL-Leu--DL-xiIle(2)',\n",
       " 'graph_presentation': 'DL-Cys,DL-Cys,DL-Val,DL-Leu,DL-xiIle @0,1 @0,4',\n",
       " 'one_character_peptide': None}"
      ]
     },
     "execution_count": 9,
     "metadata": {},
     "output_type": "execute_result"
    }
   ],
   "source": [
    "sequence = 'cyclo[DL-Cys(1)-DL-Cys(1)-DL-Val-DL-Leu-DL-xiIle]' # IUPAC_condensed\n",
    "type, nodes, edges = pp.read_sequence(sequence)\n",
    "print(nodes, edges)\n",
    "sequences = pp.create_sequence(nodes, edges)\n",
    "print(sequences['iupac_condensed']==sequence)\n",
    "sequences"
   ]
  },
  {
   "cell_type": "code",
   "execution_count": 10,
   "id": "d10e4c68-45f7-48a7-999a-c83bdd3502b1",
   "metadata": {},
   "outputs": [
    {
     "name": "stdout",
     "output_type": "stream",
     "text": [
      "['Unk-Dab', 'DL-Thr', 'Dab', 'Dab', 'Dab', 'D-Leu', 'xiIle', 'Dab', 'D-Dab', 'xiThr'] [(3, 9)]\n",
      "True\n"
     ]
    },
    {
     "data": {
      "text/plain": [
       "{'iupac_condensed': 'Unk-Dab-DL-Thr-Dab-Dab(1)-Dab-D-Leu-xiIle-Dab-D-Dab-xiThr(1)',\n",
       " 'amino_acid_chain': 'Unk-Dab--DL-Thr--Dab--Dab(1)--Dab--D-Leu--xiIle--Dab--D-Dab--xiThr(1)',\n",
       " 'graph_presentation': 'Unk-Dab,DL-Thr,Dab,Dab,Dab,D-Leu,xiIle,Dab,D-Dab,xiThr @3,9',\n",
       " 'one_character_peptide': None}"
      ]
     },
     "execution_count": 10,
     "metadata": {},
     "output_type": "execute_result"
    }
   ],
   "source": [
    "sequence = 'Unk-Dab-DL-Thr-Dab-Dab(1)-Dab-D-Leu-xiIle-Dab-D-Dab-xiThr(1)' # IUPAC_condensed\n",
    "type, nodes, edges = pp.read_sequence(sequence)\n",
    "print(nodes, edges)\n",
    "sequences = pp.create_sequence(nodes, edges)\n",
    "print(sequences['iupac_condensed']==sequence)\n",
    "sequences"
   ]
  },
  {
   "cell_type": "code",
   "execution_count": 11,
   "id": "addb59e1-8c6e-47a3-bf25-7480bfd031c2",
   "metadata": {},
   "outputs": [
    {
     "name": "stdout",
     "output_type": "stream",
     "text": [
      "['DL-N(Me)Ala', 'DL-Leu', 'N(Me)Phe(a,b-dehydro)', 'Gly'] [(0, 3)]\n",
      "True\n"
     ]
    },
    {
     "data": {
      "text/plain": [
       "{'iupac_condensed': 'cyclo[DL-N(Me)Ala-DL-Leu-N(Me)Phe(a,b-dehydro)-Gly]',\n",
       " 'amino_acid_chain': 'DL-N(Me)Ala(1)--DL-Leu--N(Me)Phe(a,b-dehydro)--Gly(1)',\n",
       " 'graph_presentation': 'DL-N(Me)Ala,DL-Leu,N(Me)Phe(a,b-dehydro),Gly @0,3',\n",
       " 'one_character_peptide': None}"
      ]
     },
     "execution_count": 11,
     "metadata": {},
     "output_type": "execute_result"
    }
   ],
   "source": [
    "sequence = 'cyclo[DL-N(Me)Ala-DL-Leu-N(Me)Phe(a,b-dehydro)-Gly]' # IUPAC_condensed\n",
    "type, nodes, edges = pp.read_sequence(sequence)\n",
    "print(nodes, edges)\n",
    "sequences = pp.create_sequence(nodes, edges)\n",
    "print(sequences['iupac_condensed']==sequence)\n",
    "sequences"
   ]
  },
  {
   "cell_type": "code",
   "execution_count": 12,
   "id": "34edea31-12ab-43bb-a8b9-db4edbe521e5",
   "metadata": {},
   "outputs": [
    {
     "name": "stdout",
     "output_type": "stream",
     "text": [
      "['Gly', 'Cys', 'Asn', '4OH-Pro', 'Ile', 'Trp', 'Gly', 'Ile'] [(0, 7), (1, 5)]\n",
      "True\n"
     ]
    },
    {
     "data": {
      "text/plain": [
       "{'iupac_condensed': 'cyclo[Gly-Cys(1)-Asn-4OH-Pro-Ile-Trp(1)-Gly-Ile]',\n",
       " 'amino_acid_chain': 'Gly(1)--Cys(2)--Asn--4OH-Pro--Ile--Trp(2)--Gly--Ile(1)',\n",
       " 'graph_presentation': 'Gly,Cys,Asn,4OH-Pro,Ile,Trp,Gly,Ile @0,7 @1,5',\n",
       " 'one_character_peptide': None}"
      ]
     },
     "execution_count": 12,
     "metadata": {},
     "output_type": "execute_result"
    }
   ],
   "source": [
    "sequence = 'Gly(1)--Cys(2)--Asn--4OH-Pro--Ile--Trp(2)--Gly--Ile(1)' # Amino_acid_chain\n",
    "type, nodes, edges = pp.read_sequence(sequence)\n",
    "print(nodes, edges)\n",
    "sequences = pp.create_sequence(nodes, edges)\n",
    "print(sequences['amino_acid_chain']==sequence)\n",
    "sequences"
   ]
  },
  {
   "cell_type": "code",
   "execution_count": 13,
   "id": "e3c0f505-aebf-4cbf-8602-e3863de24ac6",
   "metadata": {},
   "outputs": [
    {
     "data": {
      "text/plain": [
       "{'iupac_condensed': 'Gly-Cys-Asn-Pro-Ile-Trp-Gly-Ile',\n",
       " 'amino_acid_chain': 'Gly--Cys--Asn--Pro--Ile--Trp--Gly--Ile',\n",
       " 'graph_presentation': 'Gly,Cys,Asn,Pro,Ile,Trp,Gly,Ile',\n",
       " 'one_character_peptide': 'GCNPIWGI'}"
      ]
     },
     "execution_count": 13,
     "metadata": {},
     "output_type": "execute_result"
    }
   ],
   "source": [
    "nodes = ['Gly', 'Cys', 'Asn', 'Pro', 'Ile', 'Trp', 'Gly', 'Ile']\n",
    "pp.create_sequence(nodes, edges=[])"
   ]
  },
  {
   "cell_type": "code",
   "execution_count": 14,
   "id": "e551df5c-bda7-4b2b-b979-6ec19671f366",
   "metadata": {},
   "outputs": [
    {
     "name": "stdout",
     "output_type": "stream",
     "text": [
      "['PHE', 'CYS', 'TYR', 'TRP', 'ALA', 'THR', 'CYS', 'THR'] []\n",
      "True\n"
     ]
    },
    {
     "data": {
      "text/plain": [
       "{'iupac_condensed': 'PHE-CYS-TYR-TRP-ALA-THR-CYS-THR',\n",
       " 'amino_acid_chain': 'PHE--CYS--TYR--TRP--ALA--THR--CYS--THR',\n",
       " 'graph_presentation': 'PHE,CYS,TYR,TRP,ALA,THR,CYS,THR',\n",
       " 'one_character_peptide': 'FCYWATCT'}"
      ]
     },
     "execution_count": 14,
     "metadata": {},
     "output_type": "execute_result"
    }
   ],
   "source": [
    "sequence = 'FCYWATCT'\n",
    "type, nodes, edges = pp.read_sequence(sequence)\n",
    "print(nodes, edges)\n",
    "sequences = pp.create_sequence(nodes, edges)\n",
    "print(sequences['one_character_peptide']==sequence)\n",
    "sequences"
   ]
  },
  {
   "cell_type": "markdown",
   "id": "646f33d9-9819-4f95-8a31-cf9624ee4874",
   "metadata": {},
   "source": [
    "## Issue of graph representation in Norine\n",
    "\n",
    "Norine's graph representation is different from the graph representation defined by CyclicPepedia. In Norine, the number of <code>@</code> is the same as the number of amino acids, such as the 5th <code>@A,B</code> where indicates that the corresponding amino acid at position 5 is connected to amino acids A and B; In CyclicPepedia, <code>@A,B</code> indicate that amino acid A and amino acid B have chain connected;"
   ]
  },
  {
   "cell_type": "code",
   "execution_count": 15,
   "id": "bb43d873-35c0-4647-8f46-e4a0a3438731",
   "metadata": {},
   "outputs": [
    {
     "name": "stdout",
     "output_type": "stream",
     "text": [
      "['Ser', 'C8:2(5.7)-Me(6)-OH(4)-NH2(3)-Ph(8)', 'Phe', 'Ser', 'aThr', 'His', 'Aad', 'Iser', 'bMe-Br-Phe', 'OH-Asn', 'Asn', 'Ala', 'bD-Gal'] [(11, 1), (0, 2), (1, 3), (2, 4), (3, 5), (4, 6, 11, 12), (5, 7), (6, 8), (7, 9), (8, 10), (9, 11), (0, 10, 5), (5,)]\n",
      "True\n"
     ]
    },
    {
     "data": {
      "text/plain": [
       "{'iupac_condensed': None,\n",
       " 'amino_acid_chain': None,\n",
       " 'graph_presentation': 'Ser,C8:2(5.7)-Me(6)-OH(4)-NH2(3)-Ph(8),Phe,Ser,aThr,His,Aad,Iser,bMe-Br-Phe,OH-Asn,Asn,Ala,bD-Gal @11,1 @0,2 @1,3 @2,4 @3,5 @4,6,11,12 @5,7 @6,8 @7,9 @8,10 @9,11 @0,10,5 @5',\n",
       " 'one_character_peptide': None}"
      ]
     },
     "execution_count": 15,
     "metadata": {},
     "output_type": "execute_result"
    }
   ],
   "source": [
    "sequence = 'Ser,C8:2(5.7)-Me(6)-OH(4)-NH2(3)-Ph(8),Phe,Ser,aThr,His,Aad,Iser,bMe-Br-Phe,OH-Asn,Asn,Ala,bD-Gal @11,1 @0,2 @1,3 @2,4 @3,5 @4,6,11,12 @5,7 @6,8 @7,9 @8,10 @9,11 @0,10,5 @5'\n",
    "type, nodes, edges = pp.read_sequence(sequence)\n",
    "print(nodes, edges)\n",
    "sequences = pp.create_sequence(nodes, edges)\n",
    "print(sequences['graph_presentation']==sequence)\n",
    "sequences"
   ]
  },
  {
   "cell_type": "code",
   "execution_count": 16,
   "id": "51adc5cc-12ab-4128-b9d3-f9d59f6dd0b8",
   "metadata": {},
   "outputs": [
    {
     "name": "stdout",
     "output_type": "stream",
     "text": [
      "['aThr', 'Tyr', 'dhAbu', 'bOH-Gln', 'Gly', 'Gln', 'His', 'Dab', 'C13:2(t4.t6)-OH(2.3)', 'Lyx', 'dhAbu'] [(7, 1), (0, 2, 6), (1, 3), (2, 4), (3, 5), (4, 6), (7, 5, 1), (10, 0, 6), (9, 10), (8,), (8, 7)]\n",
      "True\n"
     ]
    },
    {
     "data": {
      "text/plain": [
       "{'iupac_condensed': None,\n",
       " 'amino_acid_chain': None,\n",
       " 'graph_presentation': 'aThr,Tyr,dhAbu,bOH-Gln,Gly,Gln,His,Dab,C13:2(t4.t6)-OH(2.3),Lyx,dhAbu @7,1 @0,2,6 @1,3 @2,4 @3,5 @4,6 @7,5,1 @10,0,6 @9,10 @8 @8,7',\n",
       " 'one_character_peptide': None}"
      ]
     },
     "execution_count": 16,
     "metadata": {},
     "output_type": "execute_result"
    }
   ],
   "source": [
    "sequence = 'aThr,Tyr,dhAbu,bOH-Gln,Gly,Gln,His,Dab,C13:2(t4.t6)-OH(2.3),Lyx,dhAbu @7,1 @0,2,6 @1,3 @2,4 @3,5 @4,6 @7,5,1 @10,0,6 @9,10 @8 @8,7'\n",
    "type, nodes, edges = pp.read_sequence(sequence)\n",
    "print(nodes, edges)\n",
    "sequences = pp.create_sequence(nodes, edges)\n",
    "print(sequences['graph_presentation']==sequence)\n",
    "sequences"
   ]
  },
  {
   "cell_type": "code",
   "execution_count": 17,
   "id": "af0bb141-eb57-4e92-9571-c3da377876cd",
   "metadata": {},
   "outputs": [
    {
     "name": "stdout",
     "output_type": "stream",
     "text": [
      "['aThr', 'Tyr', 'dhAbu', 'bOH-Gln', 'Gly', 'Gln', 'His', 'Dab', 'C13:2(t4.t6)-OH(2.3)', 'Lyx', 'dhAbu'] [(1, 5), (6, 10), (0, 8)]\n",
      "True\n"
     ]
    },
    {
     "data": {
      "text/plain": [
       "{'iupac_condensed': 'aThr(3)-Tyr(1)-dhAbu-bOH-Gln-Gly-Gln(1)-His(2)-Dab-C13:2(t4.t6)-OH(2.3)(3)-Lyx-dhAbu(2)',\n",
       " 'amino_acid_chain': 'aThr(3)--Tyr(1)--dhAbu--bOH-Gln--Gly--Gln(1)--His(2)--Dab--C13:2(t4.t6)-OH(2.3)(3)--Lyx--dhAbu(2)',\n",
       " 'graph_presentation': 'aThr,Tyr,dhAbu,bOH-Gln,Gly,Gln,His,Dab,C13:2(t4.t6)-OH(2.3),Lyx,dhAbu @1,5 @6,10 @0,8',\n",
       " 'one_character_peptide': None}"
      ]
     },
     "execution_count": 17,
     "metadata": {},
     "output_type": "execute_result"
    }
   ],
   "source": [
    "sequence = 'aThr,Tyr,dhAbu,bOH-Gln,Gly,Gln,His,Dab,C13:2(t4.t6)-OH(2.3),Lyx,dhAbu @1,5 @6,10 @0,8'\n",
    "type, nodes, edges = pp.read_sequence(sequence)\n",
    "print(nodes, edges)\n",
    "sequences = pp.create_sequence(nodes, edges)\n",
    "print(sequences['graph_presentation']==sequence)\n",
    "sequences"
   ]
  },
  {
   "cell_type": "code",
   "execution_count": null,
   "id": "dc9bb990-3b37-420a-b007-0fb55fc9b60f",
   "metadata": {},
   "outputs": [],
   "source": []
  }
 ],
 "metadata": {
  "kernelspec": {
   "display_name": "Python 3 (ipykernel)",
   "language": "python",
   "name": "python3"
  },
  "language_info": {
   "codemirror_mode": {
    "name": "ipython",
    "version": 3
   },
   "file_extension": ".py",
   "mimetype": "text/x-python",
   "name": "python",
   "nbconvert_exporter": "python",
   "pygments_lexer": "ipython3",
   "version": "3.8.12"
  }
 },
 "nbformat": 4,
 "nbformat_minor": 5
}
